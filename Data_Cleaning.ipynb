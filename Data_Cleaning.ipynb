{
  "cells": [
    {
      "cell_type": "markdown",
      "metadata": {
        "id": "view-in-github",
        "colab_type": "text"
      },
      "source": [
        "<a href=\"https://colab.research.google.com/github/IndraniMandal/New-Revisions/blob/main/Data_Cleaning.ipynb\" target=\"_parent\"><img src=\"https://colab.research.google.com/assets/colab-badge.svg\" alt=\"Open In Colab\"/></a>"
      ]
    },
    {
      "cell_type": "markdown",
      "metadata": {
        "id": "0G_0Um8DHbX7"
      },
      "source": [
        "#Data cleaning \n",
        "\n",
        "The original COVID-19 dataset was obtained from [Kaggle](https://www.kaggle.com/code/evanepstein/europe-covid-19-cases-exploratory-analysis/data). Some values were removed to create a dataset for this lesson.\n",
        "\n",
        "Access the messy COVID-19 dataset from my [Github Repo ](https://https://github.com/IndraniMandal/ds-assets/blob/main/assets/messy_covid19_southamerica%20-%20covid19_southamerica.csv)\n",
        "\n",
        "\n",
        "1. Examine the dataset for missing values. \n",
        "\n",
        "2. Which column has the maximum missing value? What % value is missing in that column? Should you keep this column or drop it? Why? \n",
        "\n",
        "3. There are some columns with only a few data points missing. Should you drop these columns too? Why or why not? \n",
        "\n",
        "4. How should you handle these specific data points(particular row)? \n",
        "\n",
        "5. There are some data that has incorrect information like instead of a number they might have strings. How are you handling these data points(rows)? \n",
        "\n",
        "6. After you have cleaned your data, create a plot, or print out the top 10 countries with the most number of confirmed cases.\n",
        "Submission: Dataset after cleaning and Google Colab notebook. "
      ]
    },
    {
      "cell_type": "markdown",
      "source": [
        "#Load Data"
      ],
      "metadata": {
        "id": "MhGojbIpR7wR"
      }
    },
    {
      "cell_type": "code",
      "execution_count": null,
      "metadata": {
        "id": "mfz1W6ltHbX8"
      },
      "outputs": [],
      "source": [
        "import pandas as pd, numpy as np \n",
        "# import csv file as a pandas dataframe\n",
        "df = pd.read_csv('https://raw.githubusercontent.com/IndraniMandal/ds-assets/main/assets/messy_covid19_southamerica%20-%20covid19_southamerica.csv')"
      ]
    },
    {
      "cell_type": "code",
      "execution_count": null,
      "metadata": {
        "id": "p3jd2DGsHbX9",
        "outputId": "67b010ca-e3c9-4a9d-831e-4aa4b99dd91f",
        "colab": {
          "base_uri": "https://localhost:8080/",
          "height": 206
        }
      },
      "outputs": [
        {
          "output_type": "execute_result",
          "data": {
            "text/plain": [
              "  ObservationDate Country_Region Province_State  Confirmed Deaths Recovered  \\\n",
              "0      2020-01-23         Mexico            NaN        0.0      0         0   \n",
              "1      2020-01-23         Brazil            NaN        0.0      0         0   \n",
              "2      2020-01-23       Colombia            NaN        0.0      0         0   \n",
              "3      2020-02-26         Brazil            NaN        1.0      0         0   \n",
              "4      2020-02-26         Brazil            NaN        1.0      0         0   \n",
              "\n",
              "   Active  \n",
              "0     0.0  \n",
              "1     0.0  \n",
              "2     0.0  \n",
              "3     1.0  \n",
              "4     1.0  "
            ],
            "text/html": [
              "\n",
              "  <div id=\"df-3fde6926-a411-4a23-a802-138f579c9954\">\n",
              "    <div class=\"colab-df-container\">\n",
              "      <div>\n",
              "<style scoped>\n",
              "    .dataframe tbody tr th:only-of-type {\n",
              "        vertical-align: middle;\n",
              "    }\n",
              "\n",
              "    .dataframe tbody tr th {\n",
              "        vertical-align: top;\n",
              "    }\n",
              "\n",
              "    .dataframe thead th {\n",
              "        text-align: right;\n",
              "    }\n",
              "</style>\n",
              "<table border=\"1\" class=\"dataframe\">\n",
              "  <thead>\n",
              "    <tr style=\"text-align: right;\">\n",
              "      <th></th>\n",
              "      <th>ObservationDate</th>\n",
              "      <th>Country_Region</th>\n",
              "      <th>Province_State</th>\n",
              "      <th>Confirmed</th>\n",
              "      <th>Deaths</th>\n",
              "      <th>Recovered</th>\n",
              "      <th>Active</th>\n",
              "    </tr>\n",
              "  </thead>\n",
              "  <tbody>\n",
              "    <tr>\n",
              "      <th>0</th>\n",
              "      <td>2020-01-23</td>\n",
              "      <td>Mexico</td>\n",
              "      <td>NaN</td>\n",
              "      <td>0.0</td>\n",
              "      <td>0</td>\n",
              "      <td>0</td>\n",
              "      <td>0.0</td>\n",
              "    </tr>\n",
              "    <tr>\n",
              "      <th>1</th>\n",
              "      <td>2020-01-23</td>\n",
              "      <td>Brazil</td>\n",
              "      <td>NaN</td>\n",
              "      <td>0.0</td>\n",
              "      <td>0</td>\n",
              "      <td>0</td>\n",
              "      <td>0.0</td>\n",
              "    </tr>\n",
              "    <tr>\n",
              "      <th>2</th>\n",
              "      <td>2020-01-23</td>\n",
              "      <td>Colombia</td>\n",
              "      <td>NaN</td>\n",
              "      <td>0.0</td>\n",
              "      <td>0</td>\n",
              "      <td>0</td>\n",
              "      <td>0.0</td>\n",
              "    </tr>\n",
              "    <tr>\n",
              "      <th>3</th>\n",
              "      <td>2020-02-26</td>\n",
              "      <td>Brazil</td>\n",
              "      <td>NaN</td>\n",
              "      <td>1.0</td>\n",
              "      <td>0</td>\n",
              "      <td>0</td>\n",
              "      <td>1.0</td>\n",
              "    </tr>\n",
              "    <tr>\n",
              "      <th>4</th>\n",
              "      <td>2020-02-26</td>\n",
              "      <td>Brazil</td>\n",
              "      <td>NaN</td>\n",
              "      <td>1.0</td>\n",
              "      <td>0</td>\n",
              "      <td>0</td>\n",
              "      <td>1.0</td>\n",
              "    </tr>\n",
              "  </tbody>\n",
              "</table>\n",
              "</div>\n",
              "      <button class=\"colab-df-convert\" onclick=\"convertToInteractive('df-3fde6926-a411-4a23-a802-138f579c9954')\"\n",
              "              title=\"Convert this dataframe to an interactive table.\"\n",
              "              style=\"display:none;\">\n",
              "        \n",
              "  <svg xmlns=\"http://www.w3.org/2000/svg\" height=\"24px\"viewBox=\"0 0 24 24\"\n",
              "       width=\"24px\">\n",
              "    <path d=\"M0 0h24v24H0V0z\" fill=\"none\"/>\n",
              "    <path d=\"M18.56 5.44l.94 2.06.94-2.06 2.06-.94-2.06-.94-.94-2.06-.94 2.06-2.06.94zm-11 1L8.5 8.5l.94-2.06 2.06-.94-2.06-.94L8.5 2.5l-.94 2.06-2.06.94zm10 10l.94 2.06.94-2.06 2.06-.94-2.06-.94-.94-2.06-.94 2.06-2.06.94z\"/><path d=\"M17.41 7.96l-1.37-1.37c-.4-.4-.92-.59-1.43-.59-.52 0-1.04.2-1.43.59L10.3 9.45l-7.72 7.72c-.78.78-.78 2.05 0 2.83L4 21.41c.39.39.9.59 1.41.59.51 0 1.02-.2 1.41-.59l7.78-7.78 2.81-2.81c.8-.78.8-2.07 0-2.86zM5.41 20L4 18.59l7.72-7.72 1.47 1.35L5.41 20z\"/>\n",
              "  </svg>\n",
              "      </button>\n",
              "      \n",
              "  <style>\n",
              "    .colab-df-container {\n",
              "      display:flex;\n",
              "      flex-wrap:wrap;\n",
              "      gap: 12px;\n",
              "    }\n",
              "\n",
              "    .colab-df-convert {\n",
              "      background-color: #E8F0FE;\n",
              "      border: none;\n",
              "      border-radius: 50%;\n",
              "      cursor: pointer;\n",
              "      display: none;\n",
              "      fill: #1967D2;\n",
              "      height: 32px;\n",
              "      padding: 0 0 0 0;\n",
              "      width: 32px;\n",
              "    }\n",
              "\n",
              "    .colab-df-convert:hover {\n",
              "      background-color: #E2EBFA;\n",
              "      box-shadow: 0px 1px 2px rgba(60, 64, 67, 0.3), 0px 1px 3px 1px rgba(60, 64, 67, 0.15);\n",
              "      fill: #174EA6;\n",
              "    }\n",
              "\n",
              "    [theme=dark] .colab-df-convert {\n",
              "      background-color: #3B4455;\n",
              "      fill: #D2E3FC;\n",
              "    }\n",
              "\n",
              "    [theme=dark] .colab-df-convert:hover {\n",
              "      background-color: #434B5C;\n",
              "      box-shadow: 0px 1px 3px 1px rgba(0, 0, 0, 0.15);\n",
              "      filter: drop-shadow(0px 1px 2px rgba(0, 0, 0, 0.3));\n",
              "      fill: #FFFFFF;\n",
              "    }\n",
              "  </style>\n",
              "\n",
              "      <script>\n",
              "        const buttonEl =\n",
              "          document.querySelector('#df-3fde6926-a411-4a23-a802-138f579c9954 button.colab-df-convert');\n",
              "        buttonEl.style.display =\n",
              "          google.colab.kernel.accessAllowed ? 'block' : 'none';\n",
              "\n",
              "        async function convertToInteractive(key) {\n",
              "          const element = document.querySelector('#df-3fde6926-a411-4a23-a802-138f579c9954');\n",
              "          const dataTable =\n",
              "            await google.colab.kernel.invokeFunction('convertToInteractive',\n",
              "                                                     [key], {});\n",
              "          if (!dataTable) return;\n",
              "\n",
              "          const docLinkHtml = 'Like what you see? Visit the ' +\n",
              "            '<a target=\"_blank\" href=https://colab.research.google.com/notebooks/data_table.ipynb>data table notebook</a>'\n",
              "            + ' to learn more about interactive tables.';\n",
              "          element.innerHTML = '';\n",
              "          dataTable['output_type'] = 'display_data';\n",
              "          await google.colab.output.renderOutput(dataTable, element);\n",
              "          const docLink = document.createElement('div');\n",
              "          docLink.innerHTML = docLinkHtml;\n",
              "          element.appendChild(docLink);\n",
              "        }\n",
              "      </script>\n",
              "    </div>\n",
              "  </div>\n",
              "  "
            ]
          },
          "metadata": {},
          "execution_count": 2
        }
      ],
      "source": [
        "df.head()\n"
      ]
    },
    {
      "cell_type": "markdown",
      "source": [
        "## Preprocessing\n",
        "The feature selection process is really important!\n",
        "Too many features can affect model performance! This is called *The Curse of Dimensionality*. Having too many features will also make training the model more time consuming and and more expensive.\n",
        "\n",
        "Too few features and a model may not detect a strong pattern, or any pattern at all, thus leading to poor performances. When doing feature selection, we want to use enough features in our model so it is accurate, but not too many that it is slow and costly.\n",
        "\n",
        "When choosing features, it is useful to use background knowledge to select/remove features. There are also many statistical methods of conducting feature selection, including using correlation, sparsity, and more.\n",
        "\n",
        "Here, we will just drop the features that are identifiers (ID). Identifiers, names, address, etc. should not be used to determine a disgnosis."
      ],
      "metadata": {
        "id": "floiGI-tt44y"
      }
    },
    {
      "cell_type": "markdown",
      "source": [
        "# Missing values\n",
        "Let's check if the data has any missing values. If so, how can we handle it?"
      ],
      "metadata": {
        "id": "gTsWIKZJSL4W"
      }
    },
    {
      "cell_type": "code",
      "source": [
        "df.isnull().sum()"
      ],
      "metadata": {
        "colab": {
          "base_uri": "https://localhost:8080/"
        },
        "id": "BXdIlLlBUv30",
        "outputId": "0dc0ac8a-4b37-49b6-9e94-84498e80ed01"
      },
      "execution_count": null,
      "outputs": [
        {
          "output_type": "execute_result",
          "data": {
            "text/plain": [
              "ObservationDate       0\n",
              "Country_Region        0\n",
              "Province_State     5989\n",
              "Confirmed             1\n",
              "Deaths                3\n",
              "Recovered             2\n",
              "Active               26\n",
              "dtype: int64"
            ]
          },
          "metadata": {},
          "execution_count": 3
        }
      ]
    },
    {
      "cell_type": "markdown",
      "metadata": {
        "id": "hI3dmmfBHbX-"
      },
      "source": [
        "We notice the Province_State column has alot of missing values.  Let's compte the number and perectage of missing values in this column."
      ]
    },
    {
      "cell_type": "code",
      "execution_count": null,
      "metadata": {
        "id": "gXZptIerHbX-",
        "outputId": "fc5bd47a-a0d6-4d59-f548-3bedafe7abdb",
        "colab": {
          "base_uri": "https://localhost:8080/"
        }
      },
      "outputs": [
        {
          "output_type": "execute_result",
          "data": {
            "text/plain": [
              "5989"
            ]
          },
          "metadata": {},
          "execution_count": 4
        }
      ],
      "source": [
        "x = df.Province_State.isnull().values.sum() \n",
        "x"
      ]
    },
    {
      "cell_type": "code",
      "execution_count": null,
      "metadata": {
        "id": "uAPjpPkFHbX-",
        "outputId": "e4ee0cf6-cfec-423b-fb86-2ced4db32303",
        "colab": {
          "base_uri": "https://localhost:8080/"
        }
      },
      "outputs": [
        {
          "output_type": "execute_result",
          "data": {
            "text/plain": [
              "0.25870410367170626"
            ]
          },
          "metadata": {},
          "execution_count": 5
        }
      ],
      "source": [
        "x/df.shape[0] "
      ]
    },
    {
      "cell_type": "markdown",
      "source": [
        "25.8% of the vaules in t are mhe Province_State column is missing. We notice the state or province does not provide much information for any predictive analysis. There is no way to infer the missing values from that data that we have so it is better to just drop it."
      ],
      "metadata": {
        "id": "40sP1qMZTRpc"
      }
    },
    {
      "cell_type": "code",
      "execution_count": null,
      "metadata": {
        "id": "4nVDdkuZHbX-"
      },
      "outputs": [],
      "source": [
        "df = df.drop('Province_State', axis=1)"
      ]
    },
    {
      "cell_type": "markdown",
      "metadata": {
        "id": "1keuLsmtHbX_"
      },
      "source": [
        "Now let's look at other columns, we can see they have less NaNs than the Province state column.\n"
      ]
    },
    {
      "cell_type": "code",
      "execution_count": null,
      "metadata": {
        "id": "jN8X1CErHbX_",
        "outputId": "73b4c2a1-67cc-4e15-d2fc-a677da2e7f3f",
        "colab": {
          "base_uri": "https://localhost:8080/"
        }
      },
      "outputs": [
        {
          "output_type": "execute_result",
          "data": {
            "text/plain": [
              "106   NaN\n",
              "Name: Confirmed, dtype: float64"
            ]
          },
          "metadata": {},
          "execution_count": 7
        }
      ],
      "source": [
        "df.Confirmed[df.Confirmed.isnull()] # missing values in the number of Confirmed cases"
      ]
    },
    {
      "cell_type": "code",
      "execution_count": null,
      "metadata": {
        "id": "sKZh8VMoHbX_",
        "outputId": "f61c1dcc-f2cb-4f67-8e0e-edbc506efc12",
        "colab": {
          "base_uri": "https://localhost:8080/"
        }
      },
      "outputs": [
        {
          "output_type": "execute_result",
          "data": {
            "text/plain": [
              "10     NaN\n",
              "41     NaN\n",
              "106    NaN\n",
              "Name: Deaths, dtype: object"
            ]
          },
          "metadata": {},
          "execution_count": 8
        }
      ],
      "source": [
        "df.Deaths[df.Deaths.isnull()]# missing vaues in the number of Deaths\n",
        "    "
      ]
    },
    {
      "cell_type": "markdown",
      "source": [
        "The number of deaths should have been a numeric value. We notics the data type of the column is not numeric. There are some non numeric values in some of the rows for this column, the `to_numeric` function will force anything that cannot be convereted\n",
        "to a number to be a `NaN`\n",
        "\n"
      ],
      "metadata": {
        "id": "5BEFkcfYWzJc"
      }
    },
    {
      "cell_type": "code",
      "execution_count": null,
      "metadata": {
        "id": "D2WP9fTMHbYA"
      },
      "outputs": [],
      "source": [
        "df['Deaths'] = pd.to_numeric(df['Deaths'], errors='coerce')    "
      ]
    },
    {
      "cell_type": "code",
      "source": [
        "df.Deaths[df.Deaths.isnull()]"
      ],
      "metadata": {
        "colab": {
          "base_uri": "https://localhost:8080/"
        },
        "id": "Vp_k_ADKXnEL",
        "outputId": "70eb71b4-3603-46a3-a85c-9be4019a3bb9"
      },
      "execution_count": null,
      "outputs": [
        {
          "output_type": "execute_result",
          "data": {
            "text/plain": [
              "10    NaN\n",
              "22    NaN\n",
              "41    NaN\n",
              "106   NaN\n",
              "Name: Deaths, dtype: float64"
            ]
          },
          "metadata": {},
          "execution_count": 10
        }
      ]
    },
    {
      "cell_type": "markdown",
      "source": [
        "We notice we have one more `NaN`. There must have been some non-numeric value that could not be converted to a number and has a NaN value now. The data type of the column is numeric so that's good news.\n",
        "Let's check the `Recovered` column."
      ],
      "metadata": {
        "id": "YLIN_31bXxZt"
      }
    },
    {
      "cell_type": "code",
      "execution_count": null,
      "metadata": {
        "id": "AeRG-STnHbYA",
        "outputId": "aecffe8b-167e-4c6b-ffc5-a865bf2a8d29",
        "colab": {
          "base_uri": "https://localhost:8080/"
        }
      },
      "outputs": [
        {
          "output_type": "execute_result",
          "data": {
            "text/plain": [
              "10    NaN\n",
              "41    NaN\n",
              "Name: Recovered, dtype: object"
            ]
          },
          "metadata": {},
          "execution_count": 11
        }
      ],
      "source": [
        "df.Recovered[df.Recovered.isnull()] # wcheck for missing values in this column"
      ]
    },
    {
      "cell_type": "markdown",
      "source": [
        "Tthere is non numric data in this column we use the `to_numeric` function to force everything to become a number, if it cant then it is replaced with `NAN`"
      ],
      "metadata": {
        "id": "2Brqz-cKYsIb"
      }
    },
    {
      "cell_type": "code",
      "execution_count": null,
      "metadata": {
        "id": "CjluvL8THbYA"
      },
      "outputs": [],
      "source": [
        "df['Recovered'] = pd.to_numeric(df['Recovered'], errors='coerce')"
      ]
    },
    {
      "cell_type": "code",
      "source": [
        "df.Recovered[df.Recovered.isnull()]"
      ],
      "metadata": {
        "colab": {
          "base_uri": "https://localhost:8080/"
        },
        "id": "ocfbZCTFY5na",
        "outputId": "e5a8240d-45ca-424d-dbd0-23a71e5c5766"
      },
      "execution_count": null,
      "outputs": [
        {
          "output_type": "execute_result",
          "data": {
            "text/plain": [
              "10    NaN\n",
              "32    NaN\n",
              "41    NaN\n",
              "66    NaN\n",
              "106   NaN\n",
              "Name: Recovered, dtype: float64"
            ]
          },
          "metadata": {},
          "execution_count": 13
        }
      ]
    },
    {
      "cell_type": "markdown",
      "source": [
        "We found a couple of non-numeric values. Let's check the `Active` column."
      ],
      "metadata": {
        "id": "VgsBXtLSZAdb"
      }
    },
    {
      "cell_type": "code",
      "execution_count": null,
      "metadata": {
        "id": "2CYssIC3HbYA",
        "outputId": "efbf0aed-7167-4e60-a842-fe8e7a1e693f",
        "colab": {
          "base_uri": "https://localhost:8080/"
        }
      },
      "outputs": [
        {
          "output_type": "execute_result",
          "data": {
            "text/plain": [
              "41      NaN\n",
              "11507   NaN\n",
              "12819   NaN\n",
              "15279   NaN\n",
              "18463   NaN\n",
              "19441   NaN\n",
              "19604   NaN\n",
              "19767   NaN\n",
              "19930   NaN\n",
              "20093   NaN\n",
              "20256   NaN\n",
              "20419   NaN\n",
              "20582   NaN\n",
              "20745   NaN\n",
              "20908   NaN\n",
              "21071   NaN\n",
              "21397   NaN\n",
              "21560   NaN\n",
              "21723   NaN\n",
              "21886   NaN\n",
              "22050   NaN\n",
              "22214   NaN\n",
              "22378   NaN\n",
              "22542   NaN\n",
              "22706   NaN\n",
              "22870   NaN\n",
              "Name: Active, dtype: float64"
            ]
          },
          "metadata": {},
          "execution_count": 14
        }
      ],
      "source": [
        "df.Active[df.Active.isnull()]# we can look at the missing rows in this column"
      ]
    },
    {
      "cell_type": "markdown",
      "metadata": {
        "id": "Io-SjPiTHbYA"
      },
      "source": [
        "Above we see the other columns that also have missing data. I would not remove they are not missing that many data points and the value can be infered from the rest of the data. We can use the average for the column to fill in the missing values. For str values I used the `to_numeric` function to remove them. "
      ]
    },
    {
      "cell_type": "markdown",
      "source": [
        "# Data Imputation\n",
        "There are different ways of handling missing data. \n",
        "## Imputation Using (Mean/Median) Values\n",
        "This works by calculating the mean/median of the non-missing values in a column and then replacing the missing values within each column separately and independently from the others. It can only be used with numeric data.\n",
        "We are going to replace the missing values by the mean of this column."
      ],
      "metadata": {
        "id": "UrcviMHRZuCA"
      }
    },
    {
      "cell_type": "code",
      "execution_count": null,
      "metadata": {
        "id": "9bMvw0jqHbYB",
        "outputId": "11fe7e03-9dc8-44e7-9e2d-0cb9b1ebfa10",
        "colab": {
          "base_uri": "https://localhost:8080/"
        }
      },
      "outputs": [
        {
          "output_type": "execute_result",
          "data": {
            "text/plain": [
              "Series([], Name: Confirmed, dtype: float64)"
            ]
          },
          "metadata": {},
          "execution_count": 15
        }
      ],
      "source": [
        "df['Confirmed'].fillna(df['Confirmed'].mean(), inplace=True)#replaces NaN's with the mean\n",
        "df.Confirmed[df.Confirmed.isnull()]#check to make sure there are no NaNs left"
      ]
    },
    {
      "cell_type": "code",
      "execution_count": null,
      "metadata": {
        "id": "--zcV2qQHbYB",
        "outputId": "323c4ad2-eacc-4630-fc22-0e724b8e559b",
        "colab": {
          "base_uri": "https://localhost:8080/"
        }
      },
      "outputs": [
        {
          "output_type": "execute_result",
          "data": {
            "text/plain": [
              "Series([], Name: Deaths, dtype: float64)"
            ]
          },
          "metadata": {},
          "execution_count": 16
        }
      ],
      "source": [
        "df['Deaths'].fillna(df['Deaths'].median(), inplace=True)#replaces NaN's with the median\n",
        "df.Deaths[df.Deaths.isnull()]"
      ]
    },
    {
      "cell_type": "markdown",
      "source": [
        "##Imputation Using (Most Frequent) or (Zero/Constant) Values\n",
        "Most Frequent is another statistical strategy to impute missing values and YES!! It works with categorical features (strings or numerical representations) by replacing missing data with the most frequent values within each column."
      ],
      "metadata": {
        "id": "OiU9boBlgV-R"
      }
    },
    {
      "cell_type": "markdown",
      "source": [
        "##Imputation Using k-NN\n",
        "The k nearest neighbours is an algorithm that is used for simple classification. The algorithm uses ‘feature similarity’ to predict the values of any new data points. This means that the new point is assigned a value based on how closely it resembles the points in the training set. This can be very useful in making predictions about the missing values by finding the k’s closest neighbours to the observation with missing data and then imputing them based on the non-missing values in the neighbourhood."
      ],
      "metadata": {
        "id": "xt3H7g2lhQnk"
      }
    },
    {
      "cell_type": "markdown",
      "source": [
        "Imputation doesn't work for non-numeric columns. So let's separate the numeric columns from the non-numeirc ones."
      ],
      "metadata": {
        "id": "zuVGOR5txQBf"
      }
    },
    {
      "cell_type": "code",
      "source": [
        "v = df.loc[:, df.columns.difference(['ObservationDate', 'Country_Region'])]\n",
        "v"
      ],
      "metadata": {
        "colab": {
          "base_uri": "https://localhost:8080/",
          "height": 424
        },
        "id": "OGrU1x4eoidv",
        "outputId": "4e74cd9c-c5c7-4e6e-9d09-248f8e3a136e"
      },
      "execution_count": null,
      "outputs": [
        {
          "output_type": "execute_result",
          "data": {
            "text/plain": [
              "       Active  Confirmed  Deaths  Recovered\n",
              "0         0.0        0.0     0.0        0.0\n",
              "1         0.0        0.0     0.0        0.0\n",
              "2         0.0        0.0     0.0        0.0\n",
              "3         1.0        1.0     0.0        0.0\n",
              "4         1.0        1.0     0.0        0.0\n",
              "...       ...        ...     ...        ...\n",
              "23145     0.0       64.0     0.0       64.0\n",
              "23146    67.0     4836.0   102.0     4667.0\n",
              "23147  2039.0     4386.0    72.0     2275.0\n",
              "23148   208.0     2010.0    47.0     1755.0\n",
              "23149  9568.0    73528.0   614.0    63346.0\n",
              "\n",
              "[23150 rows x 4 columns]"
            ],
            "text/html": [
              "\n",
              "  <div id=\"df-db78c14b-eb82-44f7-895f-8d0a5d143e5e\">\n",
              "    <div class=\"colab-df-container\">\n",
              "      <div>\n",
              "<style scoped>\n",
              "    .dataframe tbody tr th:only-of-type {\n",
              "        vertical-align: middle;\n",
              "    }\n",
              "\n",
              "    .dataframe tbody tr th {\n",
              "        vertical-align: top;\n",
              "    }\n",
              "\n",
              "    .dataframe thead th {\n",
              "        text-align: right;\n",
              "    }\n",
              "</style>\n",
              "<table border=\"1\" class=\"dataframe\">\n",
              "  <thead>\n",
              "    <tr style=\"text-align: right;\">\n",
              "      <th></th>\n",
              "      <th>Active</th>\n",
              "      <th>Confirmed</th>\n",
              "      <th>Deaths</th>\n",
              "      <th>Recovered</th>\n",
              "    </tr>\n",
              "  </thead>\n",
              "  <tbody>\n",
              "    <tr>\n",
              "      <th>0</th>\n",
              "      <td>0.0</td>\n",
              "      <td>0.0</td>\n",
              "      <td>0.0</td>\n",
              "      <td>0.0</td>\n",
              "    </tr>\n",
              "    <tr>\n",
              "      <th>1</th>\n",
              "      <td>0.0</td>\n",
              "      <td>0.0</td>\n",
              "      <td>0.0</td>\n",
              "      <td>0.0</td>\n",
              "    </tr>\n",
              "    <tr>\n",
              "      <th>2</th>\n",
              "      <td>0.0</td>\n",
              "      <td>0.0</td>\n",
              "      <td>0.0</td>\n",
              "      <td>0.0</td>\n",
              "    </tr>\n",
              "    <tr>\n",
              "      <th>3</th>\n",
              "      <td>1.0</td>\n",
              "      <td>1.0</td>\n",
              "      <td>0.0</td>\n",
              "      <td>0.0</td>\n",
              "    </tr>\n",
              "    <tr>\n",
              "      <th>4</th>\n",
              "      <td>1.0</td>\n",
              "      <td>1.0</td>\n",
              "      <td>0.0</td>\n",
              "      <td>0.0</td>\n",
              "    </tr>\n",
              "    <tr>\n",
              "      <th>...</th>\n",
              "      <td>...</td>\n",
              "      <td>...</td>\n",
              "      <td>...</td>\n",
              "      <td>...</td>\n",
              "    </tr>\n",
              "    <tr>\n",
              "      <th>23145</th>\n",
              "      <td>0.0</td>\n",
              "      <td>64.0</td>\n",
              "      <td>0.0</td>\n",
              "      <td>64.0</td>\n",
              "    </tr>\n",
              "    <tr>\n",
              "      <th>23146</th>\n",
              "      <td>67.0</td>\n",
              "      <td>4836.0</td>\n",
              "      <td>102.0</td>\n",
              "      <td>4667.0</td>\n",
              "    </tr>\n",
              "    <tr>\n",
              "      <th>23147</th>\n",
              "      <td>2039.0</td>\n",
              "      <td>4386.0</td>\n",
              "      <td>72.0</td>\n",
              "      <td>2275.0</td>\n",
              "    </tr>\n",
              "    <tr>\n",
              "      <th>23148</th>\n",
              "      <td>208.0</td>\n",
              "      <td>2010.0</td>\n",
              "      <td>47.0</td>\n",
              "      <td>1755.0</td>\n",
              "    </tr>\n",
              "    <tr>\n",
              "      <th>23149</th>\n",
              "      <td>9568.0</td>\n",
              "      <td>73528.0</td>\n",
              "      <td>614.0</td>\n",
              "      <td>63346.0</td>\n",
              "    </tr>\n",
              "  </tbody>\n",
              "</table>\n",
              "<p>23150 rows × 4 columns</p>\n",
              "</div>\n",
              "      <button class=\"colab-df-convert\" onclick=\"convertToInteractive('df-db78c14b-eb82-44f7-895f-8d0a5d143e5e')\"\n",
              "              title=\"Convert this dataframe to an interactive table.\"\n",
              "              style=\"display:none;\">\n",
              "        \n",
              "  <svg xmlns=\"http://www.w3.org/2000/svg\" height=\"24px\"viewBox=\"0 0 24 24\"\n",
              "       width=\"24px\">\n",
              "    <path d=\"M0 0h24v24H0V0z\" fill=\"none\"/>\n",
              "    <path d=\"M18.56 5.44l.94 2.06.94-2.06 2.06-.94-2.06-.94-.94-2.06-.94 2.06-2.06.94zm-11 1L8.5 8.5l.94-2.06 2.06-.94-2.06-.94L8.5 2.5l-.94 2.06-2.06.94zm10 10l.94 2.06.94-2.06 2.06-.94-2.06-.94-.94-2.06-.94 2.06-2.06.94z\"/><path d=\"M17.41 7.96l-1.37-1.37c-.4-.4-.92-.59-1.43-.59-.52 0-1.04.2-1.43.59L10.3 9.45l-7.72 7.72c-.78.78-.78 2.05 0 2.83L4 21.41c.39.39.9.59 1.41.59.51 0 1.02-.2 1.41-.59l7.78-7.78 2.81-2.81c.8-.78.8-2.07 0-2.86zM5.41 20L4 18.59l7.72-7.72 1.47 1.35L5.41 20z\"/>\n",
              "  </svg>\n",
              "      </button>\n",
              "      \n",
              "  <style>\n",
              "    .colab-df-container {\n",
              "      display:flex;\n",
              "      flex-wrap:wrap;\n",
              "      gap: 12px;\n",
              "    }\n",
              "\n",
              "    .colab-df-convert {\n",
              "      background-color: #E8F0FE;\n",
              "      border: none;\n",
              "      border-radius: 50%;\n",
              "      cursor: pointer;\n",
              "      display: none;\n",
              "      fill: #1967D2;\n",
              "      height: 32px;\n",
              "      padding: 0 0 0 0;\n",
              "      width: 32px;\n",
              "    }\n",
              "\n",
              "    .colab-df-convert:hover {\n",
              "      background-color: #E2EBFA;\n",
              "      box-shadow: 0px 1px 2px rgba(60, 64, 67, 0.3), 0px 1px 3px 1px rgba(60, 64, 67, 0.15);\n",
              "      fill: #174EA6;\n",
              "    }\n",
              "\n",
              "    [theme=dark] .colab-df-convert {\n",
              "      background-color: #3B4455;\n",
              "      fill: #D2E3FC;\n",
              "    }\n",
              "\n",
              "    [theme=dark] .colab-df-convert:hover {\n",
              "      background-color: #434B5C;\n",
              "      box-shadow: 0px 1px 3px 1px rgba(0, 0, 0, 0.15);\n",
              "      filter: drop-shadow(0px 1px 2px rgba(0, 0, 0, 0.3));\n",
              "      fill: #FFFFFF;\n",
              "    }\n",
              "  </style>\n",
              "\n",
              "      <script>\n",
              "        const buttonEl =\n",
              "          document.querySelector('#df-db78c14b-eb82-44f7-895f-8d0a5d143e5e button.colab-df-convert');\n",
              "        buttonEl.style.display =\n",
              "          google.colab.kernel.accessAllowed ? 'block' : 'none';\n",
              "\n",
              "        async function convertToInteractive(key) {\n",
              "          const element = document.querySelector('#df-db78c14b-eb82-44f7-895f-8d0a5d143e5e');\n",
              "          const dataTable =\n",
              "            await google.colab.kernel.invokeFunction('convertToInteractive',\n",
              "                                                     [key], {});\n",
              "          if (!dataTable) return;\n",
              "\n",
              "          const docLinkHtml = 'Like what you see? Visit the ' +\n",
              "            '<a target=\"_blank\" href=https://colab.research.google.com/notebooks/data_table.ipynb>data table notebook</a>'\n",
              "            + ' to learn more about interactive tables.';\n",
              "          element.innerHTML = '';\n",
              "          dataTable['output_type'] = 'display_data';\n",
              "          await google.colab.output.renderOutput(dataTable, element);\n",
              "          const docLink = document.createElement('div');\n",
              "          docLink.innerHTML = docLinkHtml;\n",
              "          element.appendChild(docLink);\n",
              "        }\n",
              "      </script>\n",
              "    </div>\n",
              "  </div>\n",
              "  "
            ]
          },
          "metadata": {},
          "execution_count": 17
        }
      ]
    },
    {
      "cell_type": "code",
      "source": [
        "# import the SimpleImputer class\n",
        "from sklearn.impute import KNNImputer\n",
        "\n",
        "imputer = KNNImputer(n_neighbors=2)\n",
        "clean_df = imputer.fit_transform(v)"
      ],
      "metadata": {
        "id": "QN-n45yUhcvD"
      },
      "execution_count": null,
      "outputs": []
    },
    {
      "cell_type": "code",
      "execution_count": null,
      "metadata": {
        "id": "HQ0EyYYKHbYC",
        "outputId": "424c2b01-0e13-461b-b98e-3d34c8b17c1b",
        "colab": {
          "base_uri": "https://localhost:8080/"
        }
      },
      "outputs": [
        {
          "output_type": "execute_result",
          "data": {
            "text/plain": [
              "array([[0.0000e+00, 0.0000e+00, 0.0000e+00, 0.0000e+00],\n",
              "       [0.0000e+00, 0.0000e+00, 0.0000e+00, 0.0000e+00],\n",
              "       [0.0000e+00, 0.0000e+00, 0.0000e+00, 0.0000e+00],\n",
              "       ...,\n",
              "       [2.0390e+03, 4.3860e+03, 7.2000e+01, 2.2750e+03],\n",
              "       [2.0800e+02, 2.0100e+03, 4.7000e+01, 1.7550e+03],\n",
              "       [9.5680e+03, 7.3528e+04, 6.1400e+02, 6.3346e+04]])"
            ]
          },
          "metadata": {},
          "execution_count": 19
        }
      ],
      "source": [
        "clean_df"
      ]
    },
    {
      "cell_type": "markdown",
      "source": [
        "The transformed data is no longer a dataframe, it's a numpy array. We have to convert it back to a dataframe and concat it with the non-numeric columns."
      ],
      "metadata": {
        "id": "HrmxHwJzxiAa"
      }
    },
    {
      "cell_type": "code",
      "source": [
        "clean_df = pd.DataFrame(clean_df, columns= ['Active',\t'Confirmed', 'Deaths','Recovered'])\n",
        "clean_df.head()"
      ],
      "metadata": {
        "colab": {
          "base_uri": "https://localhost:8080/",
          "height": 206
        },
        "id": "5QsMknRapX5S",
        "outputId": "cacf31b1-5e5d-443f-a267-18e60b33af3a"
      },
      "execution_count": null,
      "outputs": [
        {
          "output_type": "execute_result",
          "data": {
            "text/plain": [
              "   Active  Confirmed  Deaths  Recovered\n",
              "0     0.0        0.0     0.0        0.0\n",
              "1     0.0        0.0     0.0        0.0\n",
              "2     0.0        0.0     0.0        0.0\n",
              "3     1.0        1.0     0.0        0.0\n",
              "4     1.0        1.0     0.0        0.0"
            ],
            "text/html": [
              "\n",
              "  <div id=\"df-71d1a480-536a-4f98-a8fb-21949a736673\">\n",
              "    <div class=\"colab-df-container\">\n",
              "      <div>\n",
              "<style scoped>\n",
              "    .dataframe tbody tr th:only-of-type {\n",
              "        vertical-align: middle;\n",
              "    }\n",
              "\n",
              "    .dataframe tbody tr th {\n",
              "        vertical-align: top;\n",
              "    }\n",
              "\n",
              "    .dataframe thead th {\n",
              "        text-align: right;\n",
              "    }\n",
              "</style>\n",
              "<table border=\"1\" class=\"dataframe\">\n",
              "  <thead>\n",
              "    <tr style=\"text-align: right;\">\n",
              "      <th></th>\n",
              "      <th>Active</th>\n",
              "      <th>Confirmed</th>\n",
              "      <th>Deaths</th>\n",
              "      <th>Recovered</th>\n",
              "    </tr>\n",
              "  </thead>\n",
              "  <tbody>\n",
              "    <tr>\n",
              "      <th>0</th>\n",
              "      <td>0.0</td>\n",
              "      <td>0.0</td>\n",
              "      <td>0.0</td>\n",
              "      <td>0.0</td>\n",
              "    </tr>\n",
              "    <tr>\n",
              "      <th>1</th>\n",
              "      <td>0.0</td>\n",
              "      <td>0.0</td>\n",
              "      <td>0.0</td>\n",
              "      <td>0.0</td>\n",
              "    </tr>\n",
              "    <tr>\n",
              "      <th>2</th>\n",
              "      <td>0.0</td>\n",
              "      <td>0.0</td>\n",
              "      <td>0.0</td>\n",
              "      <td>0.0</td>\n",
              "    </tr>\n",
              "    <tr>\n",
              "      <th>3</th>\n",
              "      <td>1.0</td>\n",
              "      <td>1.0</td>\n",
              "      <td>0.0</td>\n",
              "      <td>0.0</td>\n",
              "    </tr>\n",
              "    <tr>\n",
              "      <th>4</th>\n",
              "      <td>1.0</td>\n",
              "      <td>1.0</td>\n",
              "      <td>0.0</td>\n",
              "      <td>0.0</td>\n",
              "    </tr>\n",
              "  </tbody>\n",
              "</table>\n",
              "</div>\n",
              "      <button class=\"colab-df-convert\" onclick=\"convertToInteractive('df-71d1a480-536a-4f98-a8fb-21949a736673')\"\n",
              "              title=\"Convert this dataframe to an interactive table.\"\n",
              "              style=\"display:none;\">\n",
              "        \n",
              "  <svg xmlns=\"http://www.w3.org/2000/svg\" height=\"24px\"viewBox=\"0 0 24 24\"\n",
              "       width=\"24px\">\n",
              "    <path d=\"M0 0h24v24H0V0z\" fill=\"none\"/>\n",
              "    <path d=\"M18.56 5.44l.94 2.06.94-2.06 2.06-.94-2.06-.94-.94-2.06-.94 2.06-2.06.94zm-11 1L8.5 8.5l.94-2.06 2.06-.94-2.06-.94L8.5 2.5l-.94 2.06-2.06.94zm10 10l.94 2.06.94-2.06 2.06-.94-2.06-.94-.94-2.06-.94 2.06-2.06.94z\"/><path d=\"M17.41 7.96l-1.37-1.37c-.4-.4-.92-.59-1.43-.59-.52 0-1.04.2-1.43.59L10.3 9.45l-7.72 7.72c-.78.78-.78 2.05 0 2.83L4 21.41c.39.39.9.59 1.41.59.51 0 1.02-.2 1.41-.59l7.78-7.78 2.81-2.81c.8-.78.8-2.07 0-2.86zM5.41 20L4 18.59l7.72-7.72 1.47 1.35L5.41 20z\"/>\n",
              "  </svg>\n",
              "      </button>\n",
              "      \n",
              "  <style>\n",
              "    .colab-df-container {\n",
              "      display:flex;\n",
              "      flex-wrap:wrap;\n",
              "      gap: 12px;\n",
              "    }\n",
              "\n",
              "    .colab-df-convert {\n",
              "      background-color: #E8F0FE;\n",
              "      border: none;\n",
              "      border-radius: 50%;\n",
              "      cursor: pointer;\n",
              "      display: none;\n",
              "      fill: #1967D2;\n",
              "      height: 32px;\n",
              "      padding: 0 0 0 0;\n",
              "      width: 32px;\n",
              "    }\n",
              "\n",
              "    .colab-df-convert:hover {\n",
              "      background-color: #E2EBFA;\n",
              "      box-shadow: 0px 1px 2px rgba(60, 64, 67, 0.3), 0px 1px 3px 1px rgba(60, 64, 67, 0.15);\n",
              "      fill: #174EA6;\n",
              "    }\n",
              "\n",
              "    [theme=dark] .colab-df-convert {\n",
              "      background-color: #3B4455;\n",
              "      fill: #D2E3FC;\n",
              "    }\n",
              "\n",
              "    [theme=dark] .colab-df-convert:hover {\n",
              "      background-color: #434B5C;\n",
              "      box-shadow: 0px 1px 3px 1px rgba(0, 0, 0, 0.15);\n",
              "      filter: drop-shadow(0px 1px 2px rgba(0, 0, 0, 0.3));\n",
              "      fill: #FFFFFF;\n",
              "    }\n",
              "  </style>\n",
              "\n",
              "      <script>\n",
              "        const buttonEl =\n",
              "          document.querySelector('#df-71d1a480-536a-4f98-a8fb-21949a736673 button.colab-df-convert');\n",
              "        buttonEl.style.display =\n",
              "          google.colab.kernel.accessAllowed ? 'block' : 'none';\n",
              "\n",
              "        async function convertToInteractive(key) {\n",
              "          const element = document.querySelector('#df-71d1a480-536a-4f98-a8fb-21949a736673');\n",
              "          const dataTable =\n",
              "            await google.colab.kernel.invokeFunction('convertToInteractive',\n",
              "                                                     [key], {});\n",
              "          if (!dataTable) return;\n",
              "\n",
              "          const docLinkHtml = 'Like what you see? Visit the ' +\n",
              "            '<a target=\"_blank\" href=https://colab.research.google.com/notebooks/data_table.ipynb>data table notebook</a>'\n",
              "            + ' to learn more about interactive tables.';\n",
              "          element.innerHTML = '';\n",
              "          dataTable['output_type'] = 'display_data';\n",
              "          await google.colab.output.renderOutput(dataTable, element);\n",
              "          const docLink = document.createElement('div');\n",
              "          docLink.innerHTML = docLinkHtml;\n",
              "          element.appendChild(docLink);\n",
              "        }\n",
              "      </script>\n",
              "    </div>\n",
              "  </div>\n",
              "  "
            ]
          },
          "metadata": {},
          "execution_count": 20
        }
      ]
    },
    {
      "cell_type": "markdown",
      "source": [
        "The non-numeric columns were the `ObservationDate` and `Country_Region`."
      ],
      "metadata": {
        "id": "h6lUPyZ5x0f3"
      }
    },
    {
      "cell_type": "code",
      "source": [
        "df.loc[ : ,'ObservationDate': 'Country_Region']"
      ],
      "metadata": {
        "colab": {
          "base_uri": "https://localhost:8080/",
          "height": 424
        },
        "id": "NeO9tLVMszyG",
        "outputId": "8a32b885-0941-47e1-88e0-e1c24ed7c63e"
      },
      "execution_count": null,
      "outputs": [
        {
          "output_type": "execute_result",
          "data": {
            "text/plain": [
              "      ObservationDate                    Country_Region\n",
              "0          2020-01-23                            Mexico\n",
              "1          2020-01-23                            Brazil\n",
              "2          2020-01-23                          Colombia\n",
              "3          2020-02-26                            Brazil\n",
              "4          2020-02-26                            Brazil\n",
              "...               ...                               ...\n",
              "23145      2020-09-28  Saint Vincent and the Grenadines\n",
              "23146      2020-09-28                          Suriname\n",
              "23147      2020-09-28               Trinidad and Tobago\n",
              "23148      2020-09-28                           Uruguay\n",
              "23149      2020-09-28                         Venezuela\n",
              "\n",
              "[23150 rows x 2 columns]"
            ],
            "text/html": [
              "\n",
              "  <div id=\"df-adf94079-7394-410d-8216-f917324f8270\">\n",
              "    <div class=\"colab-df-container\">\n",
              "      <div>\n",
              "<style scoped>\n",
              "    .dataframe tbody tr th:only-of-type {\n",
              "        vertical-align: middle;\n",
              "    }\n",
              "\n",
              "    .dataframe tbody tr th {\n",
              "        vertical-align: top;\n",
              "    }\n",
              "\n",
              "    .dataframe thead th {\n",
              "        text-align: right;\n",
              "    }\n",
              "</style>\n",
              "<table border=\"1\" class=\"dataframe\">\n",
              "  <thead>\n",
              "    <tr style=\"text-align: right;\">\n",
              "      <th></th>\n",
              "      <th>ObservationDate</th>\n",
              "      <th>Country_Region</th>\n",
              "    </tr>\n",
              "  </thead>\n",
              "  <tbody>\n",
              "    <tr>\n",
              "      <th>0</th>\n",
              "      <td>2020-01-23</td>\n",
              "      <td>Mexico</td>\n",
              "    </tr>\n",
              "    <tr>\n",
              "      <th>1</th>\n",
              "      <td>2020-01-23</td>\n",
              "      <td>Brazil</td>\n",
              "    </tr>\n",
              "    <tr>\n",
              "      <th>2</th>\n",
              "      <td>2020-01-23</td>\n",
              "      <td>Colombia</td>\n",
              "    </tr>\n",
              "    <tr>\n",
              "      <th>3</th>\n",
              "      <td>2020-02-26</td>\n",
              "      <td>Brazil</td>\n",
              "    </tr>\n",
              "    <tr>\n",
              "      <th>4</th>\n",
              "      <td>2020-02-26</td>\n",
              "      <td>Brazil</td>\n",
              "    </tr>\n",
              "    <tr>\n",
              "      <th>...</th>\n",
              "      <td>...</td>\n",
              "      <td>...</td>\n",
              "    </tr>\n",
              "    <tr>\n",
              "      <th>23145</th>\n",
              "      <td>2020-09-28</td>\n",
              "      <td>Saint Vincent and the Grenadines</td>\n",
              "    </tr>\n",
              "    <tr>\n",
              "      <th>23146</th>\n",
              "      <td>2020-09-28</td>\n",
              "      <td>Suriname</td>\n",
              "    </tr>\n",
              "    <tr>\n",
              "      <th>23147</th>\n",
              "      <td>2020-09-28</td>\n",
              "      <td>Trinidad and Tobago</td>\n",
              "    </tr>\n",
              "    <tr>\n",
              "      <th>23148</th>\n",
              "      <td>2020-09-28</td>\n",
              "      <td>Uruguay</td>\n",
              "    </tr>\n",
              "    <tr>\n",
              "      <th>23149</th>\n",
              "      <td>2020-09-28</td>\n",
              "      <td>Venezuela</td>\n",
              "    </tr>\n",
              "  </tbody>\n",
              "</table>\n",
              "<p>23150 rows × 2 columns</p>\n",
              "</div>\n",
              "      <button class=\"colab-df-convert\" onclick=\"convertToInteractive('df-adf94079-7394-410d-8216-f917324f8270')\"\n",
              "              title=\"Convert this dataframe to an interactive table.\"\n",
              "              style=\"display:none;\">\n",
              "        \n",
              "  <svg xmlns=\"http://www.w3.org/2000/svg\" height=\"24px\"viewBox=\"0 0 24 24\"\n",
              "       width=\"24px\">\n",
              "    <path d=\"M0 0h24v24H0V0z\" fill=\"none\"/>\n",
              "    <path d=\"M18.56 5.44l.94 2.06.94-2.06 2.06-.94-2.06-.94-.94-2.06-.94 2.06-2.06.94zm-11 1L8.5 8.5l.94-2.06 2.06-.94-2.06-.94L8.5 2.5l-.94 2.06-2.06.94zm10 10l.94 2.06.94-2.06 2.06-.94-2.06-.94-.94-2.06-.94 2.06-2.06.94z\"/><path d=\"M17.41 7.96l-1.37-1.37c-.4-.4-.92-.59-1.43-.59-.52 0-1.04.2-1.43.59L10.3 9.45l-7.72 7.72c-.78.78-.78 2.05 0 2.83L4 21.41c.39.39.9.59 1.41.59.51 0 1.02-.2 1.41-.59l7.78-7.78 2.81-2.81c.8-.78.8-2.07 0-2.86zM5.41 20L4 18.59l7.72-7.72 1.47 1.35L5.41 20z\"/>\n",
              "  </svg>\n",
              "      </button>\n",
              "      \n",
              "  <style>\n",
              "    .colab-df-container {\n",
              "      display:flex;\n",
              "      flex-wrap:wrap;\n",
              "      gap: 12px;\n",
              "    }\n",
              "\n",
              "    .colab-df-convert {\n",
              "      background-color: #E8F0FE;\n",
              "      border: none;\n",
              "      border-radius: 50%;\n",
              "      cursor: pointer;\n",
              "      display: none;\n",
              "      fill: #1967D2;\n",
              "      height: 32px;\n",
              "      padding: 0 0 0 0;\n",
              "      width: 32px;\n",
              "    }\n",
              "\n",
              "    .colab-df-convert:hover {\n",
              "      background-color: #E2EBFA;\n",
              "      box-shadow: 0px 1px 2px rgba(60, 64, 67, 0.3), 0px 1px 3px 1px rgba(60, 64, 67, 0.15);\n",
              "      fill: #174EA6;\n",
              "    }\n",
              "\n",
              "    [theme=dark] .colab-df-convert {\n",
              "      background-color: #3B4455;\n",
              "      fill: #D2E3FC;\n",
              "    }\n",
              "\n",
              "    [theme=dark] .colab-df-convert:hover {\n",
              "      background-color: #434B5C;\n",
              "      box-shadow: 0px 1px 3px 1px rgba(0, 0, 0, 0.15);\n",
              "      filter: drop-shadow(0px 1px 2px rgba(0, 0, 0, 0.3));\n",
              "      fill: #FFFFFF;\n",
              "    }\n",
              "  </style>\n",
              "\n",
              "      <script>\n",
              "        const buttonEl =\n",
              "          document.querySelector('#df-adf94079-7394-410d-8216-f917324f8270 button.colab-df-convert');\n",
              "        buttonEl.style.display =\n",
              "          google.colab.kernel.accessAllowed ? 'block' : 'none';\n",
              "\n",
              "        async function convertToInteractive(key) {\n",
              "          const element = document.querySelector('#df-adf94079-7394-410d-8216-f917324f8270');\n",
              "          const dataTable =\n",
              "            await google.colab.kernel.invokeFunction('convertToInteractive',\n",
              "                                                     [key], {});\n",
              "          if (!dataTable) return;\n",
              "\n",
              "          const docLinkHtml = 'Like what you see? Visit the ' +\n",
              "            '<a target=\"_blank\" href=https://colab.research.google.com/notebooks/data_table.ipynb>data table notebook</a>'\n",
              "            + ' to learn more about interactive tables.';\n",
              "          element.innerHTML = '';\n",
              "          dataTable['output_type'] = 'display_data';\n",
              "          await google.colab.output.renderOutput(dataTable, element);\n",
              "          const docLink = document.createElement('div');\n",
              "          docLink.innerHTML = docLinkHtml;\n",
              "          element.appendChild(docLink);\n",
              "        }\n",
              "      </script>\n",
              "    </div>\n",
              "  </div>\n",
              "  "
            ]
          },
          "metadata": {},
          "execution_count": 21
        }
      ]
    },
    {
      "cell_type": "markdown",
      "source": [
        "Let's concatinate the data along the columns(`axis =1`)."
      ],
      "metadata": {
        "id": "D21wVgdgx9Ep"
      }
    },
    {
      "cell_type": "code",
      "source": [
        "transformed_df = pd.concat([df.loc[ : , 'ObservationDate': 'Country_Region'],clean_df ], axis=1)\n",
        "transformed_df"
      ],
      "metadata": {
        "colab": {
          "base_uri": "https://localhost:8080/",
          "height": 424
        },
        "id": "UgH-QvO5rONy",
        "outputId": "4947765f-ea7f-4a7f-ffb2-773f990b35c8"
      },
      "execution_count": null,
      "outputs": [
        {
          "output_type": "execute_result",
          "data": {
            "text/plain": [
              "      ObservationDate                    Country_Region  Active  Confirmed  \\\n",
              "0          2020-01-23                            Mexico     0.0        0.0   \n",
              "1          2020-01-23                            Brazil     0.0        0.0   \n",
              "2          2020-01-23                          Colombia     0.0        0.0   \n",
              "3          2020-02-26                            Brazil     1.0        1.0   \n",
              "4          2020-02-26                            Brazil     1.0        1.0   \n",
              "...               ...                               ...     ...        ...   \n",
              "23145      2020-09-28  Saint Vincent and the Grenadines     0.0       64.0   \n",
              "23146      2020-09-28                          Suriname    67.0     4836.0   \n",
              "23147      2020-09-28               Trinidad and Tobago  2039.0     4386.0   \n",
              "23148      2020-09-28                           Uruguay   208.0     2010.0   \n",
              "23149      2020-09-28                         Venezuela  9568.0    73528.0   \n",
              "\n",
              "       Deaths  Recovered  \n",
              "0         0.0        0.0  \n",
              "1         0.0        0.0  \n",
              "2         0.0        0.0  \n",
              "3         0.0        0.0  \n",
              "4         0.0        0.0  \n",
              "...       ...        ...  \n",
              "23145     0.0       64.0  \n",
              "23146   102.0     4667.0  \n",
              "23147    72.0     2275.0  \n",
              "23148    47.0     1755.0  \n",
              "23149   614.0    63346.0  \n",
              "\n",
              "[23150 rows x 6 columns]"
            ],
            "text/html": [
              "\n",
              "  <div id=\"df-9bcbe1d8-0ad8-4375-9cac-f8c4a72589a8\">\n",
              "    <div class=\"colab-df-container\">\n",
              "      <div>\n",
              "<style scoped>\n",
              "    .dataframe tbody tr th:only-of-type {\n",
              "        vertical-align: middle;\n",
              "    }\n",
              "\n",
              "    .dataframe tbody tr th {\n",
              "        vertical-align: top;\n",
              "    }\n",
              "\n",
              "    .dataframe thead th {\n",
              "        text-align: right;\n",
              "    }\n",
              "</style>\n",
              "<table border=\"1\" class=\"dataframe\">\n",
              "  <thead>\n",
              "    <tr style=\"text-align: right;\">\n",
              "      <th></th>\n",
              "      <th>ObservationDate</th>\n",
              "      <th>Country_Region</th>\n",
              "      <th>Active</th>\n",
              "      <th>Confirmed</th>\n",
              "      <th>Deaths</th>\n",
              "      <th>Recovered</th>\n",
              "    </tr>\n",
              "  </thead>\n",
              "  <tbody>\n",
              "    <tr>\n",
              "      <th>0</th>\n",
              "      <td>2020-01-23</td>\n",
              "      <td>Mexico</td>\n",
              "      <td>0.0</td>\n",
              "      <td>0.0</td>\n",
              "      <td>0.0</td>\n",
              "      <td>0.0</td>\n",
              "    </tr>\n",
              "    <tr>\n",
              "      <th>1</th>\n",
              "      <td>2020-01-23</td>\n",
              "      <td>Brazil</td>\n",
              "      <td>0.0</td>\n",
              "      <td>0.0</td>\n",
              "      <td>0.0</td>\n",
              "      <td>0.0</td>\n",
              "    </tr>\n",
              "    <tr>\n",
              "      <th>2</th>\n",
              "      <td>2020-01-23</td>\n",
              "      <td>Colombia</td>\n",
              "      <td>0.0</td>\n",
              "      <td>0.0</td>\n",
              "      <td>0.0</td>\n",
              "      <td>0.0</td>\n",
              "    </tr>\n",
              "    <tr>\n",
              "      <th>3</th>\n",
              "      <td>2020-02-26</td>\n",
              "      <td>Brazil</td>\n",
              "      <td>1.0</td>\n",
              "      <td>1.0</td>\n",
              "      <td>0.0</td>\n",
              "      <td>0.0</td>\n",
              "    </tr>\n",
              "    <tr>\n",
              "      <th>4</th>\n",
              "      <td>2020-02-26</td>\n",
              "      <td>Brazil</td>\n",
              "      <td>1.0</td>\n",
              "      <td>1.0</td>\n",
              "      <td>0.0</td>\n",
              "      <td>0.0</td>\n",
              "    </tr>\n",
              "    <tr>\n",
              "      <th>...</th>\n",
              "      <td>...</td>\n",
              "      <td>...</td>\n",
              "      <td>...</td>\n",
              "      <td>...</td>\n",
              "      <td>...</td>\n",
              "      <td>...</td>\n",
              "    </tr>\n",
              "    <tr>\n",
              "      <th>23145</th>\n",
              "      <td>2020-09-28</td>\n",
              "      <td>Saint Vincent and the Grenadines</td>\n",
              "      <td>0.0</td>\n",
              "      <td>64.0</td>\n",
              "      <td>0.0</td>\n",
              "      <td>64.0</td>\n",
              "    </tr>\n",
              "    <tr>\n",
              "      <th>23146</th>\n",
              "      <td>2020-09-28</td>\n",
              "      <td>Suriname</td>\n",
              "      <td>67.0</td>\n",
              "      <td>4836.0</td>\n",
              "      <td>102.0</td>\n",
              "      <td>4667.0</td>\n",
              "    </tr>\n",
              "    <tr>\n",
              "      <th>23147</th>\n",
              "      <td>2020-09-28</td>\n",
              "      <td>Trinidad and Tobago</td>\n",
              "      <td>2039.0</td>\n",
              "      <td>4386.0</td>\n",
              "      <td>72.0</td>\n",
              "      <td>2275.0</td>\n",
              "    </tr>\n",
              "    <tr>\n",
              "      <th>23148</th>\n",
              "      <td>2020-09-28</td>\n",
              "      <td>Uruguay</td>\n",
              "      <td>208.0</td>\n",
              "      <td>2010.0</td>\n",
              "      <td>47.0</td>\n",
              "      <td>1755.0</td>\n",
              "    </tr>\n",
              "    <tr>\n",
              "      <th>23149</th>\n",
              "      <td>2020-09-28</td>\n",
              "      <td>Venezuela</td>\n",
              "      <td>9568.0</td>\n",
              "      <td>73528.0</td>\n",
              "      <td>614.0</td>\n",
              "      <td>63346.0</td>\n",
              "    </tr>\n",
              "  </tbody>\n",
              "</table>\n",
              "<p>23150 rows × 6 columns</p>\n",
              "</div>\n",
              "      <button class=\"colab-df-convert\" onclick=\"convertToInteractive('df-9bcbe1d8-0ad8-4375-9cac-f8c4a72589a8')\"\n",
              "              title=\"Convert this dataframe to an interactive table.\"\n",
              "              style=\"display:none;\">\n",
              "        \n",
              "  <svg xmlns=\"http://www.w3.org/2000/svg\" height=\"24px\"viewBox=\"0 0 24 24\"\n",
              "       width=\"24px\">\n",
              "    <path d=\"M0 0h24v24H0V0z\" fill=\"none\"/>\n",
              "    <path d=\"M18.56 5.44l.94 2.06.94-2.06 2.06-.94-2.06-.94-.94-2.06-.94 2.06-2.06.94zm-11 1L8.5 8.5l.94-2.06 2.06-.94-2.06-.94L8.5 2.5l-.94 2.06-2.06.94zm10 10l.94 2.06.94-2.06 2.06-.94-2.06-.94-.94-2.06-.94 2.06-2.06.94z\"/><path d=\"M17.41 7.96l-1.37-1.37c-.4-.4-.92-.59-1.43-.59-.52 0-1.04.2-1.43.59L10.3 9.45l-7.72 7.72c-.78.78-.78 2.05 0 2.83L4 21.41c.39.39.9.59 1.41.59.51 0 1.02-.2 1.41-.59l7.78-7.78 2.81-2.81c.8-.78.8-2.07 0-2.86zM5.41 20L4 18.59l7.72-7.72 1.47 1.35L5.41 20z\"/>\n",
              "  </svg>\n",
              "      </button>\n",
              "      \n",
              "  <style>\n",
              "    .colab-df-container {\n",
              "      display:flex;\n",
              "      flex-wrap:wrap;\n",
              "      gap: 12px;\n",
              "    }\n",
              "\n",
              "    .colab-df-convert {\n",
              "      background-color: #E8F0FE;\n",
              "      border: none;\n",
              "      border-radius: 50%;\n",
              "      cursor: pointer;\n",
              "      display: none;\n",
              "      fill: #1967D2;\n",
              "      height: 32px;\n",
              "      padding: 0 0 0 0;\n",
              "      width: 32px;\n",
              "    }\n",
              "\n",
              "    .colab-df-convert:hover {\n",
              "      background-color: #E2EBFA;\n",
              "      box-shadow: 0px 1px 2px rgba(60, 64, 67, 0.3), 0px 1px 3px 1px rgba(60, 64, 67, 0.15);\n",
              "      fill: #174EA6;\n",
              "    }\n",
              "\n",
              "    [theme=dark] .colab-df-convert {\n",
              "      background-color: #3B4455;\n",
              "      fill: #D2E3FC;\n",
              "    }\n",
              "\n",
              "    [theme=dark] .colab-df-convert:hover {\n",
              "      background-color: #434B5C;\n",
              "      box-shadow: 0px 1px 3px 1px rgba(0, 0, 0, 0.15);\n",
              "      filter: drop-shadow(0px 1px 2px rgba(0, 0, 0, 0.3));\n",
              "      fill: #FFFFFF;\n",
              "    }\n",
              "  </style>\n",
              "\n",
              "      <script>\n",
              "        const buttonEl =\n",
              "          document.querySelector('#df-9bcbe1d8-0ad8-4375-9cac-f8c4a72589a8 button.colab-df-convert');\n",
              "        buttonEl.style.display =\n",
              "          google.colab.kernel.accessAllowed ? 'block' : 'none';\n",
              "\n",
              "        async function convertToInteractive(key) {\n",
              "          const element = document.querySelector('#df-9bcbe1d8-0ad8-4375-9cac-f8c4a72589a8');\n",
              "          const dataTable =\n",
              "            await google.colab.kernel.invokeFunction('convertToInteractive',\n",
              "                                                     [key], {});\n",
              "          if (!dataTable) return;\n",
              "\n",
              "          const docLinkHtml = 'Like what you see? Visit the ' +\n",
              "            '<a target=\"_blank\" href=https://colab.research.google.com/notebooks/data_table.ipynb>data table notebook</a>'\n",
              "            + ' to learn more about interactive tables.';\n",
              "          element.innerHTML = '';\n",
              "          dataTable['output_type'] = 'display_data';\n",
              "          await google.colab.output.renderOutput(dataTable, element);\n",
              "          const docLink = document.createElement('div');\n",
              "          docLink.innerHTML = docLinkHtml;\n",
              "          element.appendChild(docLink);\n",
              "        }\n",
              "      </script>\n",
              "    </div>\n",
              "  </div>\n",
              "  "
            ]
          },
          "metadata": {},
          "execution_count": 22
        }
      ]
    },
    {
      "cell_type": "markdown",
      "source": [
        "#Data Visualization of the Result"
      ],
      "metadata": {
        "id": "D8f8uATDyOHK"
      }
    },
    {
      "cell_type": "code",
      "execution_count": null,
      "metadata": {
        "id": "IuILDhA7HbYC"
      },
      "outputs": [],
      "source": [
        "# import matplotlib so that we can draw a graph\n",
        "\n",
        "%matplotlib inline\n",
        "import matplotlib.pyplot as plt \n"
      ]
    },
    {
      "cell_type": "code",
      "source": [
        "df=transformed_df.groupby('Country_Region')['Confirmed'].max()"
      ],
      "metadata": {
        "id": "akm54pNKYZSD"
      },
      "execution_count": null,
      "outputs": []
    },
    {
      "cell_type": "code",
      "source": [
        "df_sorted = df.sort_values(ascending = False)\n",
        "top_ten = df_sorted[:10, ]"
      ],
      "metadata": {
        "id": "oMeo23A7ZNfq"
      },
      "execution_count": null,
      "outputs": []
    },
    {
      "cell_type": "code",
      "source": [
        "top_ten"
      ],
      "metadata": {
        "colab": {
          "base_uri": "https://localhost:8080/"
        },
        "id": "LxMhmk2Maz3Q",
        "outputId": "48047df2-568b-4aa7-fd94-6bd55760aed8"
      },
      "execution_count": null,
      "outputs": [
        {
          "output_type": "execute_result",
          "data": {
            "text/plain": [
              "Country_Region\n",
              "Brazil                973142.0\n",
              "Argentina             723132.0\n",
              "Peru                  367068.0\n",
              "Chile                 285939.0\n",
              "Colombia              265576.0\n",
              "Ecuador               134965.0\n",
              "Bolivia               134223.0\n",
              "Mexico                124314.0\n",
              "Dominican Republic    111666.0\n",
              "Panama                111277.0\n",
              "Name: Confirmed, dtype: float64"
            ]
          },
          "metadata": {},
          "execution_count": 26
        }
      ]
    },
    {
      "cell_type": "code",
      "execution_count": null,
      "metadata": {
        "id": "NQXjBJ1RHbYD",
        "outputId": "ede1833f-069c-47d6-b982-82efdf2d589d",
        "colab": {
          "base_uri": "https://localhost:8080/",
          "height": 501
        }
      },
      "outputs": [
        {
          "output_type": "display_data",
          "data": {
            "text/plain": [
              "<Figure size 1440x720 with 1 Axes>"
            ],
            "image/png": "[encoded data removed]"
          },
          "metadata": {}
        }
      ],
      "source": [
        "def my_plot():\n",
        "    plt.style.use('fivethirtyeight')\n",
        "    fig = plt.figure(figsize=(20,10))\n",
        "    ax = plt.axes()\n",
        "    \n",
        "    ax.bar(top_ten.index, top_ten)\n",
        "    ax.set(ylabel='Confirmed',\n",
        "           title=\"Number of Confirmed COVID-19 Cases\")\n",
        "    \n",
        "    ax.grid()\n",
        "    \n",
        "    ax.ticklabel_format(style='plain', axis='y')\n",
        "    # this function removes scientific notation, if you get attribute error it is bc you forgot to specify an axis\n",
        "    \n",
        "my_plot()"
      ]
    }
  ],
  "metadata": {
    "kernelspec": {
      "display_name": "Python 3",
      "language": "python",
      "name": "python3"
    },
    "language_info": {
      "codemirror_mode": {
        "name": "ipython",
        "version": 3
      },
      "file_extension": ".py",
      "mimetype": "text/x-python",
      "name": "python",
      "nbconvert_exporter": "python",
      "pygments_lexer": "ipython3",
      "version": "3.8.3"
    },
    "colab": {
      "provenance": [],
      "include_colab_link": true
    }
  },
  "nbformat": 4,
  "nbformat_minor": 0
}