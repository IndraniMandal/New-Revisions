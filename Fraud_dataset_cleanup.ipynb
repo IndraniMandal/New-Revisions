{
  "nbformat": 4,
  "nbformat_minor": 0,
  "metadata": {
    "colab": {
      "provenance": [],
      "include_colab_link": true
    },
    "kernelspec": {
      "name": "python3",
      "display_name": "Python 3"
    },
    "language_info": {
      "name": "python"
    }
  },
  "cells": [
    {
      "cell_type": "markdown",
      "metadata": {
        "id": "view-in-github",
        "colab_type": "text"
      },
      "source": [
        "<a href=\"https://colab.research.google.com/github/IndraniMandal/New-Revisions/blob/main/Fraud_dataset_cleanup.ipynb\" target=\"_parent\"><img src=\"https://colab.research.google.com/assets/colab-badge.svg\" alt=\"Open In Colab\"/></a>"
      ]
    },
    {
      "cell_type": "code",
      "source": [
        "import pandas as pd\n",
        "import numpy as np\n",
        "import io\n",
        "import matplotlib.pyplot as plt\n",
        "import seaborn as sns\n",
        "sns.set()\n",
        "from sklearn import tree\n",
        "from sklearn.model_selection import cross_val_score\n",
        "from sklearn.model_selection import train_test_split\n",
        "from sklearn.metrics import accuracy_score\n",
        "from sklearn.metrics import precision_score\n",
        "from sklearn.metrics import recall_score\n",
        "from sklearn.metrics import f1_score\n",
        "from sklearn.metrics import confusion_matrix"
      ],
      "metadata": {
        "id": "6AtsfwtbP4ET"
      },
      "execution_count": null,
      "outputs": []
    },
    {
      "cell_type": "code",
      "source": [],
      "metadata": {
        "id": "uZ7NduIn1aLs"
      },
      "execution_count": null,
      "outputs": []
    },
    {
      "cell_type": "code",
      "source": [
        "! pip install kaggle"
      ],
      "metadata": {
        "colab": {
          "base_uri": "https://localhost:8080/"
        },
        "id": "O3AoWUA_v1Y6",
        "outputId": "9d2e0d54-c0c7-4171-d48a-93d655c8abba"
      },
      "execution_count": null,
      "outputs": [
        {
          "output_type": "stream",
          "name": "stdout",
          "text": [
            "Looking in indexes: https://pypi.org/simple, https://us-python.pkg.dev/colab-wheels/public/simple/\n",
            "Requirement already satisfied: kaggle in /usr/local/lib/python3.9/dist-packages (1.5.13)\n",
            "Requirement already satisfied: python-slugify in /usr/local/lib/python3.9/dist-packages (from kaggle) (8.0.1)\n",
            "Requirement already satisfied: certifi in /usr/local/lib/python3.9/dist-packages (from kaggle) (2022.12.7)\n",
            "Requirement already satisfied: six>=1.10 in /usr/local/lib/python3.9/dist-packages (from kaggle) (1.16.0)\n",
            "Requirement already satisfied: urllib3 in /usr/local/lib/python3.9/dist-packages (from kaggle) (1.26.15)\n",
            "Requirement already satisfied: requests in /usr/local/lib/python3.9/dist-packages (from kaggle) (2.27.1)\n",
            "Requirement already satisfied: tqdm in /usr/local/lib/python3.9/dist-packages (from kaggle) (4.65.0)\n",
            "Requirement already satisfied: python-dateutil in /usr/local/lib/python3.9/dist-packages (from kaggle) (2.8.2)\n",
            "Requirement already satisfied: text-unidecode>=1.3 in /usr/local/lib/python3.9/dist-packages (from python-slugify->kaggle) (1.3)\n",
            "Requirement already satisfied: idna<4,>=2.5 in /usr/local/lib/python3.9/dist-packages (from requests->kaggle) (3.4)\n",
            "Requirement already satisfied: charset-normalizer~=2.0.0 in /usr/local/lib/python3.9/dist-packages (from requests->kaggle) (2.0.12)\n"
          ]
        }
      ]
    },
    {
      "cell_type": "code",
      "source": [
        "! mkdir ~/.kaggle"
      ],
      "metadata": {
        "id": "GD1ICL161_be"
      },
      "execution_count": null,
      "outputs": []
    },
    {
      "cell_type": "code",
      "source": [
        "!cp /content/drive/MyDrive/kaggle.json ~/.kaggle/kaggle.json"
      ],
      "metadata": {
        "id": "dbMeUV8-1-Lr"
      },
      "execution_count": null,
      "outputs": []
    },
    {
      "cell_type": "code",
      "source": [
        "! kaggle datasets download khusheekapoor/vehicle-insurance-fraud-detection"
      ],
      "metadata": {
        "colab": {
          "base_uri": "https://localhost:8080/"
        },
        "id": "K6sHiERVw7Eb",
        "outputId": "427cf89f-8fe8-4e69-ee18-4b25154db269"
      },
      "execution_count": null,
      "outputs": [
        {
          "output_type": "stream",
          "name": "stdout",
          "text": [
            "Downloading vehicle-insurance-fraud-detection.zip to /content\n",
            "\r  0% 0.00/349k [00:00<?, ?B/s]\n",
            "\r100% 349k/349k [00:00<00:00, 86.5MB/s]\n"
          ]
        }
      ]
    },
    {
      "cell_type": "code",
      "source": [
        "!unzip /content/vehicle-insurance-fraud-detection.zip\n",
        "!rm /content/vehicle-insurance-fraud-detection.zip"
      ],
      "metadata": {
        "colab": {
          "base_uri": "https://localhost:8080/"
        },
        "id": "k2F9sRGbxJth",
        "outputId": "9faf13cc-340d-4ff6-f12b-7b886fcce712"
      },
      "execution_count": null,
      "outputs": [
        {
          "output_type": "stream",
          "name": "stdout",
          "text": [
            "Archive:  /content/vehicle-insurance-fraud-detection.zip\n",
            "  inflating: carclaims.csv           \n"
          ]
        }
      ]
    },
    {
      "cell_type": "markdown",
      "source": [
        "Vehicle insurance fraud dataset used: [Vehicle Insurance Fraud Detection](https://www.kaggle.com/datasets/khusheekapoor/vehicle-insurance-fraud-detection)\n"
      ],
      "metadata": {
        "id": "YimkzBpCqDPs"
      }
    },
    {
      "cell_type": "code",
      "source": [
        "fraud = pd.read_csv(\"/content/carclaims.csv\")\n",
        "fraud.head()"
      ],
      "metadata": {
        "colab": {
          "base_uri": "https://localhost:8080/",
          "height": 317
        },
        "id": "ms_xsc0EQr_O",
        "outputId": "978e1bd6-e213-4ba2-94e2-81d23bd07716"
      },
      "execution_count": null,
      "outputs": [
        {
          "output_type": "execute_result",
          "data": {
            "text/plain": [
              "  Month  WeekOfMonth  DayOfWeek    Make AccidentArea DayOfWeekClaimed  \\\n",
              "0   Dec            5  Wednesday   Honda        Urban          Tuesday   \n",
              "1   Jan            3  Wednesday   Honda        Urban           Monday   \n",
              "2   Oct            5     Friday   Honda        Urban         Thursday   \n",
              "3   Jun            2   Saturday  Toyota        Rural           Friday   \n",
              "4   Jan            5     Monday   Honda        Urban          Tuesday   \n",
              "\n",
              "  MonthClaimed  WeekOfMonthClaimed     Sex MaritalStatus  ...  \\\n",
              "0          Jan                   1  Female        Single  ...   \n",
              "1          Jan                   4    Male        Single  ...   \n",
              "2          Nov                   2    Male       Married  ...   \n",
              "3          Jul                   1    Male       Married  ...   \n",
              "4          Feb                   2  Female        Single  ...   \n",
              "\n",
              "   AgeOfPolicyHolder PoliceReportFiled WitnessPresent AgentType  \\\n",
              "0           26 to 30                No             No  External   \n",
              "1           31 to 35               Yes             No  External   \n",
              "2           41 to 50                No             No  External   \n",
              "3           51 to 65               Yes             No  External   \n",
              "4           31 to 35                No             No  External   \n",
              "\n",
              "  NumberOfSuppliments  AddressChange-Claim  NumberOfCars  Year  BasePolicy  \\\n",
              "0                none               1 year        3 to 4  1994   Liability   \n",
              "1                none            no change     1 vehicle  1994   Collision   \n",
              "2                none            no change     1 vehicle  1994   Collision   \n",
              "3         more than 5            no change     1 vehicle  1994   Liability   \n",
              "4                none            no change     1 vehicle  1994   Collision   \n",
              "\n",
              "  FraudFound  \n",
              "0         No  \n",
              "1         No  \n",
              "2         No  \n",
              "3         No  \n",
              "4         No  \n",
              "\n",
              "[5 rows x 33 columns]"
            ],
            "text/html": [
              "\n",
              "  <div id=\"df-23e9959b-59f9-471b-902a-bc97ca24636d\">\n",
              "    <div class=\"colab-df-container\">\n",
              "      <div>\n",
              "<style scoped>\n",
              "    .dataframe tbody tr th:only-of-type {\n",
              "        vertical-align: middle;\n",
              "    }\n",
              "\n",
              "    .dataframe tbody tr th {\n",
              "        vertical-align: top;\n",
              "    }\n",
              "\n",
              "    .dataframe thead th {\n",
              "        text-align: right;\n",
              "    }\n",
              "</style>\n",
              "<table border=\"1\" class=\"dataframe\">\n",
              "  <thead>\n",
              "    <tr style=\"text-align: right;\">\n",
              "      <th></th>\n",
              "      <th>Month</th>\n",
              "      <th>WeekOfMonth</th>\n",
              "      <th>DayOfWeek</th>\n",
              "      <th>Make</th>\n",
              "      <th>AccidentArea</th>\n",
              "      <th>DayOfWeekClaimed</th>\n",
              "      <th>MonthClaimed</th>\n",
              "      <th>WeekOfMonthClaimed</th>\n",
              "      <th>Sex</th>\n",
              "      <th>MaritalStatus</th>\n",
              "      <th>...</th>\n",
              "      <th>AgeOfPolicyHolder</th>\n",
              "      <th>PoliceReportFiled</th>\n",
              "      <th>WitnessPresent</th>\n",
              "      <th>AgentType</th>\n",
              "      <th>NumberOfSuppliments</th>\n",
              "      <th>AddressChange-Claim</th>\n",
              "      <th>NumberOfCars</th>\n",
              "      <th>Year</th>\n",
              "      <th>BasePolicy</th>\n",
              "      <th>FraudFound</th>\n",
              "    </tr>\n",
              "  </thead>\n",
              "  <tbody>\n",
              "    <tr>\n",
              "      <th>0</th>\n",
              "      <td>Dec</td>\n",
              "      <td>5</td>\n",
              "      <td>Wednesday</td>\n",
              "      <td>Honda</td>\n",
              "      <td>Urban</td>\n",
              "      <td>Tuesday</td>\n",
              "      <td>Jan</td>\n",
              "      <td>1</td>\n",
              "      <td>Female</td>\n",
              "      <td>Single</td>\n",
              "      <td>...</td>\n",
              "      <td>26 to 30</td>\n",
              "      <td>No</td>\n",
              "      <td>No</td>\n",
              "      <td>External</td>\n",
              "      <td>none</td>\n",
              "      <td>1 year</td>\n",
              "      <td>3 to 4</td>\n",
              "      <td>1994</td>\n",
              "      <td>Liability</td>\n",
              "      <td>No</td>\n",
              "    </tr>\n",
              "    <tr>\n",
              "      <th>1</th>\n",
              "      <td>Jan</td>\n",
              "      <td>3</td>\n",
              "      <td>Wednesday</td>\n",
              "      <td>Honda</td>\n",
              "      <td>Urban</td>\n",
              "      <td>Monday</td>\n",
              "      <td>Jan</td>\n",
              "      <td>4</td>\n",
              "      <td>Male</td>\n",
              "      <td>Single</td>\n",
              "      <td>...</td>\n",
              "      <td>31 to 35</td>\n",
              "      <td>Yes</td>\n",
              "      <td>No</td>\n",
              "      <td>External</td>\n",
              "      <td>none</td>\n",
              "      <td>no change</td>\n",
              "      <td>1 vehicle</td>\n",
              "      <td>1994</td>\n",
              "      <td>Collision</td>\n",
              "      <td>No</td>\n",
              "    </tr>\n",
              "    <tr>\n",
              "      <th>2</th>\n",
              "      <td>Oct</td>\n",
              "      <td>5</td>\n",
              "      <td>Friday</td>\n",
              "      <td>Honda</td>\n",
              "      <td>Urban</td>\n",
              "      <td>Thursday</td>\n",
              "      <td>Nov</td>\n",
              "      <td>2</td>\n",
              "      <td>Male</td>\n",
              "      <td>Married</td>\n",
              "      <td>...</td>\n",
              "      <td>41 to 50</td>\n",
              "      <td>No</td>\n",
              "      <td>No</td>\n",
              "      <td>External</td>\n",
              "      <td>none</td>\n",
              "      <td>no change</td>\n",
              "      <td>1 vehicle</td>\n",
              "      <td>1994</td>\n",
              "      <td>Collision</td>\n",
              "      <td>No</td>\n",
              "    </tr>\n",
              "    <tr>\n",
              "      <th>3</th>\n",
              "      <td>Jun</td>\n",
              "      <td>2</td>\n",
              "      <td>Saturday</td>\n",
              "      <td>Toyota</td>\n",
              "      <td>Rural</td>\n",
              "      <td>Friday</td>\n",
              "      <td>Jul</td>\n",
              "      <td>1</td>\n",
              "      <td>Male</td>\n",
              "      <td>Married</td>\n",
              "      <td>...</td>\n",
              "      <td>51 to 65</td>\n",
              "      <td>Yes</td>\n",
              "      <td>No</td>\n",
              "      <td>External</td>\n",
              "      <td>more than 5</td>\n",
              "      <td>no change</td>\n",
              "      <td>1 vehicle</td>\n",
              "      <td>1994</td>\n",
              "      <td>Liability</td>\n",
              "      <td>No</td>\n",
              "    </tr>\n",
              "    <tr>\n",
              "      <th>4</th>\n",
              "      <td>Jan</td>\n",
              "      <td>5</td>\n",
              "      <td>Monday</td>\n",
              "      <td>Honda</td>\n",
              "      <td>Urban</td>\n",
              "      <td>Tuesday</td>\n",
              "      <td>Feb</td>\n",
              "      <td>2</td>\n",
              "      <td>Female</td>\n",
              "      <td>Single</td>\n",
              "      <td>...</td>\n",
              "      <td>31 to 35</td>\n",
              "      <td>No</td>\n",
              "      <td>No</td>\n",
              "      <td>External</td>\n",
              "      <td>none</td>\n",
              "      <td>no change</td>\n",
              "      <td>1 vehicle</td>\n",
              "      <td>1994</td>\n",
              "      <td>Collision</td>\n",
              "      <td>No</td>\n",
              "    </tr>\n",
              "  </tbody>\n",
              "</table>\n",
              "<p>5 rows × 33 columns</p>\n",
              "</div>\n",
              "      <button class=\"colab-df-convert\" onclick=\"convertToInteractive('df-23e9959b-59f9-471b-902a-bc97ca24636d')\"\n",
              "              title=\"Convert this dataframe to an interactive table.\"\n",
              "              style=\"display:none;\">\n",
              "        \n",
              "  <svg xmlns=\"http://www.w3.org/2000/svg\" height=\"24px\"viewBox=\"0 0 24 24\"\n",
              "       width=\"24px\">\n",
              "    <path d=\"M0 0h24v24H0V0z\" fill=\"none\"/>\n",
              "    <path d=\"M18.56 5.44l.94 2.06.94-2.06 2.06-.94-2.06-.94-.94-2.06-.94 2.06-2.06.94zm-11 1L8.5 8.5l.94-2.06 2.06-.94-2.06-.94L8.5 2.5l-.94 2.06-2.06.94zm10 10l.94 2.06.94-2.06 2.06-.94-2.06-.94-.94-2.06-.94 2.06-2.06.94z\"/><path d=\"M17.41 7.96l-1.37-1.37c-.4-.4-.92-.59-1.43-.59-.52 0-1.04.2-1.43.59L10.3 9.45l-7.72 7.72c-.78.78-.78 2.05 0 2.83L4 21.41c.39.39.9.59 1.41.59.51 0 1.02-.2 1.41-.59l7.78-7.78 2.81-2.81c.8-.78.8-2.07 0-2.86zM5.41 20L4 18.59l7.72-7.72 1.47 1.35L5.41 20z\"/>\n",
              "  </svg>\n",
              "      </button>\n",
              "      \n",
              "  <style>\n",
              "    .colab-df-container {\n",
              "      display:flex;\n",
              "      flex-wrap:wrap;\n",
              "      gap: 12px;\n",
              "    }\n",
              "\n",
              "    .colab-df-convert {\n",
              "      background-color: #E8F0FE;\n",
              "      border: none;\n",
              "      border-radius: 50%;\n",
              "      cursor: pointer;\n",
              "      display: none;\n",
              "      fill: #1967D2;\n",
              "      height: 32px;\n",
              "      padding: 0 0 0 0;\n",
              "      width: 32px;\n",
              "    }\n",
              "\n",
              "    .colab-df-convert:hover {\n",
              "      background-color: #E2EBFA;\n",
              "      box-shadow: 0px 1px 2px rgba(60, 64, 67, 0.3), 0px 1px 3px 1px rgba(60, 64, 67, 0.15);\n",
              "      fill: #174EA6;\n",
              "    }\n",
              "\n",
              "    [theme=dark] .colab-df-convert {\n",
              "      background-color: #3B4455;\n",
              "      fill: #D2E3FC;\n",
              "    }\n",
              "\n",
              "    [theme=dark] .colab-df-convert:hover {\n",
              "      background-color: #434B5C;\n",
              "      box-shadow: 0px 1px 3px 1px rgba(0, 0, 0, 0.15);\n",
              "      filter: drop-shadow(0px 1px 2px rgba(0, 0, 0, 0.3));\n",
              "      fill: #FFFFFF;\n",
              "    }\n",
              "  </style>\n",
              "\n",
              "      <script>\n",
              "        const buttonEl =\n",
              "          document.querySelector('#df-23e9959b-59f9-471b-902a-bc97ca24636d button.colab-df-convert');\n",
              "        buttonEl.style.display =\n",
              "          google.colab.kernel.accessAllowed ? 'block' : 'none';\n",
              "\n",
              "        async function convertToInteractive(key) {\n",
              "          const element = document.querySelector('#df-23e9959b-59f9-471b-902a-bc97ca24636d');\n",
              "          const dataTable =\n",
              "            await google.colab.kernel.invokeFunction('convertToInteractive',\n",
              "                                                     [key], {});\n",
              "          if (!dataTable) return;\n",
              "\n",
              "          const docLinkHtml = 'Like what you see? Visit the ' +\n",
              "            '<a target=\"_blank\" href=https://colab.research.google.com/notebooks/data_table.ipynb>data table notebook</a>'\n",
              "            + ' to learn more about interactive tables.';\n",
              "          element.innerHTML = '';\n",
              "          dataTable['output_type'] = 'display_data';\n",
              "          await google.colab.output.renderOutput(dataTable, element);\n",
              "          const docLink = document.createElement('div');\n",
              "          docLink.innerHTML = docLinkHtml;\n",
              "          element.appendChild(docLink);\n",
              "        }\n",
              "      </script>\n",
              "    </div>\n",
              "  </div>\n",
              "  "
            ]
          },
          "metadata": {},
          "execution_count": 7
        }
      ]
    },
    {
      "cell_type": "code",
      "source": [
        "fraud.info()"
      ],
      "metadata": {
        "colab": {
          "base_uri": "https://localhost:8080/"
        },
        "id": "TX22PmfXck-_",
        "outputId": "1cf626eb-96db-481c-935c-ca1d86922465"
      },
      "execution_count": null,
      "outputs": [
        {
          "output_type": "stream",
          "name": "stdout",
          "text": [
            "<class 'pandas.core.frame.DataFrame'>\n",
            "RangeIndex: 15420 entries, 0 to 15419\n",
            "Data columns (total 33 columns):\n",
            " #   Column                Non-Null Count  Dtype \n",
            "---  ------                --------------  ----- \n",
            " 0   Month                 15420 non-null  object\n",
            " 1   WeekOfMonth           15420 non-null  int64 \n",
            " 2   DayOfWeek             15420 non-null  object\n",
            " 3   Make                  15420 non-null  object\n",
            " 4   AccidentArea          15420 non-null  object\n",
            " 5   DayOfWeekClaimed      15420 non-null  object\n",
            " 6   MonthClaimed          15420 non-null  object\n",
            " 7   WeekOfMonthClaimed    15420 non-null  int64 \n",
            " 8   Sex                   15420 non-null  object\n",
            " 9   MaritalStatus         15420 non-null  object\n",
            " 10  Age                   15420 non-null  int64 \n",
            " 11  Fault                 15420 non-null  object\n",
            " 12  PolicyType            15420 non-null  object\n",
            " 13  VehicleCategory       15420 non-null  object\n",
            " 14  VehiclePrice          15420 non-null  object\n",
            " 15  PolicyNumber          15420 non-null  int64 \n",
            " 16  RepNumber             15420 non-null  int64 \n",
            " 17  Deductible            15420 non-null  int64 \n",
            " 18  DriverRating          15420 non-null  int64 \n",
            " 19  Days:Policy-Accident  15420 non-null  object\n",
            " 20  Days:Policy-Claim     15420 non-null  object\n",
            " 21  PastNumberOfClaims    15420 non-null  object\n",
            " 22  AgeOfVehicle          15420 non-null  object\n",
            " 23  AgeOfPolicyHolder     15420 non-null  object\n",
            " 24  PoliceReportFiled     15420 non-null  object\n",
            " 25  WitnessPresent        15420 non-null  object\n",
            " 26  AgentType             15420 non-null  object\n",
            " 27  NumberOfSuppliments   15420 non-null  object\n",
            " 28  AddressChange-Claim   15420 non-null  object\n",
            " 29  NumberOfCars          15420 non-null  object\n",
            " 30  Year                  15420 non-null  int64 \n",
            " 31  BasePolicy            15420 non-null  object\n",
            " 32  FraudFound            15420 non-null  object\n",
            "dtypes: int64(8), object(25)\n",
            "memory usage: 3.9+ MB\n"
          ]
        }
      ]
    },
    {
      "cell_type": "markdown",
      "source": [
        "# Reformatting the categorical data into numerical data\n"
      ],
      "metadata": {
        "id": "rJMjcAmyuEYz"
      }
    },
    {
      "cell_type": "markdown",
      "source": [
        "Formatting the months into values from 0-11 in their correct order.\n"
      ],
      "metadata": {
        "id": "NKi5DwFd7fId"
      }
    },
    {
      "cell_type": "code",
      "source": [
        "fraud[\"Month\"].unique()"
      ],
      "metadata": {
        "colab": {
          "base_uri": "https://localhost:8080/"
        },
        "id": "kvEm21p4-1jp",
        "outputId": "e6311478-f29c-44e2-cb2d-d34c27dd3ade"
      },
      "execution_count": null,
      "outputs": [
        {
          "output_type": "execute_result",
          "data": {
            "text/plain": [
              "array(['Dec', 'Jan', 'Oct', 'Jun', 'Feb', 'Nov', 'Apr', 'Mar', 'Aug',\n",
              "       'Jul', 'May', 'Sep'], dtype=object)"
            ]
          },
          "metadata": {},
          "execution_count": 9
        }
      ]
    },
    {
      "cell_type": "code",
      "source": [
        "fraud['Month'].replace(['Jan', 'Feb', 'Mar', 'Apr', 'May', 'Jun', 'Jul', 'Aug', 'Sep', 'Oct', 'Nov', 'Dec'],[0,1,2,3,4,5,6,7,8,9,10,11], inplace=True)"
      ],
      "metadata": {
        "id": "NTgwwSDzGlq7"
      },
      "execution_count": null,
      "outputs": []
    },
    {
      "cell_type": "code",
      "source": [
        "fraud[\"Month\"].unique()"
      ],
      "metadata": {
        "colab": {
          "base_uri": "https://localhost:8080/"
        },
        "id": "YODyTKRKHHO1",
        "outputId": "d50ecea1-6dbb-46f3-b9a7-e469a36a0bd0"
      },
      "execution_count": null,
      "outputs": [
        {
          "output_type": "execute_result",
          "data": {
            "text/plain": [
              "array([11,  0,  9,  5,  1, 10,  3,  2,  7,  6,  4,  8])"
            ]
          },
          "metadata": {},
          "execution_count": 11
        }
      ]
    },
    {
      "cell_type": "markdown",
      "source": [
        "Formatting the days of the week from 0-6 starting from Sunday."
      ],
      "metadata": {
        "id": "YfZzEvVfuFK2"
      }
    },
    {
      "cell_type": "code",
      "source": [
        "fraud[\"DayOfWeek\"].unique()"
      ],
      "metadata": {
        "colab": {
          "base_uri": "https://localhost:8080/"
        },
        "id": "I9Imwznr_tC0",
        "outputId": "68be7acc-3320-4fd6-d7e9-726d0afc49e4"
      },
      "execution_count": null,
      "outputs": [
        {
          "output_type": "execute_result",
          "data": {
            "text/plain": [
              "array(['Wednesday', 'Friday', 'Saturday', 'Monday', 'Tuesday', 'Sunday',\n",
              "       'Thursday'], dtype=object)"
            ]
          },
          "metadata": {},
          "execution_count": 12
        }
      ]
    },
    {
      "cell_type": "code",
      "source": [
        "fraud[\"DayOfWeek\"].replace(['Sunday','Monday','Tuesday','Wednesday','Thursday','Friday','Saturday'],[0,1,2,3,4,5,6], inplace=True)"
      ],
      "metadata": {
        "id": "jeg748vPHpJ5"
      },
      "execution_count": null,
      "outputs": []
    },
    {
      "cell_type": "code",
      "source": [
        "fraud[\"DayOfWeek\"].unique()"
      ],
      "metadata": {
        "colab": {
          "base_uri": "https://localhost:8080/"
        },
        "id": "MQ1FB_GKH_r7",
        "outputId": "f1c7834d-54de-4a07-f323-5f90fadbda3e"
      },
      "execution_count": null,
      "outputs": [
        {
          "output_type": "execute_result",
          "data": {
            "text/plain": [
              "array([3, 5, 6, 1, 2, 0, 4])"
            ]
          },
          "metadata": {},
          "execution_count": 14
        }
      ]
    },
    {
      "cell_type": "markdown",
      "source": [
        "Formatting the car makes from 0-18 in no particular order. A key would be needed for further evaluation."
      ],
      "metadata": {
        "id": "7hLXEdrhuF8x"
      }
    },
    {
      "cell_type": "code",
      "source": [
        "fraud[\"Make\"].unique()"
      ],
      "metadata": {
        "colab": {
          "base_uri": "https://localhost:8080/"
        },
        "id": "d2zJFCDw_xHH",
        "outputId": "6b510116-3731-44be-eac4-c715b50bcebc"
      },
      "execution_count": null,
      "outputs": [
        {
          "output_type": "execute_result",
          "data": {
            "text/plain": [
              "array(['Honda', 'Toyota', 'Ford', 'Mazda', 'Chevrolet', 'Pontiac',\n",
              "       'Accura', 'Dodge', 'Mercury', 'Jaguar', 'Nisson', 'VW', 'Saab',\n",
              "       'Saturn', 'Porche', 'BMW', 'Mecedes', 'Ferrari', 'Lexus'],\n",
              "      dtype=object)"
            ]
          },
          "metadata": {},
          "execution_count": 15
        }
      ]
    },
    {
      "cell_type": "code",
      "source": [
        "fraud[\"Make\"].replace(['Honda', 'Toyota', 'Ford', 'Mazda', 'Chevrolet', 'Pontiac',\n",
        "       'Accura', 'Dodge', 'Mercury', 'Jaguar', 'Nisson', 'VW', 'Saab',\n",
        "       'Saturn', 'Porche', 'BMW', 'Mecedes', 'Ferrari', 'Lexus'],[0,1,2,3,4,5,6,7,8,9,10,11,12,13,14,15,16,17,18],inplace=True)"
      ],
      "metadata": {
        "id": "pEMCWwxsIUoA"
      },
      "execution_count": null,
      "outputs": []
    },
    {
      "cell_type": "code",
      "source": [
        "fraud[\"Make\"].unique()"
      ],
      "metadata": {
        "colab": {
          "base_uri": "https://localhost:8080/"
        },
        "id": "bysXO-b7I4Sp",
        "outputId": "297a21d6-91f4-4288-e014-a1751f43f7e6"
      },
      "execution_count": null,
      "outputs": [
        {
          "output_type": "execute_result",
          "data": {
            "text/plain": [
              "array([ 0,  1,  2,  3,  4,  5,  6,  7,  8,  9, 10, 11, 12, 13, 14, 15, 16,\n",
              "       17, 18])"
            ]
          },
          "metadata": {},
          "execution_count": 17
        }
      ]
    },
    {
      "cell_type": "markdown",
      "source": [
        "Formatted as simple binary values; Urban = 0, Rural 1"
      ],
      "metadata": {
        "id": "qUNSd6c2uGxz"
      }
    },
    {
      "cell_type": "code",
      "source": [
        "fraud[\"AccidentArea\"].unique()"
      ],
      "metadata": {
        "colab": {
          "base_uri": "https://localhost:8080/"
        },
        "id": "U9fhHVo3_6cM",
        "outputId": "8aa16045-5459-4340-bda9-875dc64f9501"
      },
      "execution_count": null,
      "outputs": [
        {
          "output_type": "execute_result",
          "data": {
            "text/plain": [
              "array(['Urban', 'Rural'], dtype=object)"
            ]
          },
          "metadata": {},
          "execution_count": 18
        }
      ]
    },
    {
      "cell_type": "code",
      "source": [
        "fraud[\"AccidentArea\"].replace(['Urban', 'Rural'],[0,1],inplace=True)"
      ],
      "metadata": {
        "id": "VQpniDyeJppn"
      },
      "execution_count": null,
      "outputs": []
    },
    {
      "cell_type": "code",
      "source": [
        "fraud[\"AccidentArea\"].unique()"
      ],
      "metadata": {
        "colab": {
          "base_uri": "https://localhost:8080/"
        },
        "id": "kCnnGcG3JzWW",
        "outputId": "9d79db40-871f-437c-aafd-34e3a72144de"
      },
      "execution_count": null,
      "outputs": [
        {
          "output_type": "execute_result",
          "data": {
            "text/plain": [
              "array([0, 1])"
            ]
          },
          "metadata": {},
          "execution_count": 20
        }
      ]
    },
    {
      "cell_type": "markdown",
      "source": [
        "Formatting the days of the week from 0-7 starting from Sunday. 7 is the representation of a null value, or that it was never reported."
      ],
      "metadata": {
        "id": "jf30uajXuHYe"
      }
    },
    {
      "cell_type": "code",
      "source": [
        "fraud[\"DayOfWeekClaimed\"].unique()"
      ],
      "metadata": {
        "colab": {
          "base_uri": "https://localhost:8080/"
        },
        "id": "FFmdMjgz__0g",
        "outputId": "8b96df86-b1db-4883-cf4f-3acc660b832d"
      },
      "execution_count": null,
      "outputs": [
        {
          "output_type": "execute_result",
          "data": {
            "text/plain": [
              "array(['Tuesday', 'Monday', 'Thursday', 'Friday', 'Wednesday', 'Saturday',\n",
              "       'Sunday', '0'], dtype=object)"
            ]
          },
          "metadata": {},
          "execution_count": 21
        }
      ]
    },
    {
      "cell_type": "code",
      "source": [
        "fraud[\"DayOfWeekClaimed\"].replace(['Sunday','Monday','Tuesday','Wednesday','Thursday','Friday','Saturday','0'],[0,1,2,3,4,5,6,7], inplace=True)"
      ],
      "metadata": {
        "id": "TUBf9AcETZvF"
      },
      "execution_count": null,
      "outputs": []
    },
    {
      "cell_type": "code",
      "source": [
        "fraud[\"DayOfWeekClaimed\"].unique()"
      ],
      "metadata": {
        "colab": {
          "base_uri": "https://localhost:8080/"
        },
        "outputId": "24e03329-8310-40a2-f3e0-6391425be4c1",
        "id": "dhtts8NfTese"
      },
      "execution_count": null,
      "outputs": [
        {
          "output_type": "execute_result",
          "data": {
            "text/plain": [
              "array([2, 1, 4, 5, 3, 6, 0, 7])"
            ]
          },
          "metadata": {},
          "execution_count": 23
        }
      ]
    },
    {
      "cell_type": "markdown",
      "source": [
        "Formatting the months into values from 0-12 in their correct order. 12 is the representation of a null value, or that it was never reported."
      ],
      "metadata": {
        "id": "ag-3_4rauIG5"
      }
    },
    {
      "cell_type": "code",
      "source": [
        "fraud[\"MonthClaimed\"].unique()"
      ],
      "metadata": {
        "colab": {
          "base_uri": "https://localhost:8080/"
        },
        "id": "0XllBcemAJ0l",
        "outputId": "ed1df642-170b-49e9-deb9-14c0219512e7"
      },
      "execution_count": null,
      "outputs": [
        {
          "output_type": "execute_result",
          "data": {
            "text/plain": [
              "array(['Jan', 'Nov', 'Jul', 'Feb', 'Mar', 'Dec', 'Apr', 'Aug', 'May',\n",
              "       'Jun', 'Sep', 'Oct', '0'], dtype=object)"
            ]
          },
          "metadata": {},
          "execution_count": 24
        }
      ]
    },
    {
      "cell_type": "code",
      "source": [
        "fraud['MonthClaimed'].replace(['Jan', 'Feb', 'Mar', 'Apr', 'May', 'Jun', 'Jul', 'Aug', 'Sep', 'Oct', 'Nov', 'Dec', '0'],[0,1,2,3,4,5,6,7,8,9,10,11,12], inplace=True)"
      ],
      "metadata": {
        "id": "9t1xOf2pUAK2"
      },
      "execution_count": null,
      "outputs": []
    },
    {
      "cell_type": "code",
      "source": [
        "fraud[\"MonthClaimed\"].unique()"
      ],
      "metadata": {
        "colab": {
          "base_uri": "https://localhost:8080/"
        },
        "outputId": "df2cec19-da4c-46b3-e2c1-5a5713debf4b",
        "id": "5buXTqZPUEgE"
      },
      "execution_count": null,
      "outputs": [
        {
          "output_type": "execute_result",
          "data": {
            "text/plain": [
              "array([ 0, 10,  6,  1,  2, 11,  3,  7,  4,  5,  8,  9, 12])"
            ]
          },
          "metadata": {},
          "execution_count": 26
        }
      ]
    },
    {
      "cell_type": "markdown",
      "source": [
        "Formatted as simple binary values; Male = 0, Female = 1"
      ],
      "metadata": {
        "id": "ZBLfDuBSuI33"
      }
    },
    {
      "cell_type": "code",
      "source": [
        "fraud[\"Sex\"].unique()"
      ],
      "metadata": {
        "colab": {
          "base_uri": "https://localhost:8080/"
        },
        "id": "dFLEoF7kCkxA",
        "outputId": "28771b66-2670-40c5-e84d-76a6c8217ce4"
      },
      "execution_count": null,
      "outputs": [
        {
          "output_type": "execute_result",
          "data": {
            "text/plain": [
              "array(['Female', 'Male'], dtype=object)"
            ]
          },
          "metadata": {},
          "execution_count": 27
        }
      ]
    },
    {
      "cell_type": "code",
      "source": [
        "fraud[\"Sex\"].replace(['Male','Female'],[0,1],inplace=True)"
      ],
      "metadata": {
        "id": "Ta_5JfupU789"
      },
      "execution_count": null,
      "outputs": []
    },
    {
      "cell_type": "code",
      "source": [
        "fraud[\"Sex\"].unique()"
      ],
      "metadata": {
        "colab": {
          "base_uri": "https://localhost:8080/"
        },
        "outputId": "a1c72bca-b970-4293-c9a4-afdf7a05acd2",
        "id": "ggysEj7iVKtv"
      },
      "execution_count": null,
      "outputs": [
        {
          "output_type": "execute_result",
          "data": {
            "text/plain": [
              "array([1, 0])"
            ]
          },
          "metadata": {},
          "execution_count": 29
        }
      ]
    },
    {
      "cell_type": "markdown",
      "source": [
        "Formatting current marital status from 0-3 sorted in no particular order. Would required key."
      ],
      "metadata": {
        "id": "Ahxcv6S0uJeV"
      }
    },
    {
      "cell_type": "code",
      "source": [
        "fraud[\"MaritalStatus\"].unique()"
      ],
      "metadata": {
        "colab": {
          "base_uri": "https://localhost:8080/"
        },
        "id": "A6RK0r4pCqgm",
        "outputId": "bd8be609-ecf5-4b65-f1a6-49a6947e1a77"
      },
      "execution_count": null,
      "outputs": [
        {
          "output_type": "execute_result",
          "data": {
            "text/plain": [
              "array(['Single', 'Married', 'Widow', 'Divorced'], dtype=object)"
            ]
          },
          "metadata": {},
          "execution_count": 30
        }
      ]
    },
    {
      "cell_type": "code",
      "source": [
        "fraud[\"MaritalStatus\"].replace(['Single', 'Married', 'Widow', 'Divorced'],[0,1,2,3],inplace=True)"
      ],
      "metadata": {
        "id": "uUx7FJw8YBrK"
      },
      "execution_count": null,
      "outputs": []
    },
    {
      "cell_type": "code",
      "source": [
        "fraud[\"MaritalStatus\"].unique()"
      ],
      "metadata": {
        "colab": {
          "base_uri": "https://localhost:8080/"
        },
        "outputId": "73f900f3-b8b5-488d-f810-9cdf6e59f87d",
        "id": "gblAryiqYO8Z"
      },
      "execution_count": null,
      "outputs": [
        {
          "output_type": "execute_result",
          "data": {
            "text/plain": [
              "array([0, 1, 2, 3])"
            ]
          },
          "metadata": {},
          "execution_count": 32
        }
      ]
    },
    {
      "cell_type": "markdown",
      "source": [
        "Formated as simple binary values; Policy Holder = 0, Third Party = 1"
      ],
      "metadata": {
        "id": "zqv5-wRnuKGK"
      }
    },
    {
      "cell_type": "code",
      "source": [
        "fraud[\"Fault\"].unique()"
      ],
      "metadata": {
        "colab": {
          "base_uri": "https://localhost:8080/"
        },
        "id": "iMnJPdvfCwe6",
        "outputId": "5a82eede-a69c-494a-9d22-0bd623d73c87"
      },
      "execution_count": null,
      "outputs": [
        {
          "output_type": "execute_result",
          "data": {
            "text/plain": [
              "array(['Policy Holder', 'Third Party'], dtype=object)"
            ]
          },
          "metadata": {},
          "execution_count": 33
        }
      ]
    },
    {
      "cell_type": "code",
      "source": [
        "fraud[\"Fault\"].replace(['Policy Holder', 'Third Party'],[0,1],inplace=True);"
      ],
      "metadata": {
        "id": "RH_xiX2EZtNj"
      },
      "execution_count": null,
      "outputs": []
    },
    {
      "cell_type": "code",
      "source": [
        "fraud[\"Fault\"].unique()"
      ],
      "metadata": {
        "colab": {
          "base_uri": "https://localhost:8080/"
        },
        "outputId": "1443bfae-183e-478a-cf02-e1930863e562",
        "id": "zOmss1GHZ9fE"
      },
      "execution_count": null,
      "outputs": [
        {
          "output_type": "execute_result",
          "data": {
            "text/plain": [
              "array([0, 1])"
            ]
          },
          "metadata": {},
          "execution_count": 35
        }
      ]
    },
    {
      "cell_type": "markdown",
      "source": [
        "Formatting the policy type from 0-8. Sorted by make and category. \n",
        "\n",
        "Make order: Sedan, Utility, Sport. \n",
        "\n",
        "Category order: Liability, Collision, All Perils."
      ],
      "metadata": {
        "id": "K4J1hXC1uK0w"
      }
    },
    {
      "cell_type": "code",
      "source": [
        "fraud[\"PolicyType\"].unique()"
      ],
      "metadata": {
        "colab": {
          "base_uri": "https://localhost:8080/"
        },
        "id": "ENlqtlLtDClA",
        "outputId": "b1d9a798-1a18-4342-bcad-1c0ef01de432"
      },
      "execution_count": null,
      "outputs": [
        {
          "output_type": "execute_result",
          "data": {
            "text/plain": [
              "array(['Sport - Liability', 'Sport - Collision', 'Sedan - Liability',\n",
              "       'Utility - All Perils', 'Sedan - All Perils', 'Sedan - Collision',\n",
              "       'Utility - Collision', 'Utility - Liability', 'Sport - All Perils'],\n",
              "      dtype=object)"
            ]
          },
          "metadata": {},
          "execution_count": 36
        }
      ]
    },
    {
      "cell_type": "code",
      "source": [
        "fraud[\"PolicyType\"].replace([ 'Sedan - Liability', 'Sedan - Collision', 'Sedan - All Perils', \n",
        "                              'Utility - Liability', 'Utility - Collision', 'Utility - All Perils',\n",
        "                              'Sport - Liability', 'Sport - Collision', 'Sport - All Perils'],[0,1,2,3,4,5,6,7,8],inplace=True)"
      ],
      "metadata": {
        "id": "XvUkYCtZaHUj"
      },
      "execution_count": null,
      "outputs": []
    },
    {
      "cell_type": "code",
      "source": [
        "fraud[\"PolicyType\"].unique()"
      ],
      "metadata": {
        "colab": {
          "base_uri": "https://localhost:8080/"
        },
        "outputId": "d5faec02-598b-422a-8b14-b39a301d8a34",
        "id": "JWJNvOGZawDJ"
      },
      "execution_count": null,
      "outputs": [
        {
          "output_type": "execute_result",
          "data": {
            "text/plain": [
              "array([6, 7, 0, 5, 2, 1, 4, 3, 8])"
            ]
          },
          "metadata": {},
          "execution_count": 38
        }
      ]
    },
    {
      "cell_type": "markdown",
      "source": [
        "Formatting the vehicle category from 0-2.\n",
        "Order: Sedan, Utility, Sport"
      ],
      "metadata": {
        "id": "fW2_cfGGuLk7"
      }
    },
    {
      "cell_type": "code",
      "source": [
        "fraud[\"VehicleCategory\"].unique()"
      ],
      "metadata": {
        "colab": {
          "base_uri": "https://localhost:8080/"
        },
        "id": "IJARivMQDdyF",
        "outputId": "6587ff79-0fc1-4f77-c9fc-f31aa5da0d99"
      },
      "execution_count": null,
      "outputs": [
        {
          "output_type": "execute_result",
          "data": {
            "text/plain": [
              "array(['Sport', 'Utility', 'Sedan'], dtype=object)"
            ]
          },
          "metadata": {},
          "execution_count": 39
        }
      ]
    },
    {
      "cell_type": "code",
      "source": [
        "fraud[\"VehicleCategory\"].replace(['Sedan', 'Utility', 'Sport'],[0,1,2],inplace=True)"
      ],
      "metadata": {
        "id": "8BnT96hLbY-8"
      },
      "execution_count": null,
      "outputs": []
    },
    {
      "cell_type": "code",
      "source": [
        "fraud[\"VehicleCategory\"].unique()"
      ],
      "metadata": {
        "colab": {
          "base_uri": "https://localhost:8080/"
        },
        "outputId": "95c20a77-3d51-4dc9-f5ba-f2b7bda1dd85",
        "id": "KqAAz0r5bom2"
      },
      "execution_count": null,
      "outputs": [
        {
          "output_type": "execute_result",
          "data": {
            "text/plain": [
              "array([2, 1, 0])"
            ]
          },
          "metadata": {},
          "execution_count": 41
        }
      ]
    },
    {
      "cell_type": "markdown",
      "source": [
        "Formatting the vehicle price range from 0-5. Ordered from lowest to highest price range."
      ],
      "metadata": {
        "id": "7TlW_FHIuMMX"
      }
    },
    {
      "cell_type": "code",
      "source": [
        "fraud[\"VehiclePrice\"].unique()"
      ],
      "metadata": {
        "colab": {
          "base_uri": "https://localhost:8080/"
        },
        "id": "88qvCi0uDliz",
        "outputId": "8535e397-fc5c-4088-ab24-b08a0cc4ade9"
      },
      "execution_count": null,
      "outputs": [
        {
          "output_type": "execute_result",
          "data": {
            "text/plain": [
              "array(['more than 69,000', '20,000 to 29,000', '30,000 to 39,000',\n",
              "       'less than 20,000', '40,000 to 59,000', '60,000 to 69,000'],\n",
              "      dtype=object)"
            ]
          },
          "metadata": {},
          "execution_count": 42
        }
      ]
    },
    {
      "cell_type": "code",
      "source": [
        "fraud[\"VehiclePrice\"].replace(['less than 20,000', '20,000 to 29,000', '30,000 to 39,000',\n",
        "                               '40,000 to 59,000', '60,000 to 69,000', 'more than 69,000'],[0,1,2,3,4,5],inplace=True)"
      ],
      "metadata": {
        "id": "elT1G7CIcHuA"
      },
      "execution_count": null,
      "outputs": []
    },
    {
      "cell_type": "code",
      "source": [
        "fraud[\"VehiclePrice\"].unique()"
      ],
      "metadata": {
        "colab": {
          "base_uri": "https://localhost:8080/"
        },
        "outputId": "eecc0f5f-c16d-4392-8afc-cddb1acf07df",
        "id": "kW-owr4lchry"
      },
      "execution_count": null,
      "outputs": [
        {
          "output_type": "execute_result",
          "data": {
            "text/plain": [
              "array([5, 1, 2, 0, 3, 4])"
            ]
          },
          "metadata": {},
          "execution_count": 44
        }
      ]
    },
    {
      "cell_type": "markdown",
      "source": [],
      "metadata": {
        "id": "vQmSEDWmuM_A"
      }
    },
    {
      "cell_type": "code",
      "source": [
        "fraud[\"Days:Policy-Accident\"].unique()"
      ],
      "metadata": {
        "colab": {
          "base_uri": "https://localhost:8080/"
        },
        "id": "iQaIYWjIDuwm",
        "outputId": "03aa443b-6bf5-4762-9588-6a3d726a2191"
      },
      "execution_count": null,
      "outputs": [
        {
          "output_type": "execute_result",
          "data": {
            "text/plain": [
              "array(['more than 30', '15 to 30', 'none', '1 to 7', '8 to 15'],\n",
              "      dtype=object)"
            ]
          },
          "metadata": {},
          "execution_count": 45
        }
      ]
    },
    {
      "cell_type": "code",
      "source": [
        "fraud[\"Days:Policy-Accident\"].replace(['none', '1 to 7', '8 to 15',\n",
        "                                       '15 to 30', 'more than 30'],[0,1,2,3,4],inplace=True)"
      ],
      "metadata": {
        "id": "bG8rrcY5fgaq"
      },
      "execution_count": null,
      "outputs": []
    },
    {
      "cell_type": "code",
      "source": [
        "fraud[\"Days:Policy-Accident\"].unique()"
      ],
      "metadata": {
        "colab": {
          "base_uri": "https://localhost:8080/"
        },
        "outputId": "12608ef1-f2f8-4955-dbac-81794b6d10d7",
        "id": "dH_aCG7yfhVr"
      },
      "execution_count": null,
      "outputs": [
        {
          "output_type": "execute_result",
          "data": {
            "text/plain": [
              "array([4, 3, 0, 1, 2])"
            ]
          },
          "metadata": {},
          "execution_count": 47
        }
      ]
    },
    {
      "cell_type": "markdown",
      "source": [],
      "metadata": {
        "id": "Y_9ki3JguOr3"
      }
    },
    {
      "cell_type": "code",
      "source": [
        "fraud[\"Days:Policy-Claim\"].unique()"
      ],
      "metadata": {
        "colab": {
          "base_uri": "https://localhost:8080/"
        },
        "id": "NOwQwfn-D29-",
        "outputId": "8f42c4b7-2378-436d-d80c-f2b88584fdc9"
      },
      "execution_count": null,
      "outputs": [
        {
          "output_type": "execute_result",
          "data": {
            "text/plain": [
              "array(['more than 30', '15 to 30', '8 to 15', 'none'], dtype=object)"
            ]
          },
          "metadata": {},
          "execution_count": 48
        }
      ]
    },
    {
      "cell_type": "code",
      "source": [
        "fraud[\"Days:Policy-Claim\"].replace(['none', '8 to 15','15 to 30', 'more than 30'],[0,1,2,3],inplace=True)"
      ],
      "metadata": {
        "id": "aDqTif8VgDpq"
      },
      "execution_count": null,
      "outputs": []
    },
    {
      "cell_type": "code",
      "source": [
        "fraud[\"Days:Policy-Claim\"].unique()"
      ],
      "metadata": {
        "colab": {
          "base_uri": "https://localhost:8080/"
        },
        "outputId": "46d658be-cd7c-4ddc-b472-33ad6f8d623b",
        "id": "hg89Jwk-gDIr"
      },
      "execution_count": null,
      "outputs": [
        {
          "output_type": "execute_result",
          "data": {
            "text/plain": [
              "array([3, 2, 1, 0])"
            ]
          },
          "metadata": {},
          "execution_count": 50
        }
      ]
    },
    {
      "cell_type": "markdown",
      "source": [],
      "metadata": {
        "id": "NWj_UyeruPYu"
      }
    },
    {
      "cell_type": "code",
      "source": [
        "fraud[\"PastNumberOfClaims\"].unique()"
      ],
      "metadata": {
        "colab": {
          "base_uri": "https://localhost:8080/"
        },
        "id": "rO7naIloESNy",
        "outputId": "5df88916-4f5c-4eb8-bb5d-7743c16b920e"
      },
      "execution_count": null,
      "outputs": [
        {
          "output_type": "execute_result",
          "data": {
            "text/plain": [
              "array(['none', '1', '2 to 4', 'more than 4'], dtype=object)"
            ]
          },
          "metadata": {},
          "execution_count": 51
        }
      ]
    },
    {
      "cell_type": "code",
      "source": [
        "fraud[\"PastNumberOfClaims\"].replace(['none', '1', '2 to 4', 'more than 4'],[0,1,2,3],inplace=True)"
      ],
      "metadata": {
        "id": "glcZnXCBhBpe"
      },
      "execution_count": null,
      "outputs": []
    },
    {
      "cell_type": "code",
      "source": [
        "fraud[\"PastNumberOfClaims\"].unique()"
      ],
      "metadata": {
        "colab": {
          "base_uri": "https://localhost:8080/"
        },
        "outputId": "b07b0b73-ab92-4bbf-e612-839a7bc192b3",
        "id": "fRRjYogMhLnJ"
      },
      "execution_count": null,
      "outputs": [
        {
          "output_type": "execute_result",
          "data": {
            "text/plain": [
              "array([0, 1, 2, 3])"
            ]
          },
          "metadata": {},
          "execution_count": 53
        }
      ]
    },
    {
      "cell_type": "markdown",
      "source": [],
      "metadata": {
        "id": "WHQxOwS7uQFn"
      }
    },
    {
      "cell_type": "code",
      "source": [
        "fraud[\"AgeOfVehicle\"].unique()"
      ],
      "metadata": {
        "colab": {
          "base_uri": "https://localhost:8080/"
        },
        "id": "Lif6gy6xErpf",
        "outputId": "75483524-5556-4e1f-ea48-3cc5121a17b4"
      },
      "execution_count": null,
      "outputs": [
        {
          "output_type": "execute_result",
          "data": {
            "text/plain": [
              "array(['3 years', '6 years', '7 years', 'more than 7', '5 years', 'new',\n",
              "       '4 years', '2 years'], dtype=object)"
            ]
          },
          "metadata": {},
          "execution_count": 54
        }
      ]
    },
    {
      "cell_type": "code",
      "source": [
        "fraud[\"AgeOfVehicle\"].replace(['new', '2 years', '3 years',\n",
        "                               '4 years', '5 years', '6 years',\n",
        "                               '7 years', 'more than 7'],[0,1,2,3,4,5,6,7],inplace=True)"
      ],
      "metadata": {
        "id": "ANzLeQd2nnKk"
      },
      "execution_count": null,
      "outputs": []
    },
    {
      "cell_type": "code",
      "source": [
        "fraud[\"AgeOfVehicle\"].unique()"
      ],
      "metadata": {
        "colab": {
          "base_uri": "https://localhost:8080/"
        },
        "outputId": "8a61b0ef-9324-4cf5-d9fd-3a25b42556b2",
        "id": "LHSq64GTnms_"
      },
      "execution_count": null,
      "outputs": [
        {
          "output_type": "execute_result",
          "data": {
            "text/plain": [
              "array([2, 5, 6, 7, 4, 0, 3, 1])"
            ]
          },
          "metadata": {},
          "execution_count": 56
        }
      ]
    },
    {
      "cell_type": "markdown",
      "source": [],
      "metadata": {
        "id": "MBLdEOhiuRA1"
      }
    },
    {
      "cell_type": "code",
      "source": [
        "fraud[\"AgeOfPolicyHolder\"].unique()"
      ],
      "metadata": {
        "colab": {
          "base_uri": "https://localhost:8080/"
        },
        "id": "GS3A9lKNFGw3",
        "outputId": "9f9f1ff1-e91d-4140-cc04-4952f1f50ea7"
      },
      "execution_count": null,
      "outputs": [
        {
          "output_type": "execute_result",
          "data": {
            "text/plain": [
              "array(['26 to 30', '31 to 35', '41 to 50', '51 to 65', '21 to 25',\n",
              "       '36 to 40', '16 to 17', 'over 65', '18 to 20'], dtype=object)"
            ]
          },
          "metadata": {},
          "execution_count": 57
        }
      ]
    },
    {
      "cell_type": "code",
      "source": [
        "fraud[\"AgeOfPolicyHolder\"].replace(['16 to 17', '18 to 20', '21 to 25',\n",
        "                                    '26 to 30', '31 to 35', '36 to 40',\n",
        "                                    '41 to 50', '51 to 65', 'over 65'],[0,1,2,3,4,5,6,7,8],inplace=True)"
      ],
      "metadata": {
        "id": "Lg1oWYmGofwA"
      },
      "execution_count": null,
      "outputs": []
    },
    {
      "cell_type": "code",
      "source": [
        "fraud[\"AgeOfPolicyHolder\"].unique()"
      ],
      "metadata": {
        "colab": {
          "base_uri": "https://localhost:8080/"
        },
        "outputId": "0ffa80ce-f793-49b2-a96b-88cc77e826d5",
        "id": "kuz79aHjoeyA"
      },
      "execution_count": null,
      "outputs": [
        {
          "output_type": "execute_result",
          "data": {
            "text/plain": [
              "array([3, 4, 6, 7, 2, 5, 0, 8, 1])"
            ]
          },
          "metadata": {},
          "execution_count": 59
        }
      ]
    },
    {
      "cell_type": "markdown",
      "source": [],
      "metadata": {
        "id": "b0CO2qynuR3c"
      }
    },
    {
      "cell_type": "code",
      "source": [
        "fraud[\"PoliceReportFiled\"].unique()"
      ],
      "metadata": {
        "colab": {
          "base_uri": "https://localhost:8080/"
        },
        "id": "DSVVQ1D9FNV0",
        "outputId": "8d30629a-d878-49ed-add5-cbb0fbffb3e4"
      },
      "execution_count": null,
      "outputs": [
        {
          "output_type": "execute_result",
          "data": {
            "text/plain": [
              "array(['No', 'Yes'], dtype=object)"
            ]
          },
          "metadata": {},
          "execution_count": 60
        }
      ]
    },
    {
      "cell_type": "code",
      "source": [
        "fraud[\"PoliceReportFiled\"].replace(['No','Yes'],[0,1],inplace=True)"
      ],
      "metadata": {
        "id": "hNI4n37ypcdk"
      },
      "execution_count": null,
      "outputs": []
    },
    {
      "cell_type": "code",
      "source": [
        "fraud[\"PoliceReportFiled\"].unique()"
      ],
      "metadata": {
        "colab": {
          "base_uri": "https://localhost:8080/"
        },
        "outputId": "49b6fcdc-16fb-405e-cd4e-344eb4b991ee",
        "id": "J5JwYG8dpbsQ"
      },
      "execution_count": null,
      "outputs": [
        {
          "output_type": "execute_result",
          "data": {
            "text/plain": [
              "array([0, 1])"
            ]
          },
          "metadata": {},
          "execution_count": 62
        }
      ]
    },
    {
      "cell_type": "markdown",
      "source": [],
      "metadata": {
        "id": "oGVXcTENuSlW"
      }
    },
    {
      "cell_type": "code",
      "source": [
        "fraud[\"WitnessPresent\"].unique()"
      ],
      "metadata": {
        "colab": {
          "base_uri": "https://localhost:8080/"
        },
        "id": "oFSsspjWFV07",
        "outputId": "bac657a4-aeb9-4bb9-9a79-138c25d2f5f4"
      },
      "execution_count": null,
      "outputs": [
        {
          "output_type": "execute_result",
          "data": {
            "text/plain": [
              "array(['No', 'Yes'], dtype=object)"
            ]
          },
          "metadata": {},
          "execution_count": 63
        }
      ]
    },
    {
      "cell_type": "code",
      "source": [
        "fraud[\"WitnessPresent\"].replace(['No','Yes'],[0,1],inplace=True)"
      ],
      "metadata": {
        "id": "BkdcTcswpohQ"
      },
      "execution_count": null,
      "outputs": []
    },
    {
      "cell_type": "code",
      "source": [
        "fraud[\"WitnessPresent\"].unique()"
      ],
      "metadata": {
        "colab": {
          "base_uri": "https://localhost:8080/"
        },
        "outputId": "9fc17315-a120-4ff5-b8cd-2dc27aec1872",
        "id": "mY6OpkD0pohQ"
      },
      "execution_count": null,
      "outputs": [
        {
          "output_type": "execute_result",
          "data": {
            "text/plain": [
              "array([0, 1])"
            ]
          },
          "metadata": {},
          "execution_count": 65
        }
      ]
    },
    {
      "cell_type": "markdown",
      "source": [],
      "metadata": {
        "id": "xv7FwM6WuTRy"
      }
    },
    {
      "cell_type": "code",
      "source": [
        "fraud[\"AgentType\"].unique()"
      ],
      "metadata": {
        "colab": {
          "base_uri": "https://localhost:8080/"
        },
        "id": "FldReQ60FcOD",
        "outputId": "105f6796-b927-439a-892c-1c59c2ab3111"
      },
      "execution_count": null,
      "outputs": [
        {
          "output_type": "execute_result",
          "data": {
            "text/plain": [
              "array(['External', 'Internal'], dtype=object)"
            ]
          },
          "metadata": {},
          "execution_count": 66
        }
      ]
    },
    {
      "cell_type": "code",
      "source": [
        "fraud[\"AgentType\"].replace(['External', 'Internal'],[0,1],inplace=True)"
      ],
      "metadata": {
        "id": "hAkp1E-vNALO"
      },
      "execution_count": null,
      "outputs": []
    },
    {
      "cell_type": "code",
      "source": [
        "fraud[\"AgentType\"].unique()"
      ],
      "metadata": {
        "colab": {
          "base_uri": "https://localhost:8080/"
        },
        "outputId": "cfdf7adb-6166-42ea-fb31-50e43c09ab10",
        "id": "MX9z5ADJNAP4"
      },
      "execution_count": null,
      "outputs": [
        {
          "output_type": "execute_result",
          "data": {
            "text/plain": [
              "array([0, 1])"
            ]
          },
          "metadata": {},
          "execution_count": 68
        }
      ]
    },
    {
      "cell_type": "markdown",
      "source": [],
      "metadata": {
        "id": "IU8VjULpuUAk"
      }
    },
    {
      "cell_type": "code",
      "source": [
        "fraud[\"NumberOfSuppliments\"].unique()"
      ],
      "metadata": {
        "colab": {
          "base_uri": "https://localhost:8080/"
        },
        "id": "MCc0kWhBFfD3",
        "outputId": "8af91e6b-dabd-44b2-808a-d503ae00cd89"
      },
      "execution_count": null,
      "outputs": [
        {
          "output_type": "execute_result",
          "data": {
            "text/plain": [
              "array(['none', 'more than 5', '3 to 5', '1 to 2'], dtype=object)"
            ]
          },
          "metadata": {},
          "execution_count": 69
        }
      ]
    },
    {
      "cell_type": "code",
      "source": [
        "fraud[\"NumberOfSuppliments\"].replace(['none', '1 to 2', '3 to 5', 'more than 5'],[0,1,2,3],inplace=True)"
      ],
      "metadata": {
        "id": "VovWNYTHNhac"
      },
      "execution_count": null,
      "outputs": []
    },
    {
      "cell_type": "code",
      "source": [
        "fraud[\"NumberOfSuppliments\"].unique()"
      ],
      "metadata": {
        "colab": {
          "base_uri": "https://localhost:8080/"
        },
        "outputId": "af182155-9a92-4e89-a5bd-259e9efc8011",
        "id": "AwxE4KjiNhfh"
      },
      "execution_count": null,
      "outputs": [
        {
          "output_type": "execute_result",
          "data": {
            "text/plain": [
              "array([0, 3, 2, 1])"
            ]
          },
          "metadata": {},
          "execution_count": 71
        }
      ]
    },
    {
      "cell_type": "markdown",
      "source": [],
      "metadata": {
        "id": "uFujcctVuU4h"
      }
    },
    {
      "cell_type": "code",
      "source": [
        "fraud[\"AddressChange-Claim\"].unique()"
      ],
      "metadata": {
        "colab": {
          "base_uri": "https://localhost:8080/"
        },
        "id": "L16r2k-jFkC8",
        "outputId": "730e38d1-48d1-4ea7-aa0b-43aae126c9aa"
      },
      "execution_count": null,
      "outputs": [
        {
          "output_type": "execute_result",
          "data": {
            "text/plain": [
              "array(['1 year', 'no change', '4 to 8 years', '2 to 3 years',\n",
              "       'under 6 months'], dtype=object)"
            ]
          },
          "metadata": {},
          "execution_count": 72
        }
      ]
    },
    {
      "cell_type": "code",
      "source": [
        "fraud[\"AddressChange-Claim\"].replace(['no change', 'under 6 months', '1 year', '2 to 3 years', '4 to 8 years'],[0,1,2,3,4],inplace=True)"
      ],
      "metadata": {
        "id": "PSPgC2y8Nv6I"
      },
      "execution_count": null,
      "outputs": []
    },
    {
      "cell_type": "code",
      "source": [
        "fraud[\"AddressChange-Claim\"].unique()"
      ],
      "metadata": {
        "colab": {
          "base_uri": "https://localhost:8080/"
        },
        "outputId": "63d3cf73-7593-4c78-fcd6-714c584e647f",
        "id": "FXbyf_7PNv9u"
      },
      "execution_count": null,
      "outputs": [
        {
          "output_type": "execute_result",
          "data": {
            "text/plain": [
              "array([2, 0, 4, 3, 1])"
            ]
          },
          "metadata": {},
          "execution_count": 74
        }
      ]
    },
    {
      "cell_type": "markdown",
      "source": [],
      "metadata": {
        "id": "jHDs9QueuVs8"
      }
    },
    {
      "cell_type": "code",
      "source": [
        "fraud[\"NumberOfCars\"].unique()"
      ],
      "metadata": {
        "colab": {
          "base_uri": "https://localhost:8080/"
        },
        "id": "dGCyEE_KFrvl",
        "outputId": "a2f7a13e-0110-4ff2-c292-793bb4be3c15"
      },
      "execution_count": null,
      "outputs": [
        {
          "output_type": "execute_result",
          "data": {
            "text/plain": [
              "array(['3 to 4', '1 vehicle', '2 vehicles', '5 to 8', 'more than 8'],\n",
              "      dtype=object)"
            ]
          },
          "metadata": {},
          "execution_count": 75
        }
      ]
    },
    {
      "cell_type": "code",
      "source": [
        "fraud[\"NumberOfCars\"].replace(['1 vehicle', '2 vehicles', '3 to 4', '5 to 8', 'more than 8'],[0,1,2,3,4],inplace=True)"
      ],
      "metadata": {
        "id": "5OL1N6eZPxuB"
      },
      "execution_count": null,
      "outputs": []
    },
    {
      "cell_type": "code",
      "source": [
        "fraud[\"NumberOfCars\"].unique()"
      ],
      "metadata": {
        "colab": {
          "base_uri": "https://localhost:8080/"
        },
        "outputId": "4fa47933-eee8-4492-8b5b-45da619bb946",
        "id": "kVt2wNlUPxwa"
      },
      "execution_count": null,
      "outputs": [
        {
          "output_type": "execute_result",
          "data": {
            "text/plain": [
              "array([2, 0, 1, 3, 4])"
            ]
          },
          "metadata": {},
          "execution_count": 77
        }
      ]
    },
    {
      "cell_type": "markdown",
      "source": [],
      "metadata": {
        "id": "ixgi5JVquWeU"
      }
    },
    {
      "cell_type": "code",
      "source": [
        "fraud[\"BasePolicy\"].unique()"
      ],
      "metadata": {
        "colab": {
          "base_uri": "https://localhost:8080/"
        },
        "id": "H9HO6fE-FyaO",
        "outputId": "c5fa778b-3a3e-4c0c-f96a-f885200527ae"
      },
      "execution_count": null,
      "outputs": [
        {
          "output_type": "execute_result",
          "data": {
            "text/plain": [
              "array(['Liability', 'Collision', 'All Perils'], dtype=object)"
            ]
          },
          "metadata": {},
          "execution_count": 78
        }
      ]
    },
    {
      "cell_type": "code",
      "source": [
        "fraud[\"BasePolicy\"].replace(['Liability', 'Collision', 'All Perils'],[0,1,2],inplace=True)"
      ],
      "metadata": {
        "id": "UrRAJuDfQICv"
      },
      "execution_count": null,
      "outputs": []
    },
    {
      "cell_type": "code",
      "source": [
        "fraud[\"BasePolicy\"].unique()"
      ],
      "metadata": {
        "colab": {
          "base_uri": "https://localhost:8080/"
        },
        "outputId": "7d064fb4-a7ec-49b0-ac31-445f932b85e3",
        "id": "aJSOZlINQIF8"
      },
      "execution_count": null,
      "outputs": [
        {
          "output_type": "execute_result",
          "data": {
            "text/plain": [
              "array([0, 1, 2])"
            ]
          },
          "metadata": {},
          "execution_count": 80
        }
      ]
    },
    {
      "cell_type": "markdown",
      "source": [],
      "metadata": {
        "id": "Nv40FB72uXNS"
      }
    },
    {
      "cell_type": "code",
      "source": [
        "fraud[\"FraudFound\"].unique()"
      ],
      "metadata": {
        "colab": {
          "base_uri": "https://localhost:8080/"
        },
        "id": "eawQAxW7F2EW",
        "outputId": "37700015-b5cf-4428-904a-f1cd0d14f2d4"
      },
      "execution_count": null,
      "outputs": [
        {
          "output_type": "execute_result",
          "data": {
            "text/plain": [
              "array(['No', 'Yes'], dtype=object)"
            ]
          },
          "metadata": {},
          "execution_count": 81
        }
      ]
    },
    {
      "cell_type": "code",
      "source": [
        "fraud.info()"
      ],
      "metadata": {
        "colab": {
          "base_uri": "https://localhost:8080/"
        },
        "id": "tywe0lM3QX6K",
        "outputId": "40022e12-a8db-494b-8b29-1ce2eaab8324"
      },
      "execution_count": null,
      "outputs": [
        {
          "output_type": "stream",
          "name": "stdout",
          "text": [
            "<class 'pandas.core.frame.DataFrame'>\n",
            "RangeIndex: 15420 entries, 0 to 15419\n",
            "Data columns (total 33 columns):\n",
            " #   Column                Non-Null Count  Dtype \n",
            "---  ------                --------------  ----- \n",
            " 0   Month                 15420 non-null  int64 \n",
            " 1   WeekOfMonth           15420 non-null  int64 \n",
            " 2   DayOfWeek             15420 non-null  int64 \n",
            " 3   Make                  15420 non-null  int64 \n",
            " 4   AccidentArea          15420 non-null  int64 \n",
            " 5   DayOfWeekClaimed      15420 non-null  int64 \n",
            " 6   MonthClaimed          15420 non-null  int64 \n",
            " 7   WeekOfMonthClaimed    15420 non-null  int64 \n",
            " 8   Sex                   15420 non-null  int64 \n",
            " 9   MaritalStatus         15420 non-null  int64 \n",
            " 10  Age                   15420 non-null  int64 \n",
            " 11  Fault                 15420 non-null  int64 \n",
            " 12  PolicyType            15420 non-null  int64 \n",
            " 13  VehicleCategory       15420 non-null  int64 \n",
            " 14  VehiclePrice          15420 non-null  int64 \n",
            " 15  PolicyNumber          15420 non-null  int64 \n",
            " 16  RepNumber             15420 non-null  int64 \n",
            " 17  Deductible            15420 non-null  int64 \n",
            " 18  DriverRating          15420 non-null  int64 \n",
            " 19  Days:Policy-Accident  15420 non-null  int64 \n",
            " 20  Days:Policy-Claim     15420 non-null  int64 \n",
            " 21  PastNumberOfClaims    15420 non-null  int64 \n",
            " 22  AgeOfVehicle          15420 non-null  int64 \n",
            " 23  AgeOfPolicyHolder     15420 non-null  int64 \n",
            " 24  PoliceReportFiled     15420 non-null  int64 \n",
            " 25  WitnessPresent        15420 non-null  int64 \n",
            " 26  AgentType             15420 non-null  int64 \n",
            " 27  NumberOfSuppliments   15420 non-null  int64 \n",
            " 28  AddressChange-Claim   15420 non-null  int64 \n",
            " 29  NumberOfCars          15420 non-null  int64 \n",
            " 30  Year                  15420 non-null  int64 \n",
            " 31  BasePolicy            15420 non-null  int64 \n",
            " 32  FraudFound            15420 non-null  object\n",
            "dtypes: int64(32), object(1)\n",
            "memory usage: 3.9+ MB\n"
          ]
        }
      ]
    },
    {
      "cell_type": "markdown",
      "source": [],
      "metadata": {
        "id": "HwpsPb-nuZPI"
      }
    },
    {
      "cell_type": "code",
      "source": [
        "X  = fraud.drop(['FraudFound'],axis=1)\n",
        "y = fraud['FraudFound']\n",
        "\n",
        "model = tree.DecisionTreeClassifier(criterion='entropy')\n",
        "\n",
        "model.fit(X,y)\n",
        "scores = cross_val_score(model, X, y, cv=5)\n",
        "print(\"Fold Accuracies: {}\".format(scores))\n",
        "print(\"Accuracy: {:3.2f}\".format(scores.mean()))"
      ],
      "metadata": {
        "colab": {
          "base_uri": "https://localhost:8080/"
        },
        "id": "xT0VLiyGQ6m0",
        "outputId": "b6b0776f-5535-41db-9533-0d0715ece9a8"
      },
      "execution_count": null,
      "outputs": [
        {
          "output_type": "stream",
          "name": "stdout",
          "text": [
            "Fold Accuracies: [0.29053178 0.76783398 0.76232166 0.8654345  0.93709468]\n",
            "Accuracy: 0.72\n"
          ]
        }
      ]
    },
    {
      "cell_type": "code",
      "source": [
        "X_train,X_test,y_train,y_test=train_test_split(X,y,train_size=0.7, test_size=0.3,random_state=2)"
      ],
      "metadata": {
        "id": "z5qjfRmhYhJh"
      },
      "execution_count": null,
      "outputs": []
    },
    {
      "cell_type": "code",
      "source": [
        "model = tree.DecisionTreeClassifier(criterion='entropy', max_depth=1)\n",
        "\n",
        "model.fit(X_train, y_train)\n",
        "\n",
        "y_train_model = model.predict(X_train)\n",
        "\n",
        "y_test_model = model.predict(X_test)"
      ],
      "metadata": {
        "id": "BSRnHLAuhvHF"
      },
      "execution_count": null,
      "outputs": []
    },
    {
      "cell_type": "code",
      "source": [
        "print(\"Precision Accuracy: {:3.2f}\".format(precision_score(y_test,y_test_model, average = 'weighted')))\n",
        "print(\"Recall Accuracy: {:3.2f}\".format(recall_score(y_test,y_test_model, average = 'weighted')))\n",
        "print(\"Accuracy Accuracy: {:3.2f}\".format(accuracy_score(y_test,y_test_model)))\n",
        "print(\"F1 Score Accuracy: {:3.2f}\".format(f1_score(y_test, y_test_model, average='micro')))"
      ],
      "metadata": {
        "colab": {
          "base_uri": "https://localhost:8080/"
        },
        "id": "3pekIpdYRlF-",
        "outputId": "0d263851-3be8-4682-a1e9-f8a3f917844e"
      },
      "execution_count": null,
      "outputs": [
        {
          "output_type": "stream",
          "name": "stdout",
          "text": [
            "Precision Accuracy: 0.88\n",
            "Recall Accuracy: 0.94\n",
            "Accuracy Accuracy: 0.94\n",
            "F1 Score Accuracy: 0.94\n"
          ]
        },
        {
          "output_type": "stream",
          "name": "stderr",
          "text": [
            "/usr/local/lib/python3.9/dist-packages/sklearn/metrics/_classification.py:1344: UndefinedMetricWarning: Precision is ill-defined and being set to 0.0 in labels with no predicted samples. Use `zero_division` parameter to control this behavior.\n",
            "  _warn_prf(average, modifier, msg_start, len(result))\n"
          ]
        }
      ]
    },
    {
      "cell_type": "code",
      "source": [
        "fraud.to_csv('cleanFraud.csv', encoding='utf-8', index=False)"
      ],
      "metadata": {
        "id": "FP4pmWMJrvpn"
      },
      "execution_count": null,
      "outputs": []
    }
  ]
}