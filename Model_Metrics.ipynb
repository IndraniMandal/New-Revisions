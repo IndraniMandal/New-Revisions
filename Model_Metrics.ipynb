{
  "nbformat": 4,
  "nbformat_minor": 0,
  "metadata": {
    "colab": {
      "provenance": [],
      "include_colab_link": true
    },
    "kernelspec": {
      "name": "python3",
      "display_name": "Python 3"
    },
    "language_info": {
      "name": "python"
    }
  },
  "cells": [
    {
      "cell_type": "markdown",
      "metadata": {
        "id": "view-in-github",
        "colab_type": "text"
      },
      "source": [
        "<a href=\"https://colab.research.google.com/github/IndraniMandal/New-Revisions/blob/main/Model_Metrics.ipynb\" target=\"_parent\"><img src=\"https://colab.research.google.com/assets/colab-badge.svg\" alt=\"Open In Colab\"/></a>"
      ]
    },
    {
      "cell_type": "markdown",
      "source": [
        "# Model Metrics"
      ],
      "metadata": {
        "id": "h9meNVD9o2B2"
      }
    },
    {
      "cell_type": "code",
      "source": [
        "import pandas as pd\n",
        "import numpy as np\n",
        "from google.colab import files\n",
        "import io\n",
        "import matplotlib.pyplot as plt\n",
        "import seaborn as sns\n",
        "sns.set()\n",
        "from sklearn import tree\n",
        "from sklearn.model_selection import cross_val_score\n",
        "from sklearn.model_selection import train_test_split\n",
        "from sklearn.metrics import accuracy_score\n",
        "from sklearn.metrics import precision_score\n",
        "from sklearn.metrics import recall_score\n",
        "from sklearn.metrics import f1_score\n",
        "from sklearn.metrics import confusion_matrix"
      ],
      "metadata": {
        "id": "bwHxKlLDAga7"
      },
      "execution_count": null,
      "outputs": []
    },
    {
      "cell_type": "markdown",
      "source": [
        "##Load heart attack data\n",
        "\n",
        "Kaggle Dataset: [Heart Attack Analysis & Prediction Dataset](https://www.kaggle.com/datasets/rashikrahmanpritom/heart-attack-analysis-prediction-dataset?resource=download)"
      ],
      "metadata": {
        "id": "9UK2fc8qBwnG"
      }
    },
    {
      "cell_type": "code",
      "source": [
        "heart = pd.read_csv(\"https://raw.githubusercontent.com/dpereztorres/2023WinterInternship/main/heart.csv\")\n",
        "heart.head()"
      ],
      "metadata": {
        "colab": {
          "base_uri": "https://localhost:8080/",
          "height": 206
        },
        "id": "I0lVxiMv4S2H",
        "outputId": "049bf0ab-3757-42c3-e820-211ab3ff6066"
      },
      "execution_count": null,
      "outputs": [
        {
          "output_type": "execute_result",
          "data": {
            "text/plain": [
              "   age  sex  cp  trtbps  chol  fbs  restecg  thalachh  exng  oldpeak  slp  \\\n",
              "0   63    1   3     145   233    1        0       150     0      2.3    0   \n",
              "1   37    1   2     130   250    0        1       187     0      3.5    0   \n",
              "2   41    0   1     130   204    0        0       172     0      1.4    2   \n",
              "3   56    1   1     120   236    0        1       178     0      0.8    2   \n",
              "4   57    0   0     120   354    0        1       163     1      0.6    2   \n",
              "\n",
              "   caa  thall  output  \n",
              "0    0      1       1  \n",
              "1    0      2       1  \n",
              "2    0      2       1  \n",
              "3    0      2       1  \n",
              "4    0      2       1  "
            ],
            "text/html": [
              "\n",
              "  <div id=\"df-7058bb91-bc65-4473-80d9-6971b98bffaa\">\n",
              "    <div class=\"colab-df-container\">\n",
              "      <div>\n",
              "<style scoped>\n",
              "    .dataframe tbody tr th:only-of-type {\n",
              "        vertical-align: middle;\n",
              "    }\n",
              "\n",
              "    .dataframe tbody tr th {\n",
              "        vertical-align: top;\n",
              "    }\n",
              "\n",
              "    .dataframe thead th {\n",
              "        text-align: right;\n",
              "    }\n",
              "</style>\n",
              "<table border=\"1\" class=\"dataframe\">\n",
              "  <thead>\n",
              "    <tr style=\"text-align: right;\">\n",
              "      <th></th>\n",
              "      <th>age</th>\n",
              "      <th>sex</th>\n",
              "      <th>cp</th>\n",
              "      <th>trtbps</th>\n",
              "      <th>chol</th>\n",
              "      <th>fbs</th>\n",
              "      <th>restecg</th>\n",
              "      <th>thalachh</th>\n",
              "      <th>exng</th>\n",
              "      <th>oldpeak</th>\n",
              "      <th>slp</th>\n",
              "      <th>caa</th>\n",
              "      <th>thall</th>\n",
              "      <th>output</th>\n",
              "    </tr>\n",
              "  </thead>\n",
              "  <tbody>\n",
              "    <tr>\n",
              "      <th>0</th>\n",
              "      <td>63</td>\n",
              "      <td>1</td>\n",
              "      <td>3</td>\n",
              "      <td>145</td>\n",
              "      <td>233</td>\n",
              "      <td>1</td>\n",
              "      <td>0</td>\n",
              "      <td>150</td>\n",
              "      <td>0</td>\n",
              "      <td>2.3</td>\n",
              "      <td>0</td>\n",
              "      <td>0</td>\n",
              "      <td>1</td>\n",
              "      <td>1</td>\n",
              "    </tr>\n",
              "    <tr>\n",
              "      <th>1</th>\n",
              "      <td>37</td>\n",
              "      <td>1</td>\n",
              "      <td>2</td>\n",
              "      <td>130</td>\n",
              "      <td>250</td>\n",
              "      <td>0</td>\n",
              "      <td>1</td>\n",
              "      <td>187</td>\n",
              "      <td>0</td>\n",
              "      <td>3.5</td>\n",
              "      <td>0</td>\n",
              "      <td>0</td>\n",
              "      <td>2</td>\n",
              "      <td>1</td>\n",
              "    </tr>\n",
              "    <tr>\n",
              "      <th>2</th>\n",
              "      <td>41</td>\n",
              "      <td>0</td>\n",
              "      <td>1</td>\n",
              "      <td>130</td>\n",
              "      <td>204</td>\n",
              "      <td>0</td>\n",
              "      <td>0</td>\n",
              "      <td>172</td>\n",
              "      <td>0</td>\n",
              "      <td>1.4</td>\n",
              "      <td>2</td>\n",
              "      <td>0</td>\n",
              "      <td>2</td>\n",
              "      <td>1</td>\n",
              "    </tr>\n",
              "    <tr>\n",
              "      <th>3</th>\n",
              "      <td>56</td>\n",
              "      <td>1</td>\n",
              "      <td>1</td>\n",
              "      <td>120</td>\n",
              "      <td>236</td>\n",
              "      <td>0</td>\n",
              "      <td>1</td>\n",
              "      <td>178</td>\n",
              "      <td>0</td>\n",
              "      <td>0.8</td>\n",
              "      <td>2</td>\n",
              "      <td>0</td>\n",
              "      <td>2</td>\n",
              "      <td>1</td>\n",
              "    </tr>\n",
              "    <tr>\n",
              "      <th>4</th>\n",
              "      <td>57</td>\n",
              "      <td>0</td>\n",
              "      <td>0</td>\n",
              "      <td>120</td>\n",
              "      <td>354</td>\n",
              "      <td>0</td>\n",
              "      <td>1</td>\n",
              "      <td>163</td>\n",
              "      <td>1</td>\n",
              "      <td>0.6</td>\n",
              "      <td>2</td>\n",
              "      <td>0</td>\n",
              "      <td>2</td>\n",
              "      <td>1</td>\n",
              "    </tr>\n",
              "  </tbody>\n",
              "</table>\n",
              "</div>\n",
              "      <button class=\"colab-df-convert\" onclick=\"convertToInteractive('df-7058bb91-bc65-4473-80d9-6971b98bffaa')\"\n",
              "              title=\"Convert this dataframe to an interactive table.\"\n",
              "              style=\"display:none;\">\n",
              "        \n",
              "  <svg xmlns=\"http://www.w3.org/2000/svg\" height=\"24px\"viewBox=\"0 0 24 24\"\n",
              "       width=\"24px\">\n",
              "    <path d=\"M0 0h24v24H0V0z\" fill=\"none\"/>\n",
              "    <path d=\"M18.56 5.44l.94 2.06.94-2.06 2.06-.94-2.06-.94-.94-2.06-.94 2.06-2.06.94zm-11 1L8.5 8.5l.94-2.06 2.06-.94-2.06-.94L8.5 2.5l-.94 2.06-2.06.94zm10 10l.94 2.06.94-2.06 2.06-.94-2.06-.94-.94-2.06-.94 2.06-2.06.94z\"/><path d=\"M17.41 7.96l-1.37-1.37c-.4-.4-.92-.59-1.43-.59-.52 0-1.04.2-1.43.59L10.3 9.45l-7.72 7.72c-.78.78-.78 2.05 0 2.83L4 21.41c.39.39.9.59 1.41.59.51 0 1.02-.2 1.41-.59l7.78-7.78 2.81-2.81c.8-.78.8-2.07 0-2.86zM5.41 20L4 18.59l7.72-7.72 1.47 1.35L5.41 20z\"/>\n",
              "  </svg>\n",
              "      </button>\n",
              "      \n",
              "  <style>\n",
              "    .colab-df-container {\n",
              "      display:flex;\n",
              "      flex-wrap:wrap;\n",
              "      gap: 12px;\n",
              "    }\n",
              "\n",
              "    .colab-df-convert {\n",
              "      background-color: #E8F0FE;\n",
              "      border: none;\n",
              "      border-radius: 50%;\n",
              "      cursor: pointer;\n",
              "      display: none;\n",
              "      fill: #1967D2;\n",
              "      height: 32px;\n",
              "      padding: 0 0 0 0;\n",
              "      width: 32px;\n",
              "    }\n",
              "\n",
              "    .colab-df-convert:hover {\n",
              "      background-color: #E2EBFA;\n",
              "      box-shadow: 0px 1px 2px rgba(60, 64, 67, 0.3), 0px 1px 3px 1px rgba(60, 64, 67, 0.15);\n",
              "      fill: #174EA6;\n",
              "    }\n",
              "\n",
              "    [theme=dark] .colab-df-convert {\n",
              "      background-color: #3B4455;\n",
              "      fill: #D2E3FC;\n",
              "    }\n",
              "\n",
              "    [theme=dark] .colab-df-convert:hover {\n",
              "      background-color: #434B5C;\n",
              "      box-shadow: 0px 1px 3px 1px rgba(0, 0, 0, 0.15);\n",
              "      filter: drop-shadow(0px 1px 2px rgba(0, 0, 0, 0.3));\n",
              "      fill: #FFFFFF;\n",
              "    }\n",
              "  </style>\n",
              "\n",
              "      <script>\n",
              "        const buttonEl =\n",
              "          document.querySelector('#df-7058bb91-bc65-4473-80d9-6971b98bffaa button.colab-df-convert');\n",
              "        buttonEl.style.display =\n",
              "          google.colab.kernel.accessAllowed ? 'block' : 'none';\n",
              "\n",
              "        async function convertToInteractive(key) {\n",
              "          const element = document.querySelector('#df-7058bb91-bc65-4473-80d9-6971b98bffaa');\n",
              "          const dataTable =\n",
              "            await google.colab.kernel.invokeFunction('convertToInteractive',\n",
              "                                                     [key], {});\n",
              "          if (!dataTable) return;\n",
              "\n",
              "          const docLinkHtml = 'Like what you see? Visit the ' +\n",
              "            '<a target=\"_blank\" href=https://colab.research.google.com/notebooks/data_table.ipynb>data table notebook</a>'\n",
              "            + ' to learn more about interactive tables.';\n",
              "          element.innerHTML = '';\n",
              "          dataTable['output_type'] = 'display_data';\n",
              "          await google.colab.output.renderOutput(dataTable, element);\n",
              "          const docLink = document.createElement('div');\n",
              "          docLink.innerHTML = docLinkHtml;\n",
              "          element.appendChild(docLink);\n",
              "        }\n",
              "      </script>\n",
              "    </div>\n",
              "  </div>\n",
              "  "
            ]
          },
          "metadata": {},
          "execution_count": 68
        }
      ]
    },
    {
      "cell_type": "markdown",
      "source": [
        "##Load Fraud data"
      ],
      "metadata": {
        "id": "2TuoI93KB1Dp"
      }
    },
    {
      "cell_type": "code",
      "source": [
        "fraud = pd.read_csv(\"https://raw.githubusercontent.com/dpereztorres/2023WinterInternship/main/cleanFraud.csv\")\n",
        "fraud.head()"
      ],
      "metadata": {
        "id": "rUG-NkeX4wkI",
        "colab": {
          "base_uri": "https://localhost:8080/",
          "height": 317
        },
        "outputId": "13b4a8e7-2aee-4c60-b9cc-010f2c2af03b"
      },
      "execution_count": null,
      "outputs": [
        {
          "output_type": "execute_result",
          "data": {
            "text/plain": [
              "   Month  WeekOfMonth  DayOfWeek  Make  AccidentArea  DayOfWeekClaimed  \\\n",
              "0     11            5          3     0             0                 2   \n",
              "1      0            3          3     0             0                 1   \n",
              "2      9            5          5     0             0                 4   \n",
              "3      5            2          6     1             1                 5   \n",
              "4      0            5          1     0             0                 2   \n",
              "\n",
              "   MonthClaimed  WeekOfMonthClaimed  Sex  MaritalStatus  ...  \\\n",
              "0             0                   1    1              0  ...   \n",
              "1             0                   4    0              0  ...   \n",
              "2            10                   2    0              1  ...   \n",
              "3             6                   1    0              1  ...   \n",
              "4             1                   2    1              0  ...   \n",
              "\n",
              "   AgeOfPolicyHolder  PoliceReportFiled  WitnessPresent  AgentType  \\\n",
              "0                  3                  0               0          0   \n",
              "1                  4                  1               0          0   \n",
              "2                  6                  0               0          0   \n",
              "3                  7                  1               0          0   \n",
              "4                  4                  0               0          0   \n",
              "\n",
              "   NumberOfSuppliments  AddressChange-Claim  NumberOfCars  Year  BasePolicy  \\\n",
              "0                    0                    2             2  1994           0   \n",
              "1                    0                    0             0  1994           1   \n",
              "2                    0                    0             0  1994           1   \n",
              "3                    3                    0             0  1994           0   \n",
              "4                    0                    0             0  1994           1   \n",
              "\n",
              "   FraudFound  \n",
              "0          No  \n",
              "1          No  \n",
              "2          No  \n",
              "3          No  \n",
              "4          No  \n",
              "\n",
              "[5 rows x 33 columns]"
            ],
            "text/html": [
              "\n",
              "  <div id=\"df-80508c77-33fb-44b5-88e8-aa634f8657d5\">\n",
              "    <div class=\"colab-df-container\">\n",
              "      <div>\n",
              "<style scoped>\n",
              "    .dataframe tbody tr th:only-of-type {\n",
              "        vertical-align: middle;\n",
              "    }\n",
              "\n",
              "    .dataframe tbody tr th {\n",
              "        vertical-align: top;\n",
              "    }\n",
              "\n",
              "    .dataframe thead th {\n",
              "        text-align: right;\n",
              "    }\n",
              "</style>\n",
              "<table border=\"1\" class=\"dataframe\">\n",
              "  <thead>\n",
              "    <tr style=\"text-align: right;\">\n",
              "      <th></th>\n",
              "      <th>Month</th>\n",
              "      <th>WeekOfMonth</th>\n",
              "      <th>DayOfWeek</th>\n",
              "      <th>Make</th>\n",
              "      <th>AccidentArea</th>\n",
              "      <th>DayOfWeekClaimed</th>\n",
              "      <th>MonthClaimed</th>\n",
              "      <th>WeekOfMonthClaimed</th>\n",
              "      <th>Sex</th>\n",
              "      <th>MaritalStatus</th>\n",
              "      <th>...</th>\n",
              "      <th>AgeOfPolicyHolder</th>\n",
              "      <th>PoliceReportFiled</th>\n",
              "      <th>WitnessPresent</th>\n",
              "      <th>AgentType</th>\n",
              "      <th>NumberOfSuppliments</th>\n",
              "      <th>AddressChange-Claim</th>\n",
              "      <th>NumberOfCars</th>\n",
              "      <th>Year</th>\n",
              "      <th>BasePolicy</th>\n",
              "      <th>FraudFound</th>\n",
              "    </tr>\n",
              "  </thead>\n",
              "  <tbody>\n",
              "    <tr>\n",
              "      <th>0</th>\n",
              "      <td>11</td>\n",
              "      <td>5</td>\n",
              "      <td>3</td>\n",
              "      <td>0</td>\n",
              "      <td>0</td>\n",
              "      <td>2</td>\n",
              "      <td>0</td>\n",
              "      <td>1</td>\n",
              "      <td>1</td>\n",
              "      <td>0</td>\n",
              "      <td>...</td>\n",
              "      <td>3</td>\n",
              "      <td>0</td>\n",
              "      <td>0</td>\n",
              "      <td>0</td>\n",
              "      <td>0</td>\n",
              "      <td>2</td>\n",
              "      <td>2</td>\n",
              "      <td>1994</td>\n",
              "      <td>0</td>\n",
              "      <td>No</td>\n",
              "    </tr>\n",
              "    <tr>\n",
              "      <th>1</th>\n",
              "      <td>0</td>\n",
              "      <td>3</td>\n",
              "      <td>3</td>\n",
              "      <td>0</td>\n",
              "      <td>0</td>\n",
              "      <td>1</td>\n",
              "      <td>0</td>\n",
              "      <td>4</td>\n",
              "      <td>0</td>\n",
              "      <td>0</td>\n",
              "      <td>...</td>\n",
              "      <td>4</td>\n",
              "      <td>1</td>\n",
              "      <td>0</td>\n",
              "      <td>0</td>\n",
              "      <td>0</td>\n",
              "      <td>0</td>\n",
              "      <td>0</td>\n",
              "      <td>1994</td>\n",
              "      <td>1</td>\n",
              "      <td>No</td>\n",
              "    </tr>\n",
              "    <tr>\n",
              "      <th>2</th>\n",
              "      <td>9</td>\n",
              "      <td>5</td>\n",
              "      <td>5</td>\n",
              "      <td>0</td>\n",
              "      <td>0</td>\n",
              "      <td>4</td>\n",
              "      <td>10</td>\n",
              "      <td>2</td>\n",
              "      <td>0</td>\n",
              "      <td>1</td>\n",
              "      <td>...</td>\n",
              "      <td>6</td>\n",
              "      <td>0</td>\n",
              "      <td>0</td>\n",
              "      <td>0</td>\n",
              "      <td>0</td>\n",
              "      <td>0</td>\n",
              "      <td>0</td>\n",
              "      <td>1994</td>\n",
              "      <td>1</td>\n",
              "      <td>No</td>\n",
              "    </tr>\n",
              "    <tr>\n",
              "      <th>3</th>\n",
              "      <td>5</td>\n",
              "      <td>2</td>\n",
              "      <td>6</td>\n",
              "      <td>1</td>\n",
              "      <td>1</td>\n",
              "      <td>5</td>\n",
              "      <td>6</td>\n",
              "      <td>1</td>\n",
              "      <td>0</td>\n",
              "      <td>1</td>\n",
              "      <td>...</td>\n",
              "      <td>7</td>\n",
              "      <td>1</td>\n",
              "      <td>0</td>\n",
              "      <td>0</td>\n",
              "      <td>3</td>\n",
              "      <td>0</td>\n",
              "      <td>0</td>\n",
              "      <td>1994</td>\n",
              "      <td>0</td>\n",
              "      <td>No</td>\n",
              "    </tr>\n",
              "    <tr>\n",
              "      <th>4</th>\n",
              "      <td>0</td>\n",
              "      <td>5</td>\n",
              "      <td>1</td>\n",
              "      <td>0</td>\n",
              "      <td>0</td>\n",
              "      <td>2</td>\n",
              "      <td>1</td>\n",
              "      <td>2</td>\n",
              "      <td>1</td>\n",
              "      <td>0</td>\n",
              "      <td>...</td>\n",
              "      <td>4</td>\n",
              "      <td>0</td>\n",
              "      <td>0</td>\n",
              "      <td>0</td>\n",
              "      <td>0</td>\n",
              "      <td>0</td>\n",
              "      <td>0</td>\n",
              "      <td>1994</td>\n",
              "      <td>1</td>\n",
              "      <td>No</td>\n",
              "    </tr>\n",
              "  </tbody>\n",
              "</table>\n",
              "<p>5 rows × 33 columns</p>\n",
              "</div>\n",
              "      <button class=\"colab-df-convert\" onclick=\"convertToInteractive('df-80508c77-33fb-44b5-88e8-aa634f8657d5')\"\n",
              "              title=\"Convert this dataframe to an interactive table.\"\n",
              "              style=\"display:none;\">\n",
              "        \n",
              "  <svg xmlns=\"http://www.w3.org/2000/svg\" height=\"24px\"viewBox=\"0 0 24 24\"\n",
              "       width=\"24px\">\n",
              "    <path d=\"M0 0h24v24H0V0z\" fill=\"none\"/>\n",
              "    <path d=\"M18.56 5.44l.94 2.06.94-2.06 2.06-.94-2.06-.94-.94-2.06-.94 2.06-2.06.94zm-11 1L8.5 8.5l.94-2.06 2.06-.94-2.06-.94L8.5 2.5l-.94 2.06-2.06.94zm10 10l.94 2.06.94-2.06 2.06-.94-2.06-.94-.94-2.06-.94 2.06-2.06.94z\"/><path d=\"M17.41 7.96l-1.37-1.37c-.4-.4-.92-.59-1.43-.59-.52 0-1.04.2-1.43.59L10.3 9.45l-7.72 7.72c-.78.78-.78 2.05 0 2.83L4 21.41c.39.39.9.59 1.41.59.51 0 1.02-.2 1.41-.59l7.78-7.78 2.81-2.81c.8-.78.8-2.07 0-2.86zM5.41 20L4 18.59l7.72-7.72 1.47 1.35L5.41 20z\"/>\n",
              "  </svg>\n",
              "      </button>\n",
              "      \n",
              "  <style>\n",
              "    .colab-df-container {\n",
              "      display:flex;\n",
              "      flex-wrap:wrap;\n",
              "      gap: 12px;\n",
              "    }\n",
              "\n",
              "    .colab-df-convert {\n",
              "      background-color: #E8F0FE;\n",
              "      border: none;\n",
              "      border-radius: 50%;\n",
              "      cursor: pointer;\n",
              "      display: none;\n",
              "      fill: #1967D2;\n",
              "      height: 32px;\n",
              "      padding: 0 0 0 0;\n",
              "      width: 32px;\n",
              "    }\n",
              "\n",
              "    .colab-df-convert:hover {\n",
              "      background-color: #E2EBFA;\n",
              "      box-shadow: 0px 1px 2px rgba(60, 64, 67, 0.3), 0px 1px 3px 1px rgba(60, 64, 67, 0.15);\n",
              "      fill: #174EA6;\n",
              "    }\n",
              "\n",
              "    [theme=dark] .colab-df-convert {\n",
              "      background-color: #3B4455;\n",
              "      fill: #D2E3FC;\n",
              "    }\n",
              "\n",
              "    [theme=dark] .colab-df-convert:hover {\n",
              "      background-color: #434B5C;\n",
              "      box-shadow: 0px 1px 3px 1px rgba(0, 0, 0, 0.15);\n",
              "      filter: drop-shadow(0px 1px 2px rgba(0, 0, 0, 0.3));\n",
              "      fill: #FFFFFF;\n",
              "    }\n",
              "  </style>\n",
              "\n",
              "      <script>\n",
              "        const buttonEl =\n",
              "          document.querySelector('#df-80508c77-33fb-44b5-88e8-aa634f8657d5 button.colab-df-convert');\n",
              "        buttonEl.style.display =\n",
              "          google.colab.kernel.accessAllowed ? 'block' : 'none';\n",
              "\n",
              "        async function convertToInteractive(key) {\n",
              "          const element = document.querySelector('#df-80508c77-33fb-44b5-88e8-aa634f8657d5');\n",
              "          const dataTable =\n",
              "            await google.colab.kernel.invokeFunction('convertToInteractive',\n",
              "                                                     [key], {});\n",
              "          if (!dataTable) return;\n",
              "\n",
              "          const docLinkHtml = 'Like what you see? Visit the ' +\n",
              "            '<a target=\"_blank\" href=https://colab.research.google.com/notebooks/data_table.ipynb>data table notebook</a>'\n",
              "            + ' to learn more about interactive tables.';\n",
              "          element.innerHTML = '';\n",
              "          dataTable['output_type'] = 'display_data';\n",
              "          await google.colab.output.renderOutput(dataTable, element);\n",
              "          const docLink = document.createElement('div');\n",
              "          docLink.innerHTML = docLinkHtml;\n",
              "          element.appendChild(docLink);\n",
              "        }\n",
              "      </script>\n",
              "    </div>\n",
              "  </div>\n",
              "  "
            ]
          },
          "metadata": {},
          "execution_count": 69
        }
      ]
    },
    {
      "cell_type": "markdown",
      "source": [
        "# Confusion Matrix\n",
        " \n",
        "<img src = \"https://drive.google.com/uc?id=12RhzPLgwasRVdtsU-8waL5vJhywafYXy\" width=400>\n",
        "\n",
        "Image Source: [Confusion Matrix](https://subscription.packtpub.com/book/big-data-and-business-intelligence/9781838555078/6/ch06lvl1sec34/confusion-matrix)\n",
        "\n",
        "Site 1: [Accuracy, Precision, Recall & F1-Score – Python Examples](https://vitalflux.com/accuracy-precision-recall-f1-score-python-example/)"
      ],
      "metadata": {
        "id": "UUPi1qvFIe5r"
      }
    },
    {
      "cell_type": "markdown",
      "source": [
        "Requires description of confusion matrix\n",
        "\n",
        "A true positive (TP) is a value is correctly predicted to be true, while a false positive (FP) is a value that is incorrectly predicted to be false. The situation is vice versa for true negatives (TN) where a value is correctly predicted negative, and false negatives (FN) are incorrectly predicted as negative."
      ],
      "metadata": {
        "id": "an-sbYdSmNf_"
      }
    },
    {
      "cell_type": "markdown",
      "source": [
        "## Building a model using the fraud dataset"
      ],
      "metadata": {
        "id": "XKbW1AlMhobA"
      }
    },
    {
      "cell_type": "code",
      "source": [
        "X  = fraud.drop(['FraudFound'],axis=1)\n",
        "y = fraud['FraudFound']"
      ],
      "metadata": {
        "id": "xT0VLiyGQ6m0"
      },
      "execution_count": null,
      "outputs": []
    },
    {
      "cell_type": "code",
      "source": [
        "X_train,X_test,y_train,y_test=train_test_split(X,y,train_size=0.7, test_size=0.3,random_state=2)"
      ],
      "metadata": {
        "id": "0eEbxHpufwC0"
      },
      "execution_count": null,
      "outputs": []
    },
    {
      "cell_type": "code",
      "source": [
        "model = tree.DecisionTreeClassifier(criterion='entropy')\n",
        "\n",
        "model.fit(X_train, y_train)\n",
        "\n",
        "y_train_model = model.predict(X_train)\n",
        "\n",
        "y_test_model = model.predict(X_test)"
      ],
      "metadata": {
        "id": "QQCSnMQhfwC1"
      },
      "execution_count": null,
      "outputs": []
    },
    {
      "cell_type": "markdown",
      "source": [
        "## Building a model using the heart attck dataset"
      ],
      "metadata": {
        "id": "tM_nZfMGhygg"
      }
    },
    {
      "cell_type": "code",
      "source": [
        "X_heart  = heart.drop(['output'],axis=1)\n",
        "y_heart = heart['output']"
      ],
      "metadata": {
        "id": "o1o4IVEWfuX4"
      },
      "execution_count": null,
      "outputs": []
    },
    {
      "cell_type": "code",
      "source": [
        "X_h_train,X_h_test,y_h_train,y_h_test=train_test_split(X_heart,y_heart,train_size=0.7, test_size=0.3,random_state=2)"
      ],
      "metadata": {
        "id": "z5qjfRmhYhJh"
      },
      "execution_count": null,
      "outputs": []
    },
    {
      "cell_type": "code",
      "source": [
        "model = tree.DecisionTreeClassifier(criterion='entropy')\n",
        "\n",
        "model.fit(X_h_train, y_h_train)\n",
        "\n",
        "y_h_train_model = model.predict(X_h_train)\n",
        "\n",
        "y_h_test_model = model.predict(X_h_test)"
      ],
      "metadata": {
        "id": "BSRnHLAuhvHF"
      },
      "execution_count": null,
      "outputs": []
    },
    {
      "cell_type": "markdown",
      "source": [
        "Confusion Matrix for the Chron's disease dataset, where there are:\n",
        "\n",
        "31 true negatives\n",
        "\n",
        "10 false negatives\n",
        "\n",
        "44 true positives\n",
        "\n",
        "6 false positives\n",
        "\n",
        "This dataset is seemingly balanced."
      ],
      "metadata": {
        "id": "0PbYky1anDpF"
      }
    },
    {
      "cell_type": "code",
      "source": [
        "cm = confusion_matrix(y_h_test, y_h_test_model)\n",
        "f = sns.heatmap(cm, annot=True, fmt='d')"
      ],
      "metadata": {
        "colab": {
          "base_uri": "https://localhost:8080/",
          "height": 268
        },
        "id": "-vN7N5qKrNC9",
        "outputId": "b2a96d67-c068-42ac-964e-8536d5e473e5"
      },
      "execution_count": null,
      "outputs": [
        {
          "output_type": "display_data",
          "data": {
            "text/plain": [
              "<Figure size 432x288 with 2 Axes>"
            ],
            "image/png": "[encoded data removed]"
          },
          "metadata": {}
        }
      ]
    },
    {
      "cell_type": "markdown",
      "source": [
        "Confusion Matrix for the fraud dataset, where there are:\n",
        "\n",
        "4118 true negatives\n",
        "\n",
        "221 false negatives\n",
        "\n",
        "112 true positives\n",
        "\n",
        "175 false positives\n",
        "\n",
        "This dataset is unbalanced, heavily favoring true negatives."
      ],
      "metadata": {
        "id": "y5KXyXG_ncxv"
      }
    },
    {
      "cell_type": "code",
      "source": [
        "cm = confusion_matrix(y_test, y_test_model)\n",
        "f = sns.heatmap(cm, annot=True, fmt='d')"
      ],
      "metadata": {
        "colab": {
          "base_uri": "https://localhost:8080/",
          "height": 268
        },
        "id": "ePH8sZ-vi3_m",
        "outputId": "bf7fb8e5-8836-4412-93bb-81fa18c4beb5"
      },
      "execution_count": null,
      "outputs": [
        {
          "output_type": "display_data",
          "data": {
            "text/plain": [
              "<Figure size 432x288 with 2 Axes>"
            ],
            "image/png": "[encoded data removed]"
          },
          "metadata": {}
        }
      ]
    },
    {
      "cell_type": "markdown",
      "source": [
        "# Precision Score\n",
        "\n",
        "Precision = $ \\frac{TP}{TP+FP}$\n",
        "\n",
        "\n",
        "\n",
        "\n",
        "The precision score is mainly used for test cases where accurately identifying true positives and true negatives is the upmost importance. For example, accurately determining if someone has cancer or not is extremely important for that person's decision making. The cost of inaccurately identifying true positives and true negatives is very high."
      ],
      "metadata": {
        "id": "PKtfNJtAIJwb"
      }
    },
    {
      "cell_type": "markdown",
      "source": [
        "$\\frac{TP}{TP+FP} = \\frac{44}{44+31} = 0.8148$"
      ],
      "metadata": {
        "id": "EFr-zVhHYXG1"
      }
    },
    {
      "cell_type": "code",
      "source": [
        "print(\"Precision Accuracy: {:3.2f}\".format(precision_score(y_h_test,y_h_test_model, average = 'weighted')))"
      ],
      "metadata": {
        "colab": {
          "base_uri": "https://localhost:8080/"
        },
        "id": "4lBuvnKvn6Nw",
        "outputId": "6dc20f93-7fb4-4208-929f-331b38c50dc4"
      },
      "execution_count": null,
      "outputs": [
        {
          "output_type": "stream",
          "name": "stdout",
          "text": [
            "Precision Accuracy: 0.83\n"
          ]
        }
      ]
    },
    {
      "cell_type": "markdown",
      "source": [
        "# Recall Score\n",
        "\n",
        "Recall = $ \\frac{TP}{TP+FN}$\n",
        "\n",
        "The recall score is mainly used for test cases where accurately identifying false positives and false negatives is the upmost importance. For example, an insurance company needs to properly identify if a claimant is committing fraud. If a fraudster is given an insurance claim, it would cost the company more than them denying the claim. \n",
        "\n",
        "Image Source: [Performance Metrics: Confusion matrix, Precision, Recall, and F1 Score](https://towardsdatascience.com)"
      ],
      "metadata": {
        "id": "gtllq5ClMrMH"
      }
    },
    {
      "cell_type": "markdown",
      "source": [
        "$\\frac{TP}{TP+FN} = \\frac{44}{44+31} = 0.8148$"
      ],
      "metadata": {
        "id": "vkyWiC6udwGV"
      }
    },
    {
      "cell_type": "code",
      "source": [
        "print(\"Recall Accuracy: {:3.2f}\".format(recall_score(y_test,y_test_model, average = 'weighted')))"
      ],
      "metadata": {
        "colab": {
          "base_uri": "https://localhost:8080/"
        },
        "id": "maju9Efdx687",
        "outputId": "fb46696a-e022-4f7f-c872-183a171d85a8"
      },
      "execution_count": null,
      "outputs": [
        {
          "output_type": "stream",
          "name": "stdout",
          "text": [
            "Recall Accuracy: 0.92\n"
          ]
        }
      ]
    },
    {
      "cell_type": "markdown",
      "source": [
        "For more examples of when to use either accuracy score: [Precision-Recall Tradeoff in Real-World Use Cases\n",
        "](https://medium.com/analytics-vidhya/precision-recall-tradeoff-for-real-world-use-cases-c6de4fabbcd0)"
      ],
      "metadata": {
        "id": "zYt1_PWuW1hK"
      }
    },
    {
      "cell_type": "markdown",
      "source": [
        "# Accuracy Score\n",
        "<font size = '5'>\n",
        "Accuracy = $\\frac{TP + TN}{TP + FN + TN + FP} = \\frac{TP + TN}{TotalSum}$"
      ],
      "metadata": {
        "id": "17RAtbV4NVFl"
      }
    },
    {
      "cell_type": "code",
      "source": [
        "print(\"Accuracy Score: {:3.2f}\".format(accuracy_score(y_h_test,y_h_test_model)))"
      ],
      "metadata": {
        "colab": {
          "base_uri": "https://localhost:8080/"
        },
        "id": "a8cCFCzLpxSq",
        "outputId": "84c2287e-ae76-4819-f817-09af6d45a713"
      },
      "execution_count": null,
      "outputs": [
        {
          "output_type": "stream",
          "name": "stdout",
          "text": [
            "Accuracy Score: 0.82\n"
          ]
        }
      ]
    },
    {
      "cell_type": "markdown",
      "source": [
        "# F1 Score\n",
        "\n",
        "<font size=\"5\">  \n",
        "F1 Score = $\\frac{2}{\\frac{1}{Precision}+\\frac{1}{Recall}} = \\frac{2*(Precision*Recall)}{(Precision+Recall)}$\n",
        "\n",
        "Balanced between recall and precision. Mainly used in imbalanced sets, i.e. when one target variable appears drastically more often than another, just like in the fraud dataset."
      ],
      "metadata": {
        "id": "qnO_pwvoM7Oj"
      }
    },
    {
      "cell_type": "markdown",
      "source": [],
      "metadata": {
        "id": "rZdvm96Xxa1Z"
      }
    },
    {
      "cell_type": "code",
      "source": [
        "print(\"F1 Score: {:3.2f}\".format(f1_score(y_test, y_test_model, average='weighted')))"
      ],
      "metadata": {
        "colab": {
          "base_uri": "https://localhost:8080/"
        },
        "id": "6jm5y4dQ3Oth",
        "outputId": "5664918d-2d6f-49d8-d439-6978bff6cc98"
      },
      "execution_count": null,
      "outputs": [
        {
          "output_type": "stream",
          "name": "stdout",
          "text": [
            "F1 Score: 0.92\n"
          ]
        }
      ]
    },
    {
      "cell_type": "markdown",
      "source": [
        "##Balanced Accuracy\n",
        "Balanced Accuracy = $\\frac{1}{2}$ $({\\frac{TP}{P} + \\frac{TN}{N}})$\n",
        "\n",
        "= $\\frac{1}{2}$ $({\\frac{TP}{TP+FN} + \\frac{TN}{TN+FP}})$\n",
        "\n",
        "\n",
        "True positive rate \n",
        "\n",
        "Sensitivity = $\\frac{TP}{TP + FN}$\n",
        "\n",
        "True negative rate\n",
        "\n",
        "Specificity = $\\frac{TN}{TN + FP}$\n",
        "\n",
        "\n",
        "\n",
        "Balanced score is used in imbalanced sets, i.e. when one target variable appears drastically more often than another, just like in the fraud dataset.\n",
        "\n",
        "\n",
        "Image source: https://neptune.ai/blog/balanced-accuracy"
      ],
      "metadata": {
        "id": "QOx5QjgDdhl7"
      }
    },
    {
      "cell_type": "code",
      "source": [
        "from sklearn.metrics import balanced_accuracy_score\n",
        "print(\"Balanced Accuracy: {:3.2f}\".format(balanced_accuracy_score(y_test,y_test_model)))"
      ],
      "metadata": {
        "colab": {
          "base_uri": "https://localhost:8080/"
        },
        "id": "luYeu-E1dzAi",
        "outputId": "7c9db5ee-6d82-45a9-870e-50589dfcb783"
      },
      "execution_count": null,
      "outputs": [
        {
          "output_type": "stream",
          "name": "stdout",
          "text": [
            "Balanced Accuracy: 0.67\n"
          ]
        }
      ]
    }
  ]
}