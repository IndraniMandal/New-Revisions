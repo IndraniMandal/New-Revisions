{
  "nbformat": 4,
  "nbformat_minor": 0,
  "metadata": {
    "colab": {
      "provenance": [],
      "include_colab_link": true
    },
    "kernelspec": {
      "name": "python3",
      "display_name": "Python 3"
    },
    "language_info": {
      "name": "python"
    }
  },
  "cells": [
    {
      "cell_type": "markdown",
      "metadata": {
        "id": "view-in-github",
        "colab_type": "text"
      },
      "source": [
        "<a href=\"https://colab.research.google.com/github/IndraniMandal/New-Revisions/blob/main/Multi_Layered_Perceptron.ipynb\" target=\"_parent\"><img src=\"https://colab.research.google.com/assets/colab-badge.svg\" alt=\"Open In Colab\"/></a>"
      ]
    },
    {
      "cell_type": "markdown",
      "metadata": {
        "id": "hLDTyHiyfNH9"
      },
      "source": [
        "# Constructing a basic ANN/MLP\n",
        "\n",
        "Let's build some MLPs.  A fundamental problem with MLP design is the sheer number of design possibilities of these models. The MLP classisfier as part of the sklearn package has 23 (!) tunable paramaters. The good news is that all of these parameters except for the architectural parameters and the maximum number of training iterations have good default values. For the architectural parameters, a good starting point is an MLP  with a single hidden layer where the number of nodes in the hidden layer is computed as follows:\n",
        "\n",
        "$ \\#\\mbox{nodes} = 2 \\times \\#\\mbox{vars}$\n",
        "\n",
        "That is the number of hidden nodes is twice the number of independent variables in the training data.  For the maximum number of training iterations we simply choose a very large value, e.g. 10,000. Let's try this using the pancreatic cancer dataset. Do note that it has already been cleaned and filled in."
      ]
    },
    {
      "cell_type": "code",
      "source": [
        "def classification_confint(acc, n):\n",
        "    '''\n",
        "    Compute the 95% confidence interval for a classification problem.\n",
        "      acc -- classification accuracy\n",
        "      n   -- number of observations used to compute the accuracy\n",
        "    Returns a tuple (lb,ub)\n",
        "    '''\n",
        "    import math\n",
        "    interval = 1.96*math.sqrt(acc*(1-acc)/n)\n",
        "    lb = max(0, acc - interval)\n",
        "    ub = min(1.0, acc + interval)\n",
        "    return (lb,ub)"
      ],
      "metadata": {
        "id": "Cx5zDjpAePbM"
      },
      "execution_count": null,
      "outputs": []
    },
    {
      "cell_type": "code",
      "source": [
        "import pandas as pd\n",
        "import numpy as np\n",
        "from sklearn.neural_network import MLPClassifier\n",
        "from sklearn.model_selection import train_test_split\n",
        "from sklearn.neural_network import MLPClassifier\n",
        "from sklearn.model_selection import cross_val_score\n",
        "from sklearn.metrics import accuracy_score, confusion_matrix\n",
        "from sklearn.model_selection import GridSearchCV"
      ],
      "metadata": {
        "id": "bwHxKlLDAga7"
      },
      "execution_count": null,
      "outputs": []
    },
    {
      "cell_type": "code",
      "source": [
        "df_filled = pd.read_csv(\"https://raw.githubusercontent.com/dpereztorres/2023WinterInternship/main/pancreas_df_filled.csv\")\n",
        "df_filled.head()"
      ],
      "metadata": {
        "colab": {
          "base_uri": "https://localhost:8080/",
          "height": 206
        },
        "id": "I0lVxiMv4S2H",
        "outputId": "7d69783a-3a03-46a1-b536-b9ee30c348cc"
      },
      "execution_count": null,
      "outputs": [
        {
          "output_type": "execute_result",
          "data": {
            "text/plain": [
              "  patient_cohort sample_origin  age sex  diagnosis  plasma_CA19_9  creatinine  \\\n",
              "0        Cohort1          BPTB   33   F          1           11.7     1.83222   \n",
              "1        Cohort1          BPTB   81   F          1            9.0     0.97266   \n",
              "2        Cohort2          BPTB   51   M          1            7.0     0.78039   \n",
              "3        Cohort2          BPTB   61   M          1            8.0     0.70122   \n",
              "4        Cohort2          BPTB   62   M          1            9.0     0.21489   \n",
              "\n",
              "      LYVE1      REG1B        TFF1     REG1A  \n",
              "0  0.893219   52.94884  654.282174  1262.000  \n",
              "1  2.037585   94.46703  209.488250   228.407  \n",
              "2  0.145589  102.36600  461.141000     0.000  \n",
              "3  0.002805   60.57900  142.950000     0.000  \n",
              "4  0.000860   65.54000   41.088000     0.000  "
            ],
            "text/html": [
              "\n",
              "  <div id=\"df-941e3592-509d-4692-bc33-9a37f9a036ce\">\n",
              "    <div class=\"colab-df-container\">\n",
              "      <div>\n",
              "<style scoped>\n",
              "    .dataframe tbody tr th:only-of-type {\n",
              "        vertical-align: middle;\n",
              "    }\n",
              "\n",
              "    .dataframe tbody tr th {\n",
              "        vertical-align: top;\n",
              "    }\n",
              "\n",
              "    .dataframe thead th {\n",
              "        text-align: right;\n",
              "    }\n",
              "</style>\n",
              "<table border=\"1\" class=\"dataframe\">\n",
              "  <thead>\n",
              "    <tr style=\"text-align: right;\">\n",
              "      <th></th>\n",
              "      <th>patient_cohort</th>\n",
              "      <th>sample_origin</th>\n",
              "      <th>age</th>\n",
              "      <th>sex</th>\n",
              "      <th>diagnosis</th>\n",
              "      <th>plasma_CA19_9</th>\n",
              "      <th>creatinine</th>\n",
              "      <th>LYVE1</th>\n",
              "      <th>REG1B</th>\n",
              "      <th>TFF1</th>\n",
              "      <th>REG1A</th>\n",
              "    </tr>\n",
              "  </thead>\n",
              "  <tbody>\n",
              "    <tr>\n",
              "      <th>0</th>\n",
              "      <td>Cohort1</td>\n",
              "      <td>BPTB</td>\n",
              "      <td>33</td>\n",
              "      <td>F</td>\n",
              "      <td>1</td>\n",
              "      <td>11.7</td>\n",
              "      <td>1.83222</td>\n",
              "      <td>0.893219</td>\n",
              "      <td>52.94884</td>\n",
              "      <td>654.282174</td>\n",
              "      <td>1262.000</td>\n",
              "    </tr>\n",
              "    <tr>\n",
              "      <th>1</th>\n",
              "      <td>Cohort1</td>\n",
              "      <td>BPTB</td>\n",
              "      <td>81</td>\n",
              "      <td>F</td>\n",
              "      <td>1</td>\n",
              "      <td>9.0</td>\n",
              "      <td>0.97266</td>\n",
              "      <td>2.037585</td>\n",
              "      <td>94.46703</td>\n",
              "      <td>209.488250</td>\n",
              "      <td>228.407</td>\n",
              "    </tr>\n",
              "    <tr>\n",
              "      <th>2</th>\n",
              "      <td>Cohort2</td>\n",
              "      <td>BPTB</td>\n",
              "      <td>51</td>\n",
              "      <td>M</td>\n",
              "      <td>1</td>\n",
              "      <td>7.0</td>\n",
              "      <td>0.78039</td>\n",
              "      <td>0.145589</td>\n",
              "      <td>102.36600</td>\n",
              "      <td>461.141000</td>\n",
              "      <td>0.000</td>\n",
              "    </tr>\n",
              "    <tr>\n",
              "      <th>3</th>\n",
              "      <td>Cohort2</td>\n",
              "      <td>BPTB</td>\n",
              "      <td>61</td>\n",
              "      <td>M</td>\n",
              "      <td>1</td>\n",
              "      <td>8.0</td>\n",
              "      <td>0.70122</td>\n",
              "      <td>0.002805</td>\n",
              "      <td>60.57900</td>\n",
              "      <td>142.950000</td>\n",
              "      <td>0.000</td>\n",
              "    </tr>\n",
              "    <tr>\n",
              "      <th>4</th>\n",
              "      <td>Cohort2</td>\n",
              "      <td>BPTB</td>\n",
              "      <td>62</td>\n",
              "      <td>M</td>\n",
              "      <td>1</td>\n",
              "      <td>9.0</td>\n",
              "      <td>0.21489</td>\n",
              "      <td>0.000860</td>\n",
              "      <td>65.54000</td>\n",
              "      <td>41.088000</td>\n",
              "      <td>0.000</td>\n",
              "    </tr>\n",
              "  </tbody>\n",
              "</table>\n",
              "</div>\n",
              "      <button class=\"colab-df-convert\" onclick=\"convertToInteractive('df-941e3592-509d-4692-bc33-9a37f9a036ce')\"\n",
              "              title=\"Convert this dataframe to an interactive table.\"\n",
              "              style=\"display:none;\">\n",
              "        \n",
              "  <svg xmlns=\"http://www.w3.org/2000/svg\" height=\"24px\"viewBox=\"0 0 24 24\"\n",
              "       width=\"24px\">\n",
              "    <path d=\"M0 0h24v24H0V0z\" fill=\"none\"/>\n",
              "    <path d=\"M18.56 5.44l.94 2.06.94-2.06 2.06-.94-2.06-.94-.94-2.06-.94 2.06-2.06.94zm-11 1L8.5 8.5l.94-2.06 2.06-.94-2.06-.94L8.5 2.5l-.94 2.06-2.06.94zm10 10l.94 2.06.94-2.06 2.06-.94-2.06-.94-.94-2.06-.94 2.06-2.06.94z\"/><path d=\"M17.41 7.96l-1.37-1.37c-.4-.4-.92-.59-1.43-.59-.52 0-1.04.2-1.43.59L10.3 9.45l-7.72 7.72c-.78.78-.78 2.05 0 2.83L4 21.41c.39.39.9.59 1.41.59.51 0 1.02-.2 1.41-.59l7.78-7.78 2.81-2.81c.8-.78.8-2.07 0-2.86zM5.41 20L4 18.59l7.72-7.72 1.47 1.35L5.41 20z\"/>\n",
              "  </svg>\n",
              "      </button>\n",
              "      \n",
              "  <style>\n",
              "    .colab-df-container {\n",
              "      display:flex;\n",
              "      flex-wrap:wrap;\n",
              "      gap: 12px;\n",
              "    }\n",
              "\n",
              "    .colab-df-convert {\n",
              "      background-color: #E8F0FE;\n",
              "      border: none;\n",
              "      border-radius: 50%;\n",
              "      cursor: pointer;\n",
              "      display: none;\n",
              "      fill: #1967D2;\n",
              "      height: 32px;\n",
              "      padding: 0 0 0 0;\n",
              "      width: 32px;\n",
              "    }\n",
              "\n",
              "    .colab-df-convert:hover {\n",
              "      background-color: #E2EBFA;\n",
              "      box-shadow: 0px 1px 2px rgba(60, 64, 67, 0.3), 0px 1px 3px 1px rgba(60, 64, 67, 0.15);\n",
              "      fill: #174EA6;\n",
              "    }\n",
              "\n",
              "    [theme=dark] .colab-df-convert {\n",
              "      background-color: #3B4455;\n",
              "      fill: #D2E3FC;\n",
              "    }\n",
              "\n",
              "    [theme=dark] .colab-df-convert:hover {\n",
              "      background-color: #434B5C;\n",
              "      box-shadow: 0px 1px 3px 1px rgba(0, 0, 0, 0.15);\n",
              "      filter: drop-shadow(0px 1px 2px rgba(0, 0, 0, 0.3));\n",
              "      fill: #FFFFFF;\n",
              "    }\n",
              "  </style>\n",
              "\n",
              "      <script>\n",
              "        const buttonEl =\n",
              "          document.querySelector('#df-941e3592-509d-4692-bc33-9a37f9a036ce button.colab-df-convert');\n",
              "        buttonEl.style.display =\n",
              "          google.colab.kernel.accessAllowed ? 'block' : 'none';\n",
              "\n",
              "        async function convertToInteractive(key) {\n",
              "          const element = document.querySelector('#df-941e3592-509d-4692-bc33-9a37f9a036ce');\n",
              "          const dataTable =\n",
              "            await google.colab.kernel.invokeFunction('convertToInteractive',\n",
              "                                                     [key], {});\n",
              "          if (!dataTable) return;\n",
              "\n",
              "          const docLinkHtml = 'Like what you see? Visit the ' +\n",
              "            '<a target=\"_blank\" href=https://colab.research.google.com/notebooks/data_table.ipynb>data table notebook</a>'\n",
              "            + ' to learn more about interactive tables.';\n",
              "          element.innerHTML = '';\n",
              "          dataTable['output_type'] = 'display_data';\n",
              "          await google.colab.output.renderOutput(dataTable, element);\n",
              "          const docLink = document.createElement('div');\n",
              "          docLink.innerHTML = docLinkHtml;\n",
              "          element.appendChild(docLink);\n",
              "        }\n",
              "      </script>\n",
              "    </div>\n",
              "  </div>\n",
              "  "
            ]
          },
          "metadata": {},
          "execution_count": 4
        }
      ]
    },
    {
      "cell_type": "markdown",
      "source": [
        "Determine the shape of the dataset as to not guess"
      ],
      "metadata": {
        "id": "tdVYeWYdbcLO"
      }
    },
    {
      "cell_type": "code",
      "source": [
        "X  = df_filled.drop(['patient_cohort','sample_origin', 'sex', 'diagnosis'],axis=1)\n",
        "y = df_filled['diagnosis']\n",
        "\n",
        "print(\"Shape: {}\".format(X.shape))"
      ],
      "metadata": {
        "id": "biCFfXe-b0hw",
        "colab": {
          "base_uri": "https://localhost:8080/"
        },
        "outputId": "d830f400-20c4-4593-da2b-940de2e04b99"
      },
      "execution_count": null,
      "outputs": [
        {
          "output_type": "stream",
          "name": "stdout",
          "text": [
            "Shape: (590, 7)\n"
          ]
        }
      ]
    },
    {
      "cell_type": "markdown",
      "source": [
        "Start with a pre-set hidden layer double the size of the amount of columns, with 'relu' being the default activation parameter."
      ],
      "metadata": {
        "id": "jIzAL5NWRpGK"
      }
    },
    {
      "cell_type": "code",
      "source": [
        "model = MLPClassifier(hidden_layer_sizes=(14,), activation = 'relu', max_iter=10000, random_state=1)\n",
        "\n",
        "model.fit(X, y)\n",
        "predict_y = model.predict(X)\n",
        "acc = accuracy_score(y, predict_y)\n",
        "lb, ub = classification_confint(acc, X.shape[0])\n",
        "print(\"Accuracy: {:3.2f} ({:3.2f}, {:3.2f})\".format(acc, lb, ub))"
      ],
      "metadata": {
        "colab": {
          "base_uri": "https://localhost:8080/"
        },
        "id": "kG9IqR7Q1gzi",
        "outputId": "8ffeec4a-b450-4e58-8766-2e48fa83b621"
      },
      "execution_count": null,
      "outputs": [
        {
          "output_type": "stream",
          "name": "stdout",
          "text": [
            "Accuracy: 0.62 (0.58, 0.66)\n"
          ]
        }
      ]
    },
    {
      "cell_type": "markdown",
      "source": [
        "#ReLU Function\n",
        "\n",
        "<img src = \"https://drive.google.com/uc?id=1OYCr7-vpzi3wvJbpXbmyMCGvOaAWZrCN\" width=400>\n",
        "<br>\n",
        "<font size = '5'>\n",
        "$ReLU(x) = max(x,0)$"
      ],
      "metadata": {
        "id": "Iyfd9km0gtlc"
      }
    },
    {
      "cell_type": "markdown",
      "source": [
        "#Sigmoid/Logistic Function\n",
        "\n",
        "<img src = \"https://drive.google.com/uc?id=15ofuYhq4AZJBdL05zYPy1hxDcspDsBe6\" width=400>\n",
        "<br>\n",
        "<font size = '5'>\n",
        "$sigmoid(x) = \\frac{1}{1+e^{-x}}$"
      ],
      "metadata": {
        "id": "8NBlgAH_hbRo"
      }
    },
    {
      "cell_type": "markdown",
      "source": [
        "#Tahn Function\n",
        "\n",
        "<img src = \"https://drive.google.com/uc?id=1lVB9moXEN9M_v0It9W7FTHhRJwbJV0vc\" width=400>\n",
        "<br>\n",
        "<font size = '5'>\n",
        "$tanh(x) = \\frac{1-e^{-2x}}{1+e^{-2x}}$\n"
      ],
      "metadata": {
        "id": "Zr01ZYvJH3sd"
      }
    },
    {
      "cell_type": "markdown",
      "source": [
        "Images source and further details: [5.1 Mulitlayer Perceptrons](https://d2l.ai/chapter_multilayer-perceptrons/mlp.html#hidden-layers)"
      ],
      "metadata": {
        "id": "lNvDSTjicobl"
      }
    },
    {
      "cell_type": "markdown",
      "source": [
        "Now have three different layer sizes, each a multiple of the column amount, x2 x4 and x8. We also choose between three different activation parameters."
      ],
      "metadata": {
        "id": "nleVXJUTc-ML"
      }
    },
    {
      "cell_type": "code",
      "source": [
        "model = MLPClassifier(max_iter=10000, random_state=1)\n",
        "param_grid = {\n",
        "    'hidden_layer_sizes': \n",
        "      [ \n",
        "      (14,), (28,), (56,),\n",
        "      ],\n",
        "    'activation' : ['logistic', 'tanh', 'relu']   \n",
        "}\n",
        "\n",
        "grid = GridSearchCV(model, param_grid, cv=3) \n",
        "grid.fit(X, y)\n",
        "print(\"Grid Search: best parameters: {}\".format(grid.best_params_))\n",
        "\n",
        "best_model = grid.best_estimator_\n",
        "predict_y = best_model.predict(X)\n",
        "acc = accuracy_score(y, predict_y)\n",
        "lb,ub = classification_confint(acc,X.shape[0])\n",
        "print(\"Accuracy: {:3.2f} ({:3.2f},{:3.2f})\".format(acc,lb,ub))"
      ],
      "metadata": {
        "id": "4UyzQliCDHg4"
      },
      "execution_count": null,
      "outputs": []
    },
    {
      "cell_type": "code",
      "source": [
        "model = MLPClassifier(max_iter=10000, random_state=1)\n",
        "param_grid = {\n",
        "    'hidden_layer_sizes': \n",
        "      [ \n",
        "      (14,), (28,), (60,),           # 1 hidden layer \n",
        "      (14,14), (14, 28), (14, 56),    # 2 hidden layers\n",
        "      (28, 14), (28,28), (28, 56),    \n",
        "      (56, 14), (56, 28), (56, 56)\n",
        "      ],\n",
        "    'activation' : ['logistic', 'tanh', 'relu']   \n",
        "}\n",
        "\n",
        "grid = GridSearchCV(model, param_grid, cv=5) \n",
        "grid.fit(X, y)\n",
        "print(\"Grid Search: best parameters: {}\".format(grid.best_params_))\n",
        "\n",
        "best_model = grid.best_estimator_\n",
        "predict_y = best_model.predict(X)\n",
        "acc = accuracy_score(y, predict_y)\n",
        "lb,ub = classification_confint(acc,X.shape[0])\n",
        "print(\"Accuracy: {:3.2f} ({:3.2f},{:3.2f})\".format(acc,lb,ub))"
      ],
      "metadata": {
        "id": "y3exDgWCE4cz",
        "colab": {
          "base_uri": "https://localhost:8080/",
          "height": 236
        },
        "outputId": "3d66edc4-1eca-4e04-da40-6830acff51a6"
      },
      "execution_count": null,
      "outputs": [
        {
          "output_type": "error",
          "ename": "NameError",
          "evalue": "ignored",
          "traceback": [
            "\u001b[0;31m---------------------------------------------------------------------------\u001b[0m",
            "\u001b[0;31mNameError\u001b[0m                                 Traceback (most recent call last)",
            "\u001b[0;32m<ipython-input-1-54ed2ca20eb9>\u001b[0m in \u001b[0;36m<cell line: 1>\u001b[0;34m()\u001b[0m\n\u001b[0;32m----> 1\u001b[0;31m \u001b[0mmodel\u001b[0m \u001b[0;34m=\u001b[0m \u001b[0mMLPClassifier\u001b[0m\u001b[0;34m(\u001b[0m\u001b[0mmax_iter\u001b[0m\u001b[0;34m=\u001b[0m\u001b[0;36m10000\u001b[0m\u001b[0;34m,\u001b[0m \u001b[0mrandom_state\u001b[0m\u001b[0;34m=\u001b[0m\u001b[0;36m1\u001b[0m\u001b[0;34m)\u001b[0m\u001b[0;34m\u001b[0m\u001b[0;34m\u001b[0m\u001b[0m\n\u001b[0m\u001b[1;32m      2\u001b[0m param_grid = {\n\u001b[1;32m      3\u001b[0m     \u001b[0;34m'hidden_layer_sizes'\u001b[0m\u001b[0;34m:\u001b[0m\u001b[0;34m\u001b[0m\u001b[0;34m\u001b[0m\u001b[0m\n\u001b[1;32m      4\u001b[0m       [ \n\u001b[1;32m      5\u001b[0m       \u001b[0;34m(\u001b[0m\u001b[0;36m14\u001b[0m\u001b[0;34m,\u001b[0m\u001b[0;34m)\u001b[0m\u001b[0;34m,\u001b[0m \u001b[0;34m(\u001b[0m\u001b[0;36m28\u001b[0m\u001b[0;34m,\u001b[0m\u001b[0;34m)\u001b[0m\u001b[0;34m,\u001b[0m \u001b[0;34m(\u001b[0m\u001b[0;36m60\u001b[0m\u001b[0;34m,\u001b[0m\u001b[0;34m)\u001b[0m\u001b[0;34m,\u001b[0m           \u001b[0;31m# 1 hidden layer\u001b[0m\u001b[0;34m\u001b[0m\u001b[0;34m\u001b[0m\u001b[0m\n",
            "\u001b[0;31mNameError\u001b[0m: name 'MLPClassifier' is not defined"
          ]
        }
      ]
    },
    {
      "cell_type": "code",
      "source": [
        "model = MLPClassifier(max_iter=10000, random_state=1)\n",
        "param_grid = {\n",
        "    'hidden_layer_sizes': \n",
        "      [ \n",
        "      (14,), (28,), (56,),            \n",
        "      (14,14), (14, 28), (14, 56),    \n",
        "      (28, 14), (28,28), (28, 56),    \n",
        "      (56, 14), (56, 28), (56, 56)\n",
        "      ],\n",
        "    'activation' : ['tanh', 'relu']   \n",
        "}\n",
        "\n",
        "grid = GridSearchCV(model, param_grid, cv=3) \n",
        "grid.fit(X, y)\n",
        "print(\"Grid Search: best parameters: {}\".format(grid.best_params_))\n",
        "\n",
        "best_model = grid.best_estimator_\n",
        "predict_y = best_model.predict(X)\n",
        "acc = accuracy_score(y, predict_y)\n",
        "lb,ub = classification_confint(acc,X.shape[0])\n",
        "print(\"Accuracy: {:3.2f} ({:3.2f},{:3.2f})\".format(acc,lb,ub))"
      ],
      "metadata": {
        "colab": {
          "base_uri": "https://localhost:8080/"
        },
        "id": "RUUXXfrFJLX1",
        "outputId": "d129eb53-63e8-4e36-daa8-ff629dd58b0d"
      },
      "execution_count": null,
      "outputs": [
        {
          "output_type": "stream",
          "name": "stdout",
          "text": [
            "Grid Search: best parameters: {'activation': 'tanh', 'hidden_layer_sizes': (56, 56)}\n",
            "Accuracy: 0.90 (0.87,0.92)\n"
          ]
        }
      ]
    },
    {
      "cell_type": "code",
      "source": [
        "model = MLPClassifier(max_iter=10000, random_state=1)\n",
        "param_grid = {\n",
        "    'hidden_layer_sizes': \n",
        "      [ \n",
        "      (14,), (28,), (56,),            \n",
        "      (14,14), (14, 28), (14, 56),    \n",
        "      (28, 14), (28,28), (28, 56),    \n",
        "      (56, 14), (56, 28), (56, 56)\n",
        "      ],\n",
        "    'activation' : ['logistic','relu']   \n",
        "}\n",
        "\n",
        "grid = GridSearchCV(model, param_grid, cv=3) \n",
        "grid.fit(X, y)\n",
        "print(\"Grid Search: best parameters: {}\".format(grid.best_params_))\n",
        "\n",
        "best_model = grid.best_estimator_\n",
        "predict_y = best_model.predict(X)\n",
        "acc = accuracy_score(y, predict_y)\n",
        "lb,ub = classification_confint(acc,X.shape[0])\n",
        "print(\"Accuracy: {:3.2f} ({:3.2f},{:3.2f})\".format(acc,lb,ub))"
      ],
      "metadata": {
        "colab": {
          "base_uri": "https://localhost:8080/"
        },
        "id": "4HgJvpW9Jinj",
        "outputId": "8b5d6457-0bbf-4fc4-aab0-acba239ec638"
      },
      "execution_count": null,
      "outputs": [
        {
          "output_type": "stream",
          "name": "stdout",
          "text": [
            "Grid Search: best parameters: {'activation': 'logistic', 'hidden_layer_sizes': (56,)}\n",
            "Accuracy: 0.87 (0.84,0.89)\n"
          ]
        }
      ]
    },
    {
      "cell_type": "code",
      "source": [
        "model = MLPClassifier(max_iter=10000, random_state=1)\n",
        "param_grid = {\n",
        "    'hidden_layer_sizes': \n",
        "      [ \n",
        "      (14,), (28,), (56,),            \n",
        "      (14,14), (14, 28), (14, 56),    \n",
        "      (28, 14), (28,28), (28, 56),    \n",
        "      (56, 14), (56, 28), (56, 56)\n",
        "      ],\n",
        "    'activation' : ['logistic', 'tanh']   \n",
        "}\n",
        "\n",
        "grid = GridSearchCV(model, param_grid, cv=3) \n",
        "grid.fit(X, y)\n",
        "print(\"Grid Search: best parameters: {}\".format(grid.best_params_))\n",
        "\n",
        "best_model = grid.best_estimator_\n",
        "predict_y = best_model.predict(X)\n",
        "acc = accuracy_score(y, predict_y)\n",
        "lb,ub = classification_confint(acc,X.shape[0])\n",
        "print(\"Accuracy: {:3.2f} ({:3.2f},{:3.2f})\".format(acc,lb,ub))"
      ],
      "metadata": {
        "colab": {
          "base_uri": "https://localhost:8080/"
        },
        "id": "GylLXK3qKdmP",
        "outputId": "0c84298d-385b-4b56-e097-3ea675df4ec0"
      },
      "execution_count": null,
      "outputs": [
        {
          "output_type": "stream",
          "name": "stdout",
          "text": [
            "Grid Search: best parameters: {'activation': 'logistic', 'hidden_layer_sizes': (56,)}\n",
            "Accuracy: 0.87 (0.84,0.89)\n"
          ]
        }
      ]
    }
  ]
}