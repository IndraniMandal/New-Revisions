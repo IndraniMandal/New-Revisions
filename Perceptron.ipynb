{
  "nbformat": 4,
  "nbformat_minor": 0,
  "metadata": {
    "kernelspec": {
      "display_name": "Python 3",
      "language": "python",
      "name": "python3"
    },
    "language_info": {
      "codemirror_mode": {
        "name": "ipython",
        "version": 3
      },
      "file_extension": ".py",
      "mimetype": "text/x-python",
      "name": "python",
      "nbconvert_exporter": "python",
      "pygments_lexer": "ipython3",
      "version": "3.7.6"
    },
    "colab": {
      "provenance": [],
      "include_colab_link": true
    }
  },
  "cells": [
    {
      "cell_type": "markdown",
      "metadata": {
        "id": "view-in-github",
        "colab_type": "text"
      },
      "source": [
        "<a href=\"https://colab.research.google.com/github/IndraniMandal/New-Revisions/blob/main/Perceptron.ipynb\" target=\"_parent\"><img src=\"https://colab.research.google.com/assets/colab-badge.svg\" alt=\"Open In Colab\"/></a>"
      ]
    },
    {
      "cell_type": "markdown",
      "metadata": {
        "id": "ZrCsFYArYEzT"
      },
      "source": [
        "## The Perceptron\n",
        "\n",
        "The [perceptron](https://en.wikipedia.org/wiki/Perceptron) is a single neuron neural network that constructs a linear decision surface.  The learned parameters are the weights (representing the slope) and the bias term representing the 'y-offset'."
      ]
    },
    {
      "cell_type": "markdown",
      "metadata": {
        "id": "MiZrGAqaYEzU"
      },
      "source": [
        "\n",
        "\n",
        "<!-- ![perceptron](assets/perceptron.jpg) -->\n",
        "<img src=\"https://raw.githubusercontent.com/lutzhamel/ds-assets/main/assets/perceptron.jpg\" height=\"300\" width=\"500\">"
      ]
    },
    {
      "cell_type": "markdown",
      "metadata": {
        "id": "cIzOKcrvYEzU"
      },
      "source": [
        "The perceptron implements the following equation:\n",
        "\n",
        "<!-- ![perceptron](assets/perceptron-eq.jpg) -->\n",
        "<img src=\"https://raw.githubusercontent.com/lutzhamel/ds-assets/main/assets/perceptron-eq.jpg\" height=\"80\" width=\"450\">\n",
        "\n",
        "If you have taken linear algebra you will recognize the line/plane representation as a dot product.  The ${\\rm sign}$ function implements the activation function of the neuron,\n",
        "\n",
        "${\\rm sign}(x) = -1 \\mbox{ if } x \\le 0 \\mbox{ else } 1$\n",
        "\n",
        "The symbol $\\hat{f}$ denotes the neural network model."
      ]
    },
    {
      "cell_type": "markdown",
      "metadata": {
        "id": "Oz9df5VPYEzU"
      },
      "source": [
        "Training a perceptron is a simple search:\n",
        "\n",
        "<!-- ![perceptron](assets/perceptron-train.jpg) -->\n",
        "<img src=\"https://raw.githubusercontent.com/lutzhamel/ds-assets/main/assets/perceptron-train.jpg\"  height=\"250\" width=\"280\">\n",
        "\n",
        "More precisely, this is a directed stochastic search in that the `Update` step uses the *normal vector* $\\bar{w}$ of the decision surface $\\bar{w} \\bullet \\bar{x} + b$ as a guide in order to modify $\\bar{w}$ and $\\bar{b}$."
      ]
    },
    {
      "cell_type": "markdown",
      "metadata": {
        "id": "R7RX6UBFYEzV"
      },
      "source": [
        "## Demo - The Perceptron\n",
        "\n",
        "Perceptron learning a decision surface.\n",
        "\n",
        "\n",
        "\n",
        "<img src=\"https://raw.githubusercontent.com/lutzhamel/ds-assets/main/assets/perceptron-search.png\"  height=\"400\" width=\"500\">"
      ]
    },
    {
      "cell_type": "markdown",
      "metadata": {
        "id": "2hkiOm_IYEzV"
      },
      "source": [
        "## Building a Perceptron\n",
        "\n",
        "Let's build a perceptron using Sci-Kit Learn."
      ]
    },
    {
      "cell_type": "code",
      "metadata": {
        "id": "KQA78qq8YEzV"
      },
      "source": [
        "import matplotlib.pyplot as plt\n",
        "import pandas\n",
        "from sklearn.metrics import accuracy_score\n",
        "from sklearn.utils import shuffle"
      ],
      "execution_count": 1,
      "outputs": []
    },
    {
      "cell_type": "code",
      "metadata": {
        "id": "AMJsI3_tYEzV"
      },
      "source": [
        "# prepare our data - just grab the two independent variables from the Iris dataset that mattered\n",
        "# in addition to the target.\n",
        "iris_df = pandas.read_csv(\"https://raw.githubusercontent.com/IndraniMandal/ds-assets/main/assets/iris.csv\")\n",
        "shrink_df = iris_df[['Petal.Width','Petal.Length','Species']]\n",
        "\n",
        "# The perceptron can only deal with two labels at a \n",
        "# time so drop one of them: virginica\n",
        "model_df = shrink_df[shrink_df.Species != 'virginica']\n",
        "\n",
        "# feature matrix and target vector\n",
        "model_features_df = model_df[['Petal.Length','Petal.Width']]\n",
        "# neural networks can only deal with numerical target values,\n",
        "# recode the labels as numerical values\n",
        "f = (lambda x: 1 if x == 'setosa' else -1)\n",
        "model_target_df = model_df['Species'].apply(f)"
      ],
      "execution_count": 2,
      "outputs": []
    },
    {
      "cell_type": "code",
      "metadata": {
        "id": "ouYKrWbTYEzW",
        "colab": {
          "base_uri": "https://localhost:8080/"
        },
        "outputId": "51058913-3e4f-4ab0-f1d2-0bf6dcb23e19"
      },
      "source": [
        "# build and fit the perceptron model\n",
        "from sklearn.linear_model import Perceptron\n",
        "model = Perceptron()\n",
        "model.fit(model_features_df, model_target_df)\n",
        "\n",
        "# model accuracy\n",
        "predict_array = model.predict(model_features_df)      # produces an array of labels\n",
        "predicted_values = pandas.DataFrame(predict_array)  # turn it into a DF\n",
        "predicted_values.columns = ['Species']          # name the column - same name as in target!\n",
        "print(\"Our model accuracy is: {:3.2f}\".format(accuracy_score(model_target_df, predicted_values)))"
      ],
      "execution_count": 3,
      "outputs": [
        {
          "output_type": "stream",
          "name": "stdout",
          "text": [
            "Our model accuracy is: 1.00\n"
          ]
        }
      ]
    },
    {
      "cell_type": "code",
      "metadata": {
        "id": "AMhRPr5GYEzW",
        "colab": {
          "base_uri": "https://localhost:8080/",
          "height": 283
        },
        "outputId": "707cfed5-e8c3-43e8-ff05-ce99feffcbb6"
      },
      "source": [
        "# compute the model in terms that we can plot\n",
        "slope = - model.coef_[0][0]/model.coef_[0][1]\n",
        "offset = - model.intercept_[0]/model.coef_[0][1]\n",
        "\n",
        "# scatter plot of the data\n",
        "plt.plot(model_df['Petal.Length'][model_df.Species == 'setosa'],\n",
        "         model_df['Petal.Width'][model_df.Species == 'setosa'],\n",
        "         'bo')\n",
        "plt.plot(model_df['Petal.Length'][model_df.Species == 'versicolor'],\n",
        "         model_df['Petal.Width'][model_df.Species == 'versicolor'],\n",
        "         'go')\n",
        "plt.axis([0, 6, 0, 4])\n",
        "plt.xlabel('Petal.Length')\n",
        "plt.ylabel('Petal.Width')\n",
        "plt.legend(['setosa','versicolor'])\n",
        "\n",
        "# plot the model\n",
        "x_ticks = [0,6]\n",
        "y_ticks = [slope * i + offset for i in x_ticks]\n",
        "plt.plot(x_ticks,y_ticks,\"r-\")\n",
        "plt.show()"
      ],
      "execution_count": 4,
      "outputs": [
        {
          "output_type": "display_data",
          "data": {
            "text/plain": [
              "<Figure size 432x288 with 1 Axes>"
            ],
            "image/png": "[encoded data removed]"
          },
          "metadata": {
            "needs_background": "light"
          }
        }
      ]
    },
    {
      "cell_type": "markdown",
      "metadata": {
        "id": "Vb_OMhV2W3bh"
      },
      "source": [
        "As expected, we see that the model perfectly separates the two classes."
      ]
    }
  ]
}