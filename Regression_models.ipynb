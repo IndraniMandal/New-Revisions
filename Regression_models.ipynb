{
  "nbformat": 4,
  "nbformat_minor": 0,
  "metadata": {
    "kernelspec": {
      "display_name": "Python 3",
      "language": "python",
      "name": "python3"
    },
    "language_info": {
      "codemirror_mode": {
        "name": "ipython",
        "version": 3
      },
      "file_extension": ".py",
      "mimetype": "text/x-python",
      "name": "python",
      "nbconvert_exporter": "python",
      "pygments_lexer": "ipython3",
      "version": "3.7.6"
    },
    "colab": {
      "provenance": [],
      "include_colab_link": true
    }
  },
  "cells": [
    {
      "cell_type": "markdown",
      "metadata": {
        "id": "view-in-github",
        "colab_type": "text"
      },
      "source": [
        "<a href=\"https://colab.research.google.com/github/IndraniMandal/New-Revisions/blob/main/Regression_models.ipynb\" target=\"_parent\"><img src=\"https://colab.research.google.com/assets/colab-badge.svg\" alt=\"Open In Colab\"/></a>"
      ]
    },
    {
      "cell_type": "markdown",
      "metadata": {
        "id": "af38IWMRTWri"
      },
      "source": [
        "# Regression\n",
        "\n",
        "In regression problem we try to model continuous values rather than classifying a set of discrete values such as “salary” or “weight”. Many different models can be used, the simplest is linear regression. It tries to fit data with the best hyperplane which goes through the points.\n",
        "\n",
        "Regression analysis is a statistical technique used to model and understand the relationship between a dependent variable and one or more independent variables. There are several types of regression techniques, each suited for different types of data and different types of relationships."
      ]
    },
    {
      "cell_type": "markdown",
      "source": [
        "## [Types of Regression](https://www.analyticsvidhya.com/blog/2022/01/different-types-of-regression-models/)\n",
        "\n",
        "<img src = \"https://drive.google.com/uc?id=11Ks8GFOUpfH1MPgD9uKh1xZf8Lqox6Kk\" width=400>\n",
        "\n",
        "\n"
      ],
      "metadata": {
        "id": "D-QtG-JjD6QQ"
      }
    },
    {
      "cell_type": "markdown",
      "metadata": {
        "id": "XiIxfatMYEzX"
      },
      "source": [
        "## Linear Regression\n",
        "\n",
        "<img src = \"https://drive.google.com/uc?id=1GSgMdKffaKVAuiCKHA0GSBd0o5tJ446t\" width=400>\n"
      ]
    },
    {
      "cell_type": "markdown",
      "metadata": {
        "id": "M2LwPB5-YEzX"
      },
      "source": [
        "In linear regression we try to fit a line through (x,y) data.  This line becomes an estimator that, given an x value, will estimate the corresponding y value.\n",
        "\n",
        "Here is an example which given the speed of a car gives the breaking distance."
      ]
    },
    {
      "cell_type": "code",
      "metadata": {
        "id": "dpzatEUPYEzX"
      },
      "source": [
        "import matplotlib.pyplot as plt\n",
        "import pandas as pd\n",
        "from sklearn.model_selection import train_test_split"
      ],
      "execution_count": 1,
      "outputs": []
    },
    {
      "cell_type": "code",
      "metadata": {
        "id": "xNzFNfPDYEzX",
        "colab": {
          "base_uri": "https://localhost:8080/",
          "height": 206
        },
        "outputId": "b6519d2e-97dc-446e-b0d8-b9b4d36ac26c"
      },
      "source": [
        "# get our dataset\n",
        "url = 'https://raw.githubusercontent.com/IndraniMandal/ds-assets/main/assets/cars.csv' # the URL\n",
        "cars_df = pd.read_csv(url)\n",
        "cars_df.head()"
      ],
      "execution_count": 2,
      "outputs": [
        {
          "output_type": "execute_result",
          "data": {
            "text/plain": [
              "   speed  dist\n",
              "0      4     2\n",
              "1      4    10\n",
              "2      7     4\n",
              "3      7    22\n",
              "4      8    16"
            ],
            "text/html": [
              "\n",
              "  <div id=\"df-18e2691c-d109-4c66-b273-3c0ec0565937\">\n",
              "    <div class=\"colab-df-container\">\n",
              "      <div>\n",
              "<style scoped>\n",
              "    .dataframe tbody tr th:only-of-type {\n",
              "        vertical-align: middle;\n",
              "    }\n",
              "\n",
              "    .dataframe tbody tr th {\n",
              "        vertical-align: top;\n",
              "    }\n",
              "\n",
              "    .dataframe thead th {\n",
              "        text-align: right;\n",
              "    }\n",
              "</style>\n",
              "<table border=\"1\" class=\"dataframe\">\n",
              "  <thead>\n",
              "    <tr style=\"text-align: right;\">\n",
              "      <th></th>\n",
              "      <th>speed</th>\n",
              "      <th>dist</th>\n",
              "    </tr>\n",
              "  </thead>\n",
              "  <tbody>\n",
              "    <tr>\n",
              "      <th>0</th>\n",
              "      <td>4</td>\n",
              "      <td>2</td>\n",
              "    </tr>\n",
              "    <tr>\n",
              "      <th>1</th>\n",
              "      <td>4</td>\n",
              "      <td>10</td>\n",
              "    </tr>\n",
              "    <tr>\n",
              "      <th>2</th>\n",
              "      <td>7</td>\n",
              "      <td>4</td>\n",
              "    </tr>\n",
              "    <tr>\n",
              "      <th>3</th>\n",
              "      <td>7</td>\n",
              "      <td>22</td>\n",
              "    </tr>\n",
              "    <tr>\n",
              "      <th>4</th>\n",
              "      <td>8</td>\n",
              "      <td>16</td>\n",
              "    </tr>\n",
              "  </tbody>\n",
              "</table>\n",
              "</div>\n",
              "      <button class=\"colab-df-convert\" onclick=\"convertToInteractive('df-18e2691c-d109-4c66-b273-3c0ec0565937')\"\n",
              "              title=\"Convert this dataframe to an interactive table.\"\n",
              "              style=\"display:none;\">\n",
              "        \n",
              "  <svg xmlns=\"http://www.w3.org/2000/svg\" height=\"24px\"viewBox=\"0 0 24 24\"\n",
              "       width=\"24px\">\n",
              "    <path d=\"M0 0h24v24H0V0z\" fill=\"none\"/>\n",
              "    <path d=\"M18.56 5.44l.94 2.06.94-2.06 2.06-.94-2.06-.94-.94-2.06-.94 2.06-2.06.94zm-11 1L8.5 8.5l.94-2.06 2.06-.94-2.06-.94L8.5 2.5l-.94 2.06-2.06.94zm10 10l.94 2.06.94-2.06 2.06-.94-2.06-.94-.94-2.06-.94 2.06-2.06.94z\"/><path d=\"M17.41 7.96l-1.37-1.37c-.4-.4-.92-.59-1.43-.59-.52 0-1.04.2-1.43.59L10.3 9.45l-7.72 7.72c-.78.78-.78 2.05 0 2.83L4 21.41c.39.39.9.59 1.41.59.51 0 1.02-.2 1.41-.59l7.78-7.78 2.81-2.81c.8-.78.8-2.07 0-2.86zM5.41 20L4 18.59l7.72-7.72 1.47 1.35L5.41 20z\"/>\n",
              "  </svg>\n",
              "      </button>\n",
              "      \n",
              "  <style>\n",
              "    .colab-df-container {\n",
              "      display:flex;\n",
              "      flex-wrap:wrap;\n",
              "      gap: 12px;\n",
              "    }\n",
              "\n",
              "    .colab-df-convert {\n",
              "      background-color: #E8F0FE;\n",
              "      border: none;\n",
              "      border-radius: 50%;\n",
              "      cursor: pointer;\n",
              "      display: none;\n",
              "      fill: #1967D2;\n",
              "      height: 32px;\n",
              "      padding: 0 0 0 0;\n",
              "      width: 32px;\n",
              "    }\n",
              "\n",
              "    .colab-df-convert:hover {\n",
              "      background-color: #E2EBFA;\n",
              "      box-shadow: 0px 1px 2px rgba(60, 64, 67, 0.3), 0px 1px 3px 1px rgba(60, 64, 67, 0.15);\n",
              "      fill: #174EA6;\n",
              "    }\n",
              "\n",
              "    [theme=dark] .colab-df-convert {\n",
              "      background-color: #3B4455;\n",
              "      fill: #D2E3FC;\n",
              "    }\n",
              "\n",
              "    [theme=dark] .colab-df-convert:hover {\n",
              "      background-color: #434B5C;\n",
              "      box-shadow: 0px 1px 3px 1px rgba(0, 0, 0, 0.15);\n",
              "      filter: drop-shadow(0px 1px 2px rgba(0, 0, 0, 0.3));\n",
              "      fill: #FFFFFF;\n",
              "    }\n",
              "  </style>\n",
              "\n",
              "      <script>\n",
              "        const buttonEl =\n",
              "          document.querySelector('#df-18e2691c-d109-4c66-b273-3c0ec0565937 button.colab-df-convert');\n",
              "        buttonEl.style.display =\n",
              "          google.colab.kernel.accessAllowed ? 'block' : 'none';\n",
              "\n",
              "        async function convertToInteractive(key) {\n",
              "          const element = document.querySelector('#df-18e2691c-d109-4c66-b273-3c0ec0565937');\n",
              "          const dataTable =\n",
              "            await google.colab.kernel.invokeFunction('convertToInteractive',\n",
              "                                                     [key], {});\n",
              "          if (!dataTable) return;\n",
              "\n",
              "          const docLinkHtml = 'Like what you see? Visit the ' +\n",
              "            '<a target=\"_blank\" href=https://colab.research.google.com/notebooks/data_table.ipynb>data table notebook</a>'\n",
              "            + ' to learn more about interactive tables.';\n",
              "          element.innerHTML = '';\n",
              "          dataTable['output_type'] = 'display_data';\n",
              "          await google.colab.output.renderOutput(dataTable, element);\n",
              "          const docLink = document.createElement('div');\n",
              "          docLink.innerHTML = docLinkHtml;\n",
              "          element.appendChild(docLink);\n",
              "        }\n",
              "      </script>\n",
              "    </div>\n",
              "  </div>\n",
              "  "
            ]
          },
          "metadata": {},
          "execution_count": 2
        }
      ]
    },
    {
      "cell_type": "code",
      "metadata": {
        "id": "LzJIxfMuYEzY",
        "colab": {
          "base_uri": "https://localhost:8080/",
          "height": 279
        },
        "outputId": "859d02c3-79d6-4d0f-f0b6-bef074c6d73e"
      },
      "source": [
        "# the array only has a single feature\n",
        "features= cars_df['speed'].values.reshape(-1,1)\n",
        "#target\n",
        "target= cars_df['dist']\n",
        "\n",
        "# split the data\n",
        "X_train, X_test, y_train, y_test = train_test_split(features, target, \n",
        "                                    train_size=0.8, test_size=0.2, random_state=2)\n",
        "plt.scatter(X_train, y_train)\n",
        "plt.xlabel('speed')\n",
        "plt.ylabel('dist')\n",
        "plt.show()"
      ],
      "execution_count": 3,
      "outputs": [
        {
          "output_type": "display_data",
          "data": {
            "text/plain": [
              "<Figure size 432x288 with 1 Axes>"
            ],
            "image/png": "[encoded data removed]"
          },
          "metadata": {
            "needs_background": "light"
          }
        }
      ]
    },
    {
      "cell_type": "markdown",
      "metadata": {
        "id": "YLa03KXqYEzY"
      },
      "source": [
        "We will model the relationship between speed and distance with a linear model."
      ]
    },
    {
      "cell_type": "code",
      "metadata": {
        "id": "H1yG_3p0YEzZ",
        "colab": {
          "base_uri": "https://localhost:8080/",
          "height": 314
        },
        "outputId": "0953e672-080c-40aa-e6c9-edfd2387f295"
      },
      "source": [
        "# pick model\n",
        "from sklearn.linear_model import LinearRegression\n",
        "model = LinearRegression(fit_intercept=True)\n",
        "model.fit(X_train, y_train)\n",
        "\n",
        "# plot the model ontop of the data\n",
        "# plot the data\n",
        "plt.scatter(X_train, y_train)\n",
        "plt.xlabel('speed')\n",
        "plt.ylabel('dist')\n",
        "\n",
        "# plot the model\n",
        "x_ticks = [0,25]\n",
        "y_ticks = [model.coef_[0] * i + model.intercept_ for i in x_ticks]\n",
        "plt.plot(x_ticks,y_ticks,\"r-\")\n",
        "plt.show()\n",
        "\n",
        "# look at the model parameters\n",
        "print(\"slope: \", model.coef_)\n",
        "print(\"intercept: {:3.2f}\".format(model.intercept_))"
      ],
      "execution_count": 4,
      "outputs": [
        {
          "output_type": "display_data",
          "data": {
            "text/plain": [
              "<Figure size 432x288 with 1 Axes>"
            ],
            "image/png": "[encoded data removed]"
          },
          "metadata": {
            "needs_background": "light"
          }
        },
        {
          "output_type": "stream",
          "name": "stdout",
          "text": [
            "slope:  [3.93451963]\n",
            "intercept: -16.09\n"
          ]
        }
      ]
    },
    {
      "cell_type": "markdown",
      "metadata": {
        "id": "a5VlDtXmYEza"
      },
      "source": [
        "## Regression Model Evaluation\n",
        "\n",
        "Regression models do not have a notion of **classification accuracy** as we saw with decision trees and perceptrons, but they have an [$R^2$ score](https://en.wikipedia.org/wiki/Coefficient_of_determination).  Here, the closer to 1.0 the score the better the model. \n"
      ]
    },
    {
      "cell_type": "code",
      "metadata": {
        "id": "vZPg7V3CYEza",
        "colab": {
          "base_uri": "https://localhost:8080/"
        },
        "outputId": "9561b2a8-6f45-456a-c08b-efa51830a0ab"
      },
      "source": [
        "# Training R^2 score \n",
        "print(\"Train R^2 score: {:3.2f}\".format(model.score(X_train, y_train)))"
      ],
      "execution_count": 5,
      "outputs": [
        {
          "output_type": "stream",
          "name": "stdout",
          "text": [
            "Training R^2 score: 0.62\n"
          ]
        }
      ]
    },
    {
      "cell_type": "code",
      "source": [
        "from sklearn import metrics \n",
        "# Model prediction on test data with linear regression\n",
        "pred = model.predict(X_test)\n",
        "print(\"Test R^2 score: {:3.2f}\".format(metrics.r2_score(y_test, pred)))"
      ],
      "metadata": {
        "colab": {
          "base_uri": "https://localhost:8080/"
        },
        "id": "4mYkPtjxOYPT",
        "outputId": "e9ae703f-0078-4ae9-9b6e-b20469f19641"
      },
      "execution_count": 6,
      "outputs": [
        {
          "output_type": "stream",
          "name": "stdout",
          "text": [
            "Test R^2 score: 0.74\n"
          ]
        }
      ]
    },
    {
      "cell_type": "markdown",
      "metadata": {
        "id": "f108WEu9YEza"
      },
      "source": [
        "Not that great.  The low score is mainly due to the fact of the large errors (also called residuals) at the higher end of the speed spectrum.  The problem is that the data probably does not follow a linear relationship between speed and braking distance.  Let's try a different (non-linear) regression model to see if it can pick up this non-linear relationship."
      ]
    },
    {
      "cell_type": "markdown",
      "metadata": {
        "id": "astsTA59YEzb"
      },
      "source": [
        "## Non-Linear Regression: Regression Trees"
      ]
    },
    {
      "cell_type": "code",
      "metadata": {
        "id": "lkRJpjLEYEzb",
        "colab": {
          "base_uri": "https://localhost:8080/",
          "height": 297
        },
        "outputId": "dd4803f6-3f10-4548-d53a-e9e80574a1f1"
      },
      "source": [
        "# pick model\n",
        "from sklearn.tree import DecisionTreeRegressor\n",
        "model = DecisionTreeRegressor(max_depth=None)\n",
        "model.fit(features, target)\n",
        "\n",
        "# plot the model ontop of the data\n",
        "plt.scatter(X_train, y_train)\n",
        "plt.xlabel('speed')\n",
        "plt.ylabel('dist')\n",
        "\n",
        "# 0 to 25 in .1 increments\n",
        "x_ticks = pd.DataFrame(list(range(0,251))) / 10.0\n",
        "y_ticks = pd.DataFrame(model.predict(x_ticks))\n",
        "plt.plot(list(x_ticks[0]),list(y_ticks[0]),\"r-\")\n",
        "plt.show()\n",
        "\n",
        "# compute the R^2 score \n",
        "print(\"R^2 score: {:3.2f}\".format(model.score(X_train, y_train)))"
      ],
      "execution_count": 7,
      "outputs": [
        {
          "output_type": "display_data",
          "data": {
            "text/plain": [
              "<Figure size 432x288 with 1 Axes>"
            ],
            "image/png": "[encoded data removed]"
          },
          "metadata": {
            "needs_background": "light"
          }
        },
        {
          "output_type": "stream",
          "name": "stdout",
          "text": [
            "R^2 score: 0.73\n"
          ]
        }
      ]
    },
    {
      "cell_type": "markdown",
      "metadata": {
        "id": "cA2mM71hXWkH"
      },
      "source": [
        "Yes, going to a non-linear regression model certainly improved things.  Although we have to be careful, the reported model performance is likely too optimistic, the model is **overfit**,  because we let the tree model grow without any constraints. We will take a look at this issue once we learn how to evaluate models properly and put some confidence values the obtained results."
      ]
    },
    {
      "cell_type": "markdown",
      "source": [
        "## Regression Confidence Intervals\n",
        "When performing regression we use the $R^2$ score to examine the quality of our models. Given that we only use a small training dataset for fitting the model compared to the rest of the data universe it is only natural to ask what the 95% confidence interval for this score might be. We have a formula for that -- it is not as straight forward as the confidence interval for classification,\n",
        "\n",
        "\\begin{equation}\n",
        "lb = R^2 - 2\\sqrt\\frac{4R^2(1-R^2)(n-k-1)}{(n^2-1)(n+3)}\n",
        "\\end{equation}\n",
        "\n",
        "\\begin{equation}\n",
        "ub = R^2 + 2\\sqrt\\frac{4R^2(1-R^2)(n-k-1)}{(n^2-1)(n+3)}\n",
        "\\end{equation}\n",
        "\n",
        "Here, `n` is the number of observations in the validation/testing dataset and `k` is the number of independent variables."
      ],
      "metadata": {
        "id": "rKhT0Ha5Iftq"
      }
    },
    {
      "cell_type": "markdown",
      "source": [
        "###95% confidence intervals for regression problems"
      ],
      "metadata": {
        "id": "X51r1RsDIB3D"
      }
    },
    {
      "cell_type": "code",
      "source": [
        "def regression_confint(rs_score, n, k):\n",
        "    '''\n",
        "    Compute the 95% confidence interval for a regression problem.\n",
        "      rs_score -- R^2 score\n",
        "      n        -- number of observations used to compute the R^2 score\n",
        "      k        -- number of independent variables in dataset\n",
        "    Returns a tuple (lb,ub)\n",
        "    Reference:\n",
        "    https://books.google.com/books?id=gkalyqTMXNEC&pg=PA88#v=onepage&q&f=false\n",
        "    '''\n",
        "    import math\n",
        "    interval = 2*math.sqrt((4*rs_score*(1-rs_score)**2*(n-k-1)**2)/((n**2 - 1)*(n+3)))\n",
        "    lb = max(0, rs_score - interval)\n",
        "    ub = min(1.0, rs_score + interval)\n",
        "    return (lb,ub)"
      ],
      "metadata": {
        "id": "opALa8kOIDI6"
      },
      "execution_count": 8,
      "outputs": []
    },
    {
      "cell_type": "code",
      "source": [
        "rs_score = .75\n",
        "observations = 100\n",
        "variables = 4 # independent variables\n",
        "\n",
        "lb,ub = regression_confint(rs_score, observations, variables)\n",
        "print(\"R^2 Score: {:3.2f} ({:3.2f}, {:3.2f})\".format(rs_score,lb,ub))"
      ],
      "metadata": {
        "colab": {
          "base_uri": "https://localhost:8080/"
        },
        "id": "Sv3SKGovJID6",
        "outputId": "ceb4d2da-58dd-445d-cb88-21c01e32c6ae"
      },
      "execution_count": 9,
      "outputs": [
        {
          "output_type": "stream",
          "name": "stdout",
          "text": [
            "R^2 Score: 0.75 (0.67, 0.83)\n"
          ]
        }
      ]
    },
    {
      "cell_type": "markdown",
      "source": [
        "### CI for the cars dataset"
      ],
      "metadata": {
        "id": "WWUhKmbuQVAu"
      }
    },
    {
      "cell_type": "code",
      "source": [
        "# R^2 score\n",
        "from sklearn import metrics \n",
        "# Model prediction on test data with linear regression\n",
        "pred = model.predict(X_test)\n",
        "rs_score = metrics.r2_score(y_test, pred)\n",
        "print(\"Test R^2 score: {:3.2f}\".format(rs_score))\n",
        "\n",
        "observations = cars_df.shape[0]\n",
        "variables = 1\n",
        "lb,ub = regression_confint(rs_score, observations, variables)\n",
        "\n",
        "# print out R^2 score with its 95% confidence interval\n",
        "print(\"R^2 Score: {:3.2f} ({:3.2f}, {:3.2f})\".format(rs_score,lb,ub))"
      ],
      "metadata": {
        "colab": {
          "base_uri": "https://localhost:8080/"
        },
        "id": "fRs8wUm5JawO",
        "outputId": "8dafb7d7-3eb1-4bbc-d0a7-d3e248904f9a"
      },
      "execution_count": 10,
      "outputs": [
        {
          "output_type": "stream",
          "name": "stdout",
          "text": [
            "Test R^2 score: 0.96\n",
            "R^2 Score: 0.96 (0.94, 0.98)\n"
          ]
        }
      ]
    },
    {
      "cell_type": "markdown",
      "metadata": {
        "id": "mES2AcizYEzc"
      },
      "source": [
        "# Scikit-Learn Models\n",
        "\n",
        "Scikit-Learn has a \"standardized\" view of how to build models and evaluate them:\n",
        "\n",
        "1. Prepare your data (using Pandas)\n",
        "  * `pd.read_csv`\n",
        "  * `df.drop`\n",
        "  * `df.head`\n",
        "1. Pick your model and instantiate the model object, e.g.\n",
        "  * decision trees: `tree.DecisionTreeClassifier(criterion='entropy')`\n",
        "  * linear models: `LinearRegression(fit_intercept=True)`\n",
        "1. Fit your model: the `fit` function.\n",
        "1. Evaluate your model:\n",
        "  * decision trees: `accuracy_score`\n",
        "  * linear models ($R^2$-score): `score`"
      ]
    },
    {
      "cell_type": "markdown",
      "metadata": {
        "id": "c5KX5U7eYEzc"
      },
      "source": [
        "# Models\n",
        "\n",
        "In machine learning we focus on *model performance* rather than looking at the internal model parameters.\n",
        "\n",
        "For example, from a machine learning perspective in linear models the most important part is the $R^2$ score, the internal model coefficients are really coincidental and are only used to visualize the model.\n",
        "\n",
        "We see this approach throughout all of the models we will be looking at.  Furthermore, some machine learning models simply do not have useful model parameters to look at, *e.g.*, neural networks."
      ]
    }
  ]
}